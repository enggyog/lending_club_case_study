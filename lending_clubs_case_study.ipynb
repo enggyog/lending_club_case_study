{
 "cells": [
  {
   "cell_type": "markdown",
   "id": "c1db0ad5",
   "metadata": {},
   "source": [
    "#### Import necessary libaries like pandas which is used to read csv,numpy for numerical analysis as well matplotlib and sns for graphs"
   ]
  },
  {
   "cell_type": "code",
   "execution_count": 1,
   "id": "95485d57",
   "metadata": {},
   "outputs": [],
   "source": [
    "import pandas as pd\n",
    "import numpy as np\n",
    "import matplotlib.pyplot as plt\n",
    "import seaborn as sns"
   ]
  },
  {
   "cell_type": "code",
   "execution_count": 2,
   "id": "403e87d5",
   "metadata": {},
   "outputs": [
    {
     "name": "stderr",
     "output_type": "stream",
     "text": [
      "C:\\Users\\bhavit\\anaconda\\lib\\site-packages\\IPython\\core\\interactiveshell.py:3165: DtypeWarning: Columns (47) have mixed types.Specify dtype option on import or set low_memory=False.\n",
      "  has_raised = await self.run_ast_nodes(code_ast.body, cell_name,\n"
     ]
    }
   ],
   "source": [
    "#Read loan csv and keep records having Fully paid or Charged Off status \n",
    "loan=pd.read_csv(\"C:\\\\Users\\\\bhavit\\\\Desktop\\\\lending_club_case_study\\\\loan.csv\")\n",
    "loanDf=loan[(loan.loan_status.str.strip() =='Fully Paid') | (loan.loan_status.str.strip() =='Charged Off') ]"
   ]
  },
  {
   "cell_type": "code",
   "execution_count": 3,
   "id": "5d852ab1",
   "metadata": {},
   "outputs": [
    {
     "name": "stdout",
     "output_type": "stream",
     "text": [
      "39717\n",
      "38577\n"
     ]
    }
   ],
   "source": [
    "#see the number of counts for the original dataframe and filtered dataframe \n",
    "print(loan.shape[0])\n",
    "print(loanDf.shape[0])"
   ]
  },
  {
   "cell_type": "code",
   "execution_count": 4,
   "id": "a0817472",
   "metadata": {},
   "outputs": [
    {
     "name": "stdout",
     "output_type": "stream",
     "text": [
      "<class 'pandas.core.frame.DataFrame'>\n",
      "Int64Index: 38577 entries, 0 to 39716\n",
      "Data columns (total 111 columns):\n",
      " #    Column                          Non-Null Count  Dtype  \n",
      "---   ------                          --------------  -----  \n",
      " 0    id                              38577 non-null  int64  \n",
      " 1    member_id                       38577 non-null  int64  \n",
      " 2    loan_amnt                       38577 non-null  int64  \n",
      " 3    funded_amnt                     38577 non-null  int64  \n",
      " 4    funded_amnt_inv                 38577 non-null  float64\n",
      " 5    term                            38577 non-null  object \n",
      " 6    int_rate                        38577 non-null  object \n",
      " 7    installment                     38577 non-null  float64\n",
      " 8    grade                           38577 non-null  object \n",
      " 9    sub_grade                       38577 non-null  object \n",
      " 10   emp_title                       36191 non-null  object \n",
      " 11   emp_length                      37544 non-null  object \n",
      " 12   home_ownership                  38577 non-null  object \n",
      " 13   annual_inc                      38577 non-null  float64\n",
      " 14   verification_status             38577 non-null  object \n",
      " 15   issue_d                         38577 non-null  object \n",
      " 16   loan_status                     38577 non-null  object \n",
      " 17   pymnt_plan                      38577 non-null  object \n",
      " 18   url                             38577 non-null  object \n",
      " 19   desc                            26050 non-null  object \n",
      " 20   purpose                         38577 non-null  object \n",
      " 21   title                           38566 non-null  object \n",
      " 22   zip_code                        38577 non-null  object \n",
      " 23   addr_state                      38577 non-null  object \n",
      " 24   dti                             38577 non-null  float64\n",
      " 25   delinq_2yrs                     38577 non-null  int64  \n",
      " 26   earliest_cr_line                38577 non-null  object \n",
      " 27   inq_last_6mths                  38577 non-null  int64  \n",
      " 28   mths_since_last_delinq          13672 non-null  float64\n",
      " 29   mths_since_last_record          2740 non-null   float64\n",
      " 30   open_acc                        38577 non-null  int64  \n",
      " 31   pub_rec                         38577 non-null  int64  \n",
      " 32   revol_bal                       38577 non-null  int64  \n",
      " 33   revol_util                      38527 non-null  object \n",
      " 34   total_acc                       38577 non-null  int64  \n",
      " 35   initial_list_status             38577 non-null  object \n",
      " 36   out_prncp                       38577 non-null  float64\n",
      " 37   out_prncp_inv                   38577 non-null  float64\n",
      " 38   total_pymnt                     38577 non-null  float64\n",
      " 39   total_pymnt_inv                 38577 non-null  float64\n",
      " 40   total_rec_prncp                 38577 non-null  float64\n",
      " 41   total_rec_int                   38577 non-null  float64\n",
      " 42   total_rec_late_fee              38577 non-null  float64\n",
      " 43   recoveries                      38577 non-null  float64\n",
      " 44   collection_recovery_fee         38577 non-null  float64\n",
      " 45   last_pymnt_d                    38506 non-null  object \n",
      " 46   last_pymnt_amnt                 38577 non-null  float64\n",
      " 47   next_pymnt_d                    0 non-null      object \n",
      " 48   last_credit_pull_d              38575 non-null  object \n",
      " 49   collections_12_mths_ex_med      38521 non-null  float64\n",
      " 50   mths_since_last_major_derog     0 non-null      float64\n",
      " 51   policy_code                     38577 non-null  int64  \n",
      " 52   application_type                38577 non-null  object \n",
      " 53   annual_inc_joint                0 non-null      float64\n",
      " 54   dti_joint                       0 non-null      float64\n",
      " 55   verification_status_joint       0 non-null      float64\n",
      " 56   acc_now_delinq                  38577 non-null  int64  \n",
      " 57   tot_coll_amt                    0 non-null      float64\n",
      " 58   tot_cur_bal                     0 non-null      float64\n",
      " 59   open_acc_6m                     0 non-null      float64\n",
      " 60   open_il_6m                      0 non-null      float64\n",
      " 61   open_il_12m                     0 non-null      float64\n",
      " 62   open_il_24m                     0 non-null      float64\n",
      " 63   mths_since_rcnt_il              0 non-null      float64\n",
      " 64   total_bal_il                    0 non-null      float64\n",
      " 65   il_util                         0 non-null      float64\n",
      " 66   open_rv_12m                     0 non-null      float64\n",
      " 67   open_rv_24m                     0 non-null      float64\n",
      " 68   max_bal_bc                      0 non-null      float64\n",
      " 69   all_util                        0 non-null      float64\n",
      " 70   total_rev_hi_lim                0 non-null      float64\n",
      " 71   inq_fi                          0 non-null      float64\n",
      " 72   total_cu_tl                     0 non-null      float64\n",
      " 73   inq_last_12m                    0 non-null      float64\n",
      " 74   acc_open_past_24mths            0 non-null      float64\n",
      " 75   avg_cur_bal                     0 non-null      float64\n",
      " 76   bc_open_to_buy                  0 non-null      float64\n",
      " 77   bc_util                         0 non-null      float64\n",
      " 78   chargeoff_within_12_mths        38521 non-null  float64\n",
      " 79   delinq_amnt                     38577 non-null  int64  \n",
      " 80   mo_sin_old_il_acct              0 non-null      float64\n",
      " 81   mo_sin_old_rev_tl_op            0 non-null      float64\n",
      " 82   mo_sin_rcnt_rev_tl_op           0 non-null      float64\n",
      " 83   mo_sin_rcnt_tl                  0 non-null      float64\n",
      " 84   mort_acc                        0 non-null      float64\n",
      " 85   mths_since_recent_bc            0 non-null      float64\n",
      " 86   mths_since_recent_bc_dlq        0 non-null      float64\n",
      " 87   mths_since_recent_inq           0 non-null      float64\n",
      " 88   mths_since_recent_revol_delinq  0 non-null      float64\n",
      " 89   num_accts_ever_120_pd           0 non-null      float64\n",
      " 90   num_actv_bc_tl                  0 non-null      float64\n",
      " 91   num_actv_rev_tl                 0 non-null      float64\n",
      " 92   num_bc_sats                     0 non-null      float64\n",
      " 93   num_bc_tl                       0 non-null      float64\n",
      " 94   num_il_tl                       0 non-null      float64\n",
      " 95   num_op_rev_tl                   0 non-null      float64\n",
      " 96   num_rev_accts                   0 non-null      float64\n",
      " 97   num_rev_tl_bal_gt_0             0 non-null      float64\n",
      " 98   num_sats                        0 non-null      float64\n",
      " 99   num_tl_120dpd_2m                0 non-null      float64\n",
      " 100  num_tl_30dpd                    0 non-null      float64\n",
      " 101  num_tl_90g_dpd_24m              0 non-null      float64\n",
      " 102  num_tl_op_past_12m              0 non-null      float64\n",
      " 103  pct_tl_nvr_dlq                  0 non-null      float64\n",
      " 104  percent_bc_gt_75                0 non-null      float64\n",
      " 105  pub_rec_bankruptcies            37880 non-null  float64\n",
      " 106  tax_liens                       38538 non-null  float64\n",
      " 107  tot_hi_cred_lim                 0 non-null      float64\n",
      " 108  total_bal_ex_mort               0 non-null      float64\n",
      " 109  total_bc_limit                  0 non-null      float64\n",
      " 110  total_il_high_credit_limit      0 non-null      float64\n",
      "dtypes: float64(74), int64(13), object(24)\n",
      "memory usage: 33.0+ MB\n"
     ]
    }
   ],
   "source": [
    "#Check not null count of each column to ensure data quality\n",
    "loanDf.info(verbose=True, show_counts=True)"
   ]
  },
  {
   "cell_type": "code",
   "execution_count": 5,
   "id": "cee944dd",
   "metadata": {},
   "outputs": [
    {
     "data": {
      "text/html": [
       "<div>\n",
       "<style scoped>\n",
       "    .dataframe tbody tr th:only-of-type {\n",
       "        vertical-align: middle;\n",
       "    }\n",
       "\n",
       "    .dataframe tbody tr th {\n",
       "        vertical-align: top;\n",
       "    }\n",
       "\n",
       "    .dataframe thead th {\n",
       "        text-align: right;\n",
       "    }\n",
       "</style>\n",
       "<table border=\"1\" class=\"dataframe\">\n",
       "  <thead>\n",
       "    <tr style=\"text-align: right;\">\n",
       "      <th></th>\n",
       "      <th>id</th>\n",
       "      <th>member_id</th>\n",
       "      <th>loan_amnt</th>\n",
       "      <th>funded_amnt</th>\n",
       "      <th>funded_amnt_inv</th>\n",
       "      <th>installment</th>\n",
       "      <th>annual_inc</th>\n",
       "      <th>dti</th>\n",
       "      <th>delinq_2yrs</th>\n",
       "      <th>inq_last_6mths</th>\n",
       "      <th>...</th>\n",
       "      <th>num_tl_90g_dpd_24m</th>\n",
       "      <th>num_tl_op_past_12m</th>\n",
       "      <th>pct_tl_nvr_dlq</th>\n",
       "      <th>percent_bc_gt_75</th>\n",
       "      <th>pub_rec_bankruptcies</th>\n",
       "      <th>tax_liens</th>\n",
       "      <th>tot_hi_cred_lim</th>\n",
       "      <th>total_bal_ex_mort</th>\n",
       "      <th>total_bc_limit</th>\n",
       "      <th>total_il_high_credit_limit</th>\n",
       "    </tr>\n",
       "  </thead>\n",
       "  <tbody>\n",
       "    <tr>\n",
       "      <th>count</th>\n",
       "      <td>3.857700e+04</td>\n",
       "      <td>3.857700e+04</td>\n",
       "      <td>38577.000000</td>\n",
       "      <td>38577.000000</td>\n",
       "      <td>38577.000000</td>\n",
       "      <td>38577.000000</td>\n",
       "      <td>3.857700e+04</td>\n",
       "      <td>38577.000000</td>\n",
       "      <td>38577.000000</td>\n",
       "      <td>38577.000000</td>\n",
       "      <td>...</td>\n",
       "      <td>0.0</td>\n",
       "      <td>0.0</td>\n",
       "      <td>0.0</td>\n",
       "      <td>0.0</td>\n",
       "      <td>37880.000000</td>\n",
       "      <td>38538.0</td>\n",
       "      <td>0.0</td>\n",
       "      <td>0.0</td>\n",
       "      <td>0.0</td>\n",
       "      <td>0.0</td>\n",
       "    </tr>\n",
       "    <tr>\n",
       "      <th>mean</th>\n",
       "      <td>6.763787e+05</td>\n",
       "      <td>8.422843e+05</td>\n",
       "      <td>11047.025430</td>\n",
       "      <td>10784.058506</td>\n",
       "      <td>10222.481123</td>\n",
       "      <td>322.466318</td>\n",
       "      <td>6.877797e+04</td>\n",
       "      <td>13.272727</td>\n",
       "      <td>0.146668</td>\n",
       "      <td>0.871737</td>\n",
       "      <td>...</td>\n",
       "      <td>NaN</td>\n",
       "      <td>NaN</td>\n",
       "      <td>NaN</td>\n",
       "      <td>NaN</td>\n",
       "      <td>0.043479</td>\n",
       "      <td>0.0</td>\n",
       "      <td>NaN</td>\n",
       "      <td>NaN</td>\n",
       "      <td>NaN</td>\n",
       "      <td>NaN</td>\n",
       "    </tr>\n",
       "    <tr>\n",
       "      <th>std</th>\n",
       "      <td>2.092639e+05</td>\n",
       "      <td>2.644519e+05</td>\n",
       "      <td>7348.441646</td>\n",
       "      <td>7090.306027</td>\n",
       "      <td>7022.720644</td>\n",
       "      <td>208.639215</td>\n",
       "      <td>6.421868e+04</td>\n",
       "      <td>6.673044</td>\n",
       "      <td>0.492271</td>\n",
       "      <td>1.071546</td>\n",
       "      <td>...</td>\n",
       "      <td>NaN</td>\n",
       "      <td>NaN</td>\n",
       "      <td>NaN</td>\n",
       "      <td>NaN</td>\n",
       "      <td>0.204583</td>\n",
       "      <td>0.0</td>\n",
       "      <td>NaN</td>\n",
       "      <td>NaN</td>\n",
       "      <td>NaN</td>\n",
       "      <td>NaN</td>\n",
       "    </tr>\n",
       "    <tr>\n",
       "      <th>min</th>\n",
       "      <td>5.473400e+04</td>\n",
       "      <td>7.069900e+04</td>\n",
       "      <td>500.000000</td>\n",
       "      <td>500.000000</td>\n",
       "      <td>0.000000</td>\n",
       "      <td>15.690000</td>\n",
       "      <td>4.000000e+03</td>\n",
       "      <td>0.000000</td>\n",
       "      <td>0.000000</td>\n",
       "      <td>0.000000</td>\n",
       "      <td>...</td>\n",
       "      <td>NaN</td>\n",
       "      <td>NaN</td>\n",
       "      <td>NaN</td>\n",
       "      <td>NaN</td>\n",
       "      <td>0.000000</td>\n",
       "      <td>0.0</td>\n",
       "      <td>NaN</td>\n",
       "      <td>NaN</td>\n",
       "      <td>NaN</td>\n",
       "      <td>NaN</td>\n",
       "    </tr>\n",
       "    <tr>\n",
       "      <th>25%</th>\n",
       "      <td>5.120330e+05</td>\n",
       "      <td>6.611310e+05</td>\n",
       "      <td>5300.000000</td>\n",
       "      <td>5200.000000</td>\n",
       "      <td>5000.000000</td>\n",
       "      <td>165.740000</td>\n",
       "      <td>4.000000e+04</td>\n",
       "      <td>8.130000</td>\n",
       "      <td>0.000000</td>\n",
       "      <td>0.000000</td>\n",
       "      <td>...</td>\n",
       "      <td>NaN</td>\n",
       "      <td>NaN</td>\n",
       "      <td>NaN</td>\n",
       "      <td>NaN</td>\n",
       "      <td>0.000000</td>\n",
       "      <td>0.0</td>\n",
       "      <td>NaN</td>\n",
       "      <td>NaN</td>\n",
       "      <td>NaN</td>\n",
       "      <td>NaN</td>\n",
       "    </tr>\n",
       "    <tr>\n",
       "      <th>50%</th>\n",
       "      <td>6.564230e+05</td>\n",
       "      <td>8.392920e+05</td>\n",
       "      <td>9600.000000</td>\n",
       "      <td>9550.000000</td>\n",
       "      <td>8733.440000</td>\n",
       "      <td>277.860000</td>\n",
       "      <td>5.886800e+04</td>\n",
       "      <td>13.370000</td>\n",
       "      <td>0.000000</td>\n",
       "      <td>1.000000</td>\n",
       "      <td>...</td>\n",
       "      <td>NaN</td>\n",
       "      <td>NaN</td>\n",
       "      <td>NaN</td>\n",
       "      <td>NaN</td>\n",
       "      <td>0.000000</td>\n",
       "      <td>0.0</td>\n",
       "      <td>NaN</td>\n",
       "      <td>NaN</td>\n",
       "      <td>NaN</td>\n",
       "      <td>NaN</td>\n",
       "    </tr>\n",
       "    <tr>\n",
       "      <th>75%</th>\n",
       "      <td>8.291460e+05</td>\n",
       "      <td>1.037336e+06</td>\n",
       "      <td>15000.000000</td>\n",
       "      <td>15000.000000</td>\n",
       "      <td>14000.000000</td>\n",
       "      <td>425.550000</td>\n",
       "      <td>8.200000e+04</td>\n",
       "      <td>18.560000</td>\n",
       "      <td>0.000000</td>\n",
       "      <td>1.000000</td>\n",
       "      <td>...</td>\n",
       "      <td>NaN</td>\n",
       "      <td>NaN</td>\n",
       "      <td>NaN</td>\n",
       "      <td>NaN</td>\n",
       "      <td>0.000000</td>\n",
       "      <td>0.0</td>\n",
       "      <td>NaN</td>\n",
       "      <td>NaN</td>\n",
       "      <td>NaN</td>\n",
       "      <td>NaN</td>\n",
       "    </tr>\n",
       "    <tr>\n",
       "      <th>max</th>\n",
       "      <td>1.077501e+06</td>\n",
       "      <td>1.314167e+06</td>\n",
       "      <td>35000.000000</td>\n",
       "      <td>35000.000000</td>\n",
       "      <td>35000.000000</td>\n",
       "      <td>1305.190000</td>\n",
       "      <td>6.000000e+06</td>\n",
       "      <td>29.990000</td>\n",
       "      <td>11.000000</td>\n",
       "      <td>8.000000</td>\n",
       "      <td>...</td>\n",
       "      <td>NaN</td>\n",
       "      <td>NaN</td>\n",
       "      <td>NaN</td>\n",
       "      <td>NaN</td>\n",
       "      <td>2.000000</td>\n",
       "      <td>0.0</td>\n",
       "      <td>NaN</td>\n",
       "      <td>NaN</td>\n",
       "      <td>NaN</td>\n",
       "      <td>NaN</td>\n",
       "    </tr>\n",
       "  </tbody>\n",
       "</table>\n",
       "<p>8 rows × 87 columns</p>\n",
       "</div>"
      ],
      "text/plain": [
       "                 id     member_id     loan_amnt   funded_amnt  \\\n",
       "count  3.857700e+04  3.857700e+04  38577.000000  38577.000000   \n",
       "mean   6.763787e+05  8.422843e+05  11047.025430  10784.058506   \n",
       "std    2.092639e+05  2.644519e+05   7348.441646   7090.306027   \n",
       "min    5.473400e+04  7.069900e+04    500.000000    500.000000   \n",
       "25%    5.120330e+05  6.611310e+05   5300.000000   5200.000000   \n",
       "50%    6.564230e+05  8.392920e+05   9600.000000   9550.000000   \n",
       "75%    8.291460e+05  1.037336e+06  15000.000000  15000.000000   \n",
       "max    1.077501e+06  1.314167e+06  35000.000000  35000.000000   \n",
       "\n",
       "       funded_amnt_inv   installment    annual_inc           dti  \\\n",
       "count     38577.000000  38577.000000  3.857700e+04  38577.000000   \n",
       "mean      10222.481123    322.466318  6.877797e+04     13.272727   \n",
       "std        7022.720644    208.639215  6.421868e+04      6.673044   \n",
       "min           0.000000     15.690000  4.000000e+03      0.000000   \n",
       "25%        5000.000000    165.740000  4.000000e+04      8.130000   \n",
       "50%        8733.440000    277.860000  5.886800e+04     13.370000   \n",
       "75%       14000.000000    425.550000  8.200000e+04     18.560000   \n",
       "max       35000.000000   1305.190000  6.000000e+06     29.990000   \n",
       "\n",
       "        delinq_2yrs  inq_last_6mths  ...  num_tl_90g_dpd_24m  \\\n",
       "count  38577.000000    38577.000000  ...                 0.0   \n",
       "mean       0.146668        0.871737  ...                 NaN   \n",
       "std        0.492271        1.071546  ...                 NaN   \n",
       "min        0.000000        0.000000  ...                 NaN   \n",
       "25%        0.000000        0.000000  ...                 NaN   \n",
       "50%        0.000000        1.000000  ...                 NaN   \n",
       "75%        0.000000        1.000000  ...                 NaN   \n",
       "max       11.000000        8.000000  ...                 NaN   \n",
       "\n",
       "       num_tl_op_past_12m  pct_tl_nvr_dlq  percent_bc_gt_75  \\\n",
       "count                 0.0             0.0               0.0   \n",
       "mean                  NaN             NaN               NaN   \n",
       "std                   NaN             NaN               NaN   \n",
       "min                   NaN             NaN               NaN   \n",
       "25%                   NaN             NaN               NaN   \n",
       "50%                   NaN             NaN               NaN   \n",
       "75%                   NaN             NaN               NaN   \n",
       "max                   NaN             NaN               NaN   \n",
       "\n",
       "       pub_rec_bankruptcies  tax_liens  tot_hi_cred_lim  total_bal_ex_mort  \\\n",
       "count          37880.000000    38538.0              0.0                0.0   \n",
       "mean               0.043479        0.0              NaN                NaN   \n",
       "std                0.204583        0.0              NaN                NaN   \n",
       "min                0.000000        0.0              NaN                NaN   \n",
       "25%                0.000000        0.0              NaN                NaN   \n",
       "50%                0.000000        0.0              NaN                NaN   \n",
       "75%                0.000000        0.0              NaN                NaN   \n",
       "max                2.000000        0.0              NaN                NaN   \n",
       "\n",
       "       total_bc_limit  total_il_high_credit_limit  \n",
       "count             0.0                         0.0  \n",
       "mean              NaN                         NaN  \n",
       "std               NaN                         NaN  \n",
       "min               NaN                         NaN  \n",
       "25%               NaN                         NaN  \n",
       "50%               NaN                         NaN  \n",
       "75%               NaN                         NaN  \n",
       "max               NaN                         NaN  \n",
       "\n",
       "[8 rows x 87 columns]"
      ]
     },
     "execution_count": 5,
     "metadata": {},
     "output_type": "execute_result"
    }
   ],
   "source": [
    "loanDf.describe()"
   ]
  },
  {
   "cell_type": "code",
   "execution_count": 6,
   "id": "4837148b",
   "metadata": {},
   "outputs": [],
   "source": [
    "#As we can see around 60 columns having most of the values as null . We can remove them to make data cleaner\n",
    "loanDf_nonmissing=loanDf[loanDf.columns[loanDf.isnull().mean()<=0.7]]"
   ]
  },
  {
   "cell_type": "code",
   "execution_count": 7,
   "id": "a82fce4a",
   "metadata": {},
   "outputs": [
    {
     "name": "stdout",
     "output_type": "stream",
     "text": [
      "<class 'pandas.core.frame.DataFrame'>\n",
      "Int64Index: 38577 entries, 0 to 39716\n",
      "Data columns (total 55 columns):\n",
      " #   Column                      Non-Null Count  Dtype  \n",
      "---  ------                      --------------  -----  \n",
      " 0   id                          38577 non-null  int64  \n",
      " 1   member_id                   38577 non-null  int64  \n",
      " 2   loan_amnt                   38577 non-null  int64  \n",
      " 3   funded_amnt                 38577 non-null  int64  \n",
      " 4   funded_amnt_inv             38577 non-null  float64\n",
      " 5   term                        38577 non-null  object \n",
      " 6   int_rate                    38577 non-null  object \n",
      " 7   installment                 38577 non-null  float64\n",
      " 8   grade                       38577 non-null  object \n",
      " 9   sub_grade                   38577 non-null  object \n",
      " 10  emp_title                   36191 non-null  object \n",
      " 11  emp_length                  37544 non-null  object \n",
      " 12  home_ownership              38577 non-null  object \n",
      " 13  annual_inc                  38577 non-null  float64\n",
      " 14  verification_status         38577 non-null  object \n",
      " 15  issue_d                     38577 non-null  object \n",
      " 16  loan_status                 38577 non-null  object \n",
      " 17  pymnt_plan                  38577 non-null  object \n",
      " 18  url                         38577 non-null  object \n",
      " 19  desc                        26050 non-null  object \n",
      " 20  purpose                     38577 non-null  object \n",
      " 21  title                       38566 non-null  object \n",
      " 22  zip_code                    38577 non-null  object \n",
      " 23  addr_state                  38577 non-null  object \n",
      " 24  dti                         38577 non-null  float64\n",
      " 25  delinq_2yrs                 38577 non-null  int64  \n",
      " 26  earliest_cr_line            38577 non-null  object \n",
      " 27  inq_last_6mths              38577 non-null  int64  \n",
      " 28  mths_since_last_delinq      13672 non-null  float64\n",
      " 29  open_acc                    38577 non-null  int64  \n",
      " 30  pub_rec                     38577 non-null  int64  \n",
      " 31  revol_bal                   38577 non-null  int64  \n",
      " 32  revol_util                  38527 non-null  object \n",
      " 33  total_acc                   38577 non-null  int64  \n",
      " 34  initial_list_status         38577 non-null  object \n",
      " 35  out_prncp                   38577 non-null  float64\n",
      " 36  out_prncp_inv               38577 non-null  float64\n",
      " 37  total_pymnt                 38577 non-null  float64\n",
      " 38  total_pymnt_inv             38577 non-null  float64\n",
      " 39  total_rec_prncp             38577 non-null  float64\n",
      " 40  total_rec_int               38577 non-null  float64\n",
      " 41  total_rec_late_fee          38577 non-null  float64\n",
      " 42  recoveries                  38577 non-null  float64\n",
      " 43  collection_recovery_fee     38577 non-null  float64\n",
      " 44  last_pymnt_d                38506 non-null  object \n",
      " 45  last_pymnt_amnt             38577 non-null  float64\n",
      " 46  last_credit_pull_d          38575 non-null  object \n",
      " 47  collections_12_mths_ex_med  38521 non-null  float64\n",
      " 48  policy_code                 38577 non-null  int64  \n",
      " 49  application_type            38577 non-null  object \n",
      " 50  acc_now_delinq              38577 non-null  int64  \n",
      " 51  chargeoff_within_12_mths    38521 non-null  float64\n",
      " 52  delinq_amnt                 38577 non-null  int64  \n",
      " 53  pub_rec_bankruptcies        37880 non-null  float64\n",
      " 54  tax_liens                   38538 non-null  float64\n",
      "dtypes: float64(19), int64(13), object(23)\n",
      "memory usage: 16.5+ MB\n"
     ]
    }
   ],
   "source": [
    "loanDf_nonmissing.info()"
   ]
  },
  {
   "cell_type": "code",
   "execution_count": 8,
   "id": "202fcaf1",
   "metadata": {},
   "outputs": [],
   "source": [
    "#Setting to show all columns on jupyter notebbok\n",
    "pd.set_option('display.max_columns', None)"
   ]
  },
  {
   "cell_type": "code",
   "execution_count": 9,
   "id": "397288ea",
   "metadata": {},
   "outputs": [
    {
     "data": {
      "text/html": [
       "<div>\n",
       "<style scoped>\n",
       "    .dataframe tbody tr th:only-of-type {\n",
       "        vertical-align: middle;\n",
       "    }\n",
       "\n",
       "    .dataframe tbody tr th {\n",
       "        vertical-align: top;\n",
       "    }\n",
       "\n",
       "    .dataframe thead th {\n",
       "        text-align: right;\n",
       "    }\n",
       "</style>\n",
       "<table border=\"1\" class=\"dataframe\">\n",
       "  <thead>\n",
       "    <tr style=\"text-align: right;\">\n",
       "      <th></th>\n",
       "      <th>id</th>\n",
       "      <th>member_id</th>\n",
       "      <th>loan_amnt</th>\n",
       "      <th>funded_amnt</th>\n",
       "      <th>funded_amnt_inv</th>\n",
       "      <th>term</th>\n",
       "      <th>int_rate</th>\n",
       "      <th>installment</th>\n",
       "      <th>grade</th>\n",
       "      <th>sub_grade</th>\n",
       "      <th>emp_title</th>\n",
       "      <th>emp_length</th>\n",
       "      <th>home_ownership</th>\n",
       "      <th>annual_inc</th>\n",
       "      <th>verification_status</th>\n",
       "      <th>issue_d</th>\n",
       "      <th>loan_status</th>\n",
       "      <th>pymnt_plan</th>\n",
       "      <th>url</th>\n",
       "      <th>desc</th>\n",
       "      <th>purpose</th>\n",
       "      <th>title</th>\n",
       "      <th>zip_code</th>\n",
       "      <th>addr_state</th>\n",
       "      <th>dti</th>\n",
       "      <th>delinq_2yrs</th>\n",
       "      <th>earliest_cr_line</th>\n",
       "      <th>inq_last_6mths</th>\n",
       "      <th>mths_since_last_delinq</th>\n",
       "      <th>open_acc</th>\n",
       "      <th>pub_rec</th>\n",
       "      <th>revol_bal</th>\n",
       "      <th>revol_util</th>\n",
       "      <th>total_acc</th>\n",
       "      <th>initial_list_status</th>\n",
       "      <th>out_prncp</th>\n",
       "      <th>out_prncp_inv</th>\n",
       "      <th>total_pymnt</th>\n",
       "      <th>total_pymnt_inv</th>\n",
       "      <th>total_rec_prncp</th>\n",
       "      <th>total_rec_int</th>\n",
       "      <th>total_rec_late_fee</th>\n",
       "      <th>recoveries</th>\n",
       "      <th>collection_recovery_fee</th>\n",
       "      <th>last_pymnt_d</th>\n",
       "      <th>last_pymnt_amnt</th>\n",
       "      <th>last_credit_pull_d</th>\n",
       "      <th>collections_12_mths_ex_med</th>\n",
       "      <th>policy_code</th>\n",
       "      <th>application_type</th>\n",
       "      <th>acc_now_delinq</th>\n",
       "      <th>chargeoff_within_12_mths</th>\n",
       "      <th>delinq_amnt</th>\n",
       "      <th>pub_rec_bankruptcies</th>\n",
       "      <th>tax_liens</th>\n",
       "    </tr>\n",
       "  </thead>\n",
       "  <tbody>\n",
       "    <tr>\n",
       "      <th>0</th>\n",
       "      <td>1077501</td>\n",
       "      <td>1296599</td>\n",
       "      <td>5000</td>\n",
       "      <td>5000</td>\n",
       "      <td>4975.0</td>\n",
       "      <td>36 months</td>\n",
       "      <td>10.65%</td>\n",
       "      <td>162.87</td>\n",
       "      <td>B</td>\n",
       "      <td>B2</td>\n",
       "      <td>NaN</td>\n",
       "      <td>10+ years</td>\n",
       "      <td>RENT</td>\n",
       "      <td>24000.0</td>\n",
       "      <td>Verified</td>\n",
       "      <td>Dec-11</td>\n",
       "      <td>Fully Paid</td>\n",
       "      <td>n</td>\n",
       "      <td>https://lendingclub.com/browse/loanDetail.acti...</td>\n",
       "      <td>Borrower added on 12/22/11 &gt; I need to upgra...</td>\n",
       "      <td>credit_card</td>\n",
       "      <td>Computer</td>\n",
       "      <td>860xx</td>\n",
       "      <td>AZ</td>\n",
       "      <td>27.65</td>\n",
       "      <td>0</td>\n",
       "      <td>Jan-85</td>\n",
       "      <td>1</td>\n",
       "      <td>NaN</td>\n",
       "      <td>3</td>\n",
       "      <td>0</td>\n",
       "      <td>13648</td>\n",
       "      <td>83.70%</td>\n",
       "      <td>9</td>\n",
       "      <td>f</td>\n",
       "      <td>0.0</td>\n",
       "      <td>0.0</td>\n",
       "      <td>5863.155187</td>\n",
       "      <td>5833.84</td>\n",
       "      <td>5000.00</td>\n",
       "      <td>863.16</td>\n",
       "      <td>0.0</td>\n",
       "      <td>0.00</td>\n",
       "      <td>0.00</td>\n",
       "      <td>Jan-15</td>\n",
       "      <td>171.62</td>\n",
       "      <td>May-16</td>\n",
       "      <td>0.0</td>\n",
       "      <td>1</td>\n",
       "      <td>INDIVIDUAL</td>\n",
       "      <td>0</td>\n",
       "      <td>0.0</td>\n",
       "      <td>0</td>\n",
       "      <td>0.0</td>\n",
       "      <td>0.0</td>\n",
       "    </tr>\n",
       "    <tr>\n",
       "      <th>1</th>\n",
       "      <td>1077430</td>\n",
       "      <td>1314167</td>\n",
       "      <td>2500</td>\n",
       "      <td>2500</td>\n",
       "      <td>2500.0</td>\n",
       "      <td>60 months</td>\n",
       "      <td>15.27%</td>\n",
       "      <td>59.83</td>\n",
       "      <td>C</td>\n",
       "      <td>C4</td>\n",
       "      <td>Ryder</td>\n",
       "      <td>&lt; 1 year</td>\n",
       "      <td>RENT</td>\n",
       "      <td>30000.0</td>\n",
       "      <td>Source Verified</td>\n",
       "      <td>Dec-11</td>\n",
       "      <td>Charged Off</td>\n",
       "      <td>n</td>\n",
       "      <td>https://lendingclub.com/browse/loanDetail.acti...</td>\n",
       "      <td>Borrower added on 12/22/11 &gt; I plan to use t...</td>\n",
       "      <td>car</td>\n",
       "      <td>bike</td>\n",
       "      <td>309xx</td>\n",
       "      <td>GA</td>\n",
       "      <td>1.00</td>\n",
       "      <td>0</td>\n",
       "      <td>Apr-99</td>\n",
       "      <td>5</td>\n",
       "      <td>NaN</td>\n",
       "      <td>3</td>\n",
       "      <td>0</td>\n",
       "      <td>1687</td>\n",
       "      <td>9.40%</td>\n",
       "      <td>4</td>\n",
       "      <td>f</td>\n",
       "      <td>0.0</td>\n",
       "      <td>0.0</td>\n",
       "      <td>1008.710000</td>\n",
       "      <td>1008.71</td>\n",
       "      <td>456.46</td>\n",
       "      <td>435.17</td>\n",
       "      <td>0.0</td>\n",
       "      <td>117.08</td>\n",
       "      <td>1.11</td>\n",
       "      <td>Apr-13</td>\n",
       "      <td>119.66</td>\n",
       "      <td>Sep-13</td>\n",
       "      <td>0.0</td>\n",
       "      <td>1</td>\n",
       "      <td>INDIVIDUAL</td>\n",
       "      <td>0</td>\n",
       "      <td>0.0</td>\n",
       "      <td>0</td>\n",
       "      <td>0.0</td>\n",
       "      <td>0.0</td>\n",
       "    </tr>\n",
       "  </tbody>\n",
       "</table>\n",
       "</div>"
      ],
      "text/plain": [
       "        id  member_id  loan_amnt  funded_amnt  funded_amnt_inv        term  \\\n",
       "0  1077501    1296599       5000         5000           4975.0   36 months   \n",
       "1  1077430    1314167       2500         2500           2500.0   60 months   \n",
       "\n",
       "  int_rate  installment grade sub_grade emp_title emp_length home_ownership  \\\n",
       "0   10.65%       162.87     B        B2       NaN  10+ years           RENT   \n",
       "1   15.27%        59.83     C        C4     Ryder   < 1 year           RENT   \n",
       "\n",
       "   annual_inc verification_status issue_d  loan_status pymnt_plan  \\\n",
       "0     24000.0            Verified  Dec-11   Fully Paid          n   \n",
       "1     30000.0     Source Verified  Dec-11  Charged Off          n   \n",
       "\n",
       "                                                 url  \\\n",
       "0  https://lendingclub.com/browse/loanDetail.acti...   \n",
       "1  https://lendingclub.com/browse/loanDetail.acti...   \n",
       "\n",
       "                                                desc      purpose     title  \\\n",
       "0    Borrower added on 12/22/11 > I need to upgra...  credit_card  Computer   \n",
       "1    Borrower added on 12/22/11 > I plan to use t...          car      bike   \n",
       "\n",
       "  zip_code addr_state    dti  delinq_2yrs earliest_cr_line  inq_last_6mths  \\\n",
       "0    860xx         AZ  27.65            0           Jan-85               1   \n",
       "1    309xx         GA   1.00            0           Apr-99               5   \n",
       "\n",
       "   mths_since_last_delinq  open_acc  pub_rec  revol_bal revol_util  total_acc  \\\n",
       "0                     NaN         3        0      13648     83.70%          9   \n",
       "1                     NaN         3        0       1687      9.40%          4   \n",
       "\n",
       "  initial_list_status  out_prncp  out_prncp_inv  total_pymnt  total_pymnt_inv  \\\n",
       "0                   f        0.0            0.0  5863.155187          5833.84   \n",
       "1                   f        0.0            0.0  1008.710000          1008.71   \n",
       "\n",
       "   total_rec_prncp  total_rec_int  total_rec_late_fee  recoveries  \\\n",
       "0          5000.00         863.16                 0.0        0.00   \n",
       "1           456.46         435.17                 0.0      117.08   \n",
       "\n",
       "   collection_recovery_fee last_pymnt_d  last_pymnt_amnt last_credit_pull_d  \\\n",
       "0                     0.00       Jan-15           171.62             May-16   \n",
       "1                     1.11       Apr-13           119.66             Sep-13   \n",
       "\n",
       "   collections_12_mths_ex_med  policy_code application_type  acc_now_delinq  \\\n",
       "0                         0.0            1       INDIVIDUAL               0   \n",
       "1                         0.0            1       INDIVIDUAL               0   \n",
       "\n",
       "   chargeoff_within_12_mths  delinq_amnt  pub_rec_bankruptcies  tax_liens  \n",
       "0                       0.0            0                   0.0        0.0  \n",
       "1                       0.0            0                   0.0        0.0  "
      ]
     },
     "execution_count": 9,
     "metadata": {},
     "output_type": "execute_result"
    }
   ],
   "source": [
    "loanDf_nonmissing.head(2)"
   ]
  },
  {
   "cell_type": "code",
   "execution_count": 10,
   "id": "bbfb62be",
   "metadata": {},
   "outputs": [
    {
     "data": {
      "text/plain": [
       "array(['Charged Off', 'Fully Paid'], dtype=object)"
      ]
     },
     "execution_count": 10,
     "metadata": {},
     "output_type": "execute_result"
    }
   ],
   "source": [
    "#Ensure we do have only Charged off and Fully paid data in the analysis data set\n",
    "np.unique(loanDf_nonmissing['loan_status'])"
   ]
  },
  {
   "cell_type": "code",
   "execution_count": 11,
   "id": "381deacf",
   "metadata": {},
   "outputs": [],
   "source": [
    "#We can remove id columns,not required columns as those are not helpful in analysis \n",
    "loanDfwoId=loanDf_nonmissing.drop([\"id\",\"member_id\",\"url\",\"desc\",\"zip_code\",\"mths_since_last_delinq\",\"addr_state\",\"last_credit_pull_d\",\"tax_liens\",\"emp_title\"],axis=1)"
   ]
  },
  {
   "cell_type": "code",
   "execution_count": 12,
   "id": "9e24e1b5",
   "metadata": {},
   "outputs": [
    {
     "data": {
      "text/html": [
       "<div>\n",
       "<style scoped>\n",
       "    .dataframe tbody tr th:only-of-type {\n",
       "        vertical-align: middle;\n",
       "    }\n",
       "\n",
       "    .dataframe tbody tr th {\n",
       "        vertical-align: top;\n",
       "    }\n",
       "\n",
       "    .dataframe thead th {\n",
       "        text-align: right;\n",
       "    }\n",
       "</style>\n",
       "<table border=\"1\" class=\"dataframe\">\n",
       "  <thead>\n",
       "    <tr style=\"text-align: right;\">\n",
       "      <th></th>\n",
       "      <th>loan_amnt</th>\n",
       "      <th>funded_amnt</th>\n",
       "      <th>funded_amnt_inv</th>\n",
       "      <th>term</th>\n",
       "      <th>int_rate</th>\n",
       "      <th>installment</th>\n",
       "      <th>grade</th>\n",
       "      <th>sub_grade</th>\n",
       "      <th>emp_length</th>\n",
       "      <th>home_ownership</th>\n",
       "      <th>annual_inc</th>\n",
       "      <th>verification_status</th>\n",
       "      <th>issue_d</th>\n",
       "      <th>loan_status</th>\n",
       "      <th>pymnt_plan</th>\n",
       "      <th>purpose</th>\n",
       "      <th>title</th>\n",
       "      <th>dti</th>\n",
       "      <th>delinq_2yrs</th>\n",
       "      <th>earliest_cr_line</th>\n",
       "      <th>inq_last_6mths</th>\n",
       "      <th>open_acc</th>\n",
       "      <th>pub_rec</th>\n",
       "      <th>revol_bal</th>\n",
       "      <th>revol_util</th>\n",
       "      <th>total_acc</th>\n",
       "      <th>initial_list_status</th>\n",
       "      <th>out_prncp</th>\n",
       "      <th>out_prncp_inv</th>\n",
       "      <th>total_pymnt</th>\n",
       "      <th>total_pymnt_inv</th>\n",
       "      <th>total_rec_prncp</th>\n",
       "      <th>total_rec_int</th>\n",
       "      <th>total_rec_late_fee</th>\n",
       "      <th>recoveries</th>\n",
       "      <th>collection_recovery_fee</th>\n",
       "      <th>last_pymnt_d</th>\n",
       "      <th>last_pymnt_amnt</th>\n",
       "      <th>collections_12_mths_ex_med</th>\n",
       "      <th>policy_code</th>\n",
       "      <th>application_type</th>\n",
       "      <th>acc_now_delinq</th>\n",
       "      <th>chargeoff_within_12_mths</th>\n",
       "      <th>delinq_amnt</th>\n",
       "      <th>pub_rec_bankruptcies</th>\n",
       "    </tr>\n",
       "  </thead>\n",
       "  <tbody>\n",
       "    <tr>\n",
       "      <th>0</th>\n",
       "      <td>5000</td>\n",
       "      <td>5000</td>\n",
       "      <td>4975.0</td>\n",
       "      <td>36 months</td>\n",
       "      <td>10.65%</td>\n",
       "      <td>162.87</td>\n",
       "      <td>B</td>\n",
       "      <td>B2</td>\n",
       "      <td>10+ years</td>\n",
       "      <td>RENT</td>\n",
       "      <td>24000.0</td>\n",
       "      <td>Verified</td>\n",
       "      <td>Dec-11</td>\n",
       "      <td>Fully Paid</td>\n",
       "      <td>n</td>\n",
       "      <td>credit_card</td>\n",
       "      <td>Computer</td>\n",
       "      <td>27.65</td>\n",
       "      <td>0</td>\n",
       "      <td>Jan-85</td>\n",
       "      <td>1</td>\n",
       "      <td>3</td>\n",
       "      <td>0</td>\n",
       "      <td>13648</td>\n",
       "      <td>83.70%</td>\n",
       "      <td>9</td>\n",
       "      <td>f</td>\n",
       "      <td>0.0</td>\n",
       "      <td>0.0</td>\n",
       "      <td>5863.155187</td>\n",
       "      <td>5833.84</td>\n",
       "      <td>5000.00</td>\n",
       "      <td>863.16</td>\n",
       "      <td>0.0</td>\n",
       "      <td>0.00</td>\n",
       "      <td>0.00</td>\n",
       "      <td>Jan-15</td>\n",
       "      <td>171.62</td>\n",
       "      <td>0.0</td>\n",
       "      <td>1</td>\n",
       "      <td>INDIVIDUAL</td>\n",
       "      <td>0</td>\n",
       "      <td>0.0</td>\n",
       "      <td>0</td>\n",
       "      <td>0.0</td>\n",
       "    </tr>\n",
       "    <tr>\n",
       "      <th>1</th>\n",
       "      <td>2500</td>\n",
       "      <td>2500</td>\n",
       "      <td>2500.0</td>\n",
       "      <td>60 months</td>\n",
       "      <td>15.27%</td>\n",
       "      <td>59.83</td>\n",
       "      <td>C</td>\n",
       "      <td>C4</td>\n",
       "      <td>&lt; 1 year</td>\n",
       "      <td>RENT</td>\n",
       "      <td>30000.0</td>\n",
       "      <td>Source Verified</td>\n",
       "      <td>Dec-11</td>\n",
       "      <td>Charged Off</td>\n",
       "      <td>n</td>\n",
       "      <td>car</td>\n",
       "      <td>bike</td>\n",
       "      <td>1.00</td>\n",
       "      <td>0</td>\n",
       "      <td>Apr-99</td>\n",
       "      <td>5</td>\n",
       "      <td>3</td>\n",
       "      <td>0</td>\n",
       "      <td>1687</td>\n",
       "      <td>9.40%</td>\n",
       "      <td>4</td>\n",
       "      <td>f</td>\n",
       "      <td>0.0</td>\n",
       "      <td>0.0</td>\n",
       "      <td>1008.710000</td>\n",
       "      <td>1008.71</td>\n",
       "      <td>456.46</td>\n",
       "      <td>435.17</td>\n",
       "      <td>0.0</td>\n",
       "      <td>117.08</td>\n",
       "      <td>1.11</td>\n",
       "      <td>Apr-13</td>\n",
       "      <td>119.66</td>\n",
       "      <td>0.0</td>\n",
       "      <td>1</td>\n",
       "      <td>INDIVIDUAL</td>\n",
       "      <td>0</td>\n",
       "      <td>0.0</td>\n",
       "      <td>0</td>\n",
       "      <td>0.0</td>\n",
       "    </tr>\n",
       "  </tbody>\n",
       "</table>\n",
       "</div>"
      ],
      "text/plain": [
       "   loan_amnt  funded_amnt  funded_amnt_inv        term int_rate  installment  \\\n",
       "0       5000         5000           4975.0   36 months   10.65%       162.87   \n",
       "1       2500         2500           2500.0   60 months   15.27%        59.83   \n",
       "\n",
       "  grade sub_grade emp_length home_ownership  annual_inc verification_status  \\\n",
       "0     B        B2  10+ years           RENT     24000.0            Verified   \n",
       "1     C        C4   < 1 year           RENT     30000.0     Source Verified   \n",
       "\n",
       "  issue_d  loan_status pymnt_plan      purpose     title    dti  delinq_2yrs  \\\n",
       "0  Dec-11   Fully Paid          n  credit_card  Computer  27.65            0   \n",
       "1  Dec-11  Charged Off          n          car      bike   1.00            0   \n",
       "\n",
       "  earliest_cr_line  inq_last_6mths  open_acc  pub_rec  revol_bal revol_util  \\\n",
       "0           Jan-85               1         3        0      13648     83.70%   \n",
       "1           Apr-99               5         3        0       1687      9.40%   \n",
       "\n",
       "   total_acc initial_list_status  out_prncp  out_prncp_inv  total_pymnt  \\\n",
       "0          9                   f        0.0            0.0  5863.155187   \n",
       "1          4                   f        0.0            0.0  1008.710000   \n",
       "\n",
       "   total_pymnt_inv  total_rec_prncp  total_rec_int  total_rec_late_fee  \\\n",
       "0          5833.84          5000.00         863.16                 0.0   \n",
       "1          1008.71           456.46         435.17                 0.0   \n",
       "\n",
       "   recoveries  collection_recovery_fee last_pymnt_d  last_pymnt_amnt  \\\n",
       "0        0.00                     0.00       Jan-15           171.62   \n",
       "1      117.08                     1.11       Apr-13           119.66   \n",
       "\n",
       "   collections_12_mths_ex_med  policy_code application_type  acc_now_delinq  \\\n",
       "0                         0.0            1       INDIVIDUAL               0   \n",
       "1                         0.0            1       INDIVIDUAL               0   \n",
       "\n",
       "   chargeoff_within_12_mths  delinq_amnt  pub_rec_bankruptcies  \n",
       "0                       0.0            0                   0.0  \n",
       "1                       0.0            0                   0.0  "
      ]
     },
     "execution_count": 12,
     "metadata": {},
     "output_type": "execute_result"
    }
   ],
   "source": [
    "loanDfwoId.head(2)"
   ]
  },
  {
   "cell_type": "code",
   "execution_count": 13,
   "id": "69dd60c6",
   "metadata": {},
   "outputs": [],
   "source": [
    "#impute column emp_length with filling null with 0\n",
    "loanDfwoId.emp_length.fillna('0',inplace=True)\n",
    "\n",
    "#impute column pub_rec_bankruptcies with filling 'unknown' category\n",
    "loanDfwoId.pub_rec_bankruptcies.fillna('unknown',inplace=True)"
   ]
  },
  {
   "cell_type": "code",
   "execution_count": 14,
   "id": "0653dfe4",
   "metadata": {},
   "outputs": [],
   "source": [
    "#Remove Outliers quantile .99\n",
    "loanDfwoId = loanDfwoId[loanDfwoId[\"annual_inc\"] < loanDfwoId[\"annual_inc\"].quantile(0.99)]"
   ]
  },
  {
   "cell_type": "code",
   "execution_count": 15,
   "id": "75fe59c2",
   "metadata": {},
   "outputs": [],
   "source": [
    "# clean interest rate ,revolt rate by removing % sign as well as clean term\n",
    "loanDfwoId['int_rate'] = loanDfwoId['int_rate'].str.replace('%','')\n",
    "loanDfwoId['revol_util'] = loanDfwoId['revol_util'].str.replace('%','')\n",
    "loanDfwoId['term'] = loanDfwoId['term'].str.replace(' months','')\n",
    "# Clean emp_length column to have only numbers. \n",
    "replace_dict=dict(zip([\"years\", \"year\", \"\\+\",\"<\",\" \"], [\"\"]*5))\n",
    "loanDfwoId['emp_length']=loanDfwoId['emp_length'].str.strip().replace(replace_dict,regex=True)"
   ]
  },
  {
   "cell_type": "code",
   "execution_count": 16,
   "id": "b3b6f93c",
   "metadata": {},
   "outputs": [],
   "source": [
    "# convert amount columns into numeric data.\n",
    "\n",
    "amt_cols = ['loan_amnt','funded_amnt','int_rate','funded_amnt_inv','installment','annual_inc','dti','emp_length','total_pymnt']\n",
    "loanDfwoId[amt_cols] = loanDfwoId[amt_cols].apply(pd.to_numeric)"
   ]
  },
  {
   "cell_type": "code",
   "execution_count": 17,
   "id": "8ea29693",
   "metadata": {},
   "outputs": [
    {
     "data": {
      "text/html": [
       "<div>\n",
       "<style scoped>\n",
       "    .dataframe tbody tr th:only-of-type {\n",
       "        vertical-align: middle;\n",
       "    }\n",
       "\n",
       "    .dataframe tbody tr th {\n",
       "        vertical-align: top;\n",
       "    }\n",
       "\n",
       "    .dataframe thead th {\n",
       "        text-align: right;\n",
       "    }\n",
       "</style>\n",
       "<table border=\"1\" class=\"dataframe\">\n",
       "  <thead>\n",
       "    <tr style=\"text-align: right;\">\n",
       "      <th></th>\n",
       "      <th>loan_amnt</th>\n",
       "      <th>funded_amnt</th>\n",
       "      <th>funded_amnt_inv</th>\n",
       "      <th>term</th>\n",
       "      <th>int_rate</th>\n",
       "      <th>installment</th>\n",
       "      <th>grade</th>\n",
       "      <th>sub_grade</th>\n",
       "      <th>emp_length</th>\n",
       "      <th>home_ownership</th>\n",
       "      <th>annual_inc</th>\n",
       "      <th>verification_status</th>\n",
       "      <th>issue_d</th>\n",
       "      <th>loan_status</th>\n",
       "      <th>pymnt_plan</th>\n",
       "      <th>purpose</th>\n",
       "      <th>title</th>\n",
       "      <th>dti</th>\n",
       "      <th>delinq_2yrs</th>\n",
       "      <th>earliest_cr_line</th>\n",
       "      <th>inq_last_6mths</th>\n",
       "      <th>open_acc</th>\n",
       "      <th>pub_rec</th>\n",
       "      <th>revol_bal</th>\n",
       "      <th>revol_util</th>\n",
       "      <th>total_acc</th>\n",
       "      <th>initial_list_status</th>\n",
       "      <th>out_prncp</th>\n",
       "      <th>out_prncp_inv</th>\n",
       "      <th>total_pymnt</th>\n",
       "      <th>total_pymnt_inv</th>\n",
       "      <th>total_rec_prncp</th>\n",
       "      <th>total_rec_int</th>\n",
       "      <th>total_rec_late_fee</th>\n",
       "      <th>recoveries</th>\n",
       "      <th>collection_recovery_fee</th>\n",
       "      <th>last_pymnt_d</th>\n",
       "      <th>last_pymnt_amnt</th>\n",
       "      <th>collections_12_mths_ex_med</th>\n",
       "      <th>policy_code</th>\n",
       "      <th>application_type</th>\n",
       "      <th>acc_now_delinq</th>\n",
       "      <th>chargeoff_within_12_mths</th>\n",
       "      <th>delinq_amnt</th>\n",
       "      <th>pub_rec_bankruptcies</th>\n",
       "    </tr>\n",
       "  </thead>\n",
       "  <tbody>\n",
       "    <tr>\n",
       "      <th>0</th>\n",
       "      <td>5000</td>\n",
       "      <td>5000</td>\n",
       "      <td>4975.0</td>\n",
       "      <td>36</td>\n",
       "      <td>10.65</td>\n",
       "      <td>162.87</td>\n",
       "      <td>B</td>\n",
       "      <td>B2</td>\n",
       "      <td>10</td>\n",
       "      <td>RENT</td>\n",
       "      <td>24000.0</td>\n",
       "      <td>Verified</td>\n",
       "      <td>Dec-11</td>\n",
       "      <td>Fully Paid</td>\n",
       "      <td>n</td>\n",
       "      <td>credit_card</td>\n",
       "      <td>Computer</td>\n",
       "      <td>27.65</td>\n",
       "      <td>0</td>\n",
       "      <td>Jan-85</td>\n",
       "      <td>1</td>\n",
       "      <td>3</td>\n",
       "      <td>0</td>\n",
       "      <td>13648</td>\n",
       "      <td>83.70</td>\n",
       "      <td>9</td>\n",
       "      <td>f</td>\n",
       "      <td>0.0</td>\n",
       "      <td>0.0</td>\n",
       "      <td>5863.155187</td>\n",
       "      <td>5833.84</td>\n",
       "      <td>5000.00</td>\n",
       "      <td>863.16</td>\n",
       "      <td>0.00</td>\n",
       "      <td>0.00</td>\n",
       "      <td>0.00</td>\n",
       "      <td>Jan-15</td>\n",
       "      <td>171.62</td>\n",
       "      <td>0.0</td>\n",
       "      <td>1</td>\n",
       "      <td>INDIVIDUAL</td>\n",
       "      <td>0</td>\n",
       "      <td>0.0</td>\n",
       "      <td>0</td>\n",
       "      <td>0.0</td>\n",
       "    </tr>\n",
       "    <tr>\n",
       "      <th>1</th>\n",
       "      <td>2500</td>\n",
       "      <td>2500</td>\n",
       "      <td>2500.0</td>\n",
       "      <td>60</td>\n",
       "      <td>15.27</td>\n",
       "      <td>59.83</td>\n",
       "      <td>C</td>\n",
       "      <td>C4</td>\n",
       "      <td>1</td>\n",
       "      <td>RENT</td>\n",
       "      <td>30000.0</td>\n",
       "      <td>Source Verified</td>\n",
       "      <td>Dec-11</td>\n",
       "      <td>Charged Off</td>\n",
       "      <td>n</td>\n",
       "      <td>car</td>\n",
       "      <td>bike</td>\n",
       "      <td>1.00</td>\n",
       "      <td>0</td>\n",
       "      <td>Apr-99</td>\n",
       "      <td>5</td>\n",
       "      <td>3</td>\n",
       "      <td>0</td>\n",
       "      <td>1687</td>\n",
       "      <td>9.40</td>\n",
       "      <td>4</td>\n",
       "      <td>f</td>\n",
       "      <td>0.0</td>\n",
       "      <td>0.0</td>\n",
       "      <td>1008.710000</td>\n",
       "      <td>1008.71</td>\n",
       "      <td>456.46</td>\n",
       "      <td>435.17</td>\n",
       "      <td>0.00</td>\n",
       "      <td>117.08</td>\n",
       "      <td>1.11</td>\n",
       "      <td>Apr-13</td>\n",
       "      <td>119.66</td>\n",
       "      <td>0.0</td>\n",
       "      <td>1</td>\n",
       "      <td>INDIVIDUAL</td>\n",
       "      <td>0</td>\n",
       "      <td>0.0</td>\n",
       "      <td>0</td>\n",
       "      <td>0.0</td>\n",
       "    </tr>\n",
       "    <tr>\n",
       "      <th>2</th>\n",
       "      <td>2400</td>\n",
       "      <td>2400</td>\n",
       "      <td>2400.0</td>\n",
       "      <td>36</td>\n",
       "      <td>15.96</td>\n",
       "      <td>84.33</td>\n",
       "      <td>C</td>\n",
       "      <td>C5</td>\n",
       "      <td>10</td>\n",
       "      <td>RENT</td>\n",
       "      <td>12252.0</td>\n",
       "      <td>Not Verified</td>\n",
       "      <td>Dec-11</td>\n",
       "      <td>Fully Paid</td>\n",
       "      <td>n</td>\n",
       "      <td>small_business</td>\n",
       "      <td>real estate business</td>\n",
       "      <td>8.72</td>\n",
       "      <td>0</td>\n",
       "      <td>Nov-01</td>\n",
       "      <td>2</td>\n",
       "      <td>2</td>\n",
       "      <td>0</td>\n",
       "      <td>2956</td>\n",
       "      <td>98.50</td>\n",
       "      <td>10</td>\n",
       "      <td>f</td>\n",
       "      <td>0.0</td>\n",
       "      <td>0.0</td>\n",
       "      <td>3005.666844</td>\n",
       "      <td>3005.67</td>\n",
       "      <td>2400.00</td>\n",
       "      <td>605.67</td>\n",
       "      <td>0.00</td>\n",
       "      <td>0.00</td>\n",
       "      <td>0.00</td>\n",
       "      <td>Jun-14</td>\n",
       "      <td>649.91</td>\n",
       "      <td>0.0</td>\n",
       "      <td>1</td>\n",
       "      <td>INDIVIDUAL</td>\n",
       "      <td>0</td>\n",
       "      <td>0.0</td>\n",
       "      <td>0</td>\n",
       "      <td>0.0</td>\n",
       "    </tr>\n",
       "    <tr>\n",
       "      <th>3</th>\n",
       "      <td>10000</td>\n",
       "      <td>10000</td>\n",
       "      <td>10000.0</td>\n",
       "      <td>36</td>\n",
       "      <td>13.49</td>\n",
       "      <td>339.31</td>\n",
       "      <td>C</td>\n",
       "      <td>C1</td>\n",
       "      <td>10</td>\n",
       "      <td>RENT</td>\n",
       "      <td>49200.0</td>\n",
       "      <td>Source Verified</td>\n",
       "      <td>Dec-11</td>\n",
       "      <td>Fully Paid</td>\n",
       "      <td>n</td>\n",
       "      <td>other</td>\n",
       "      <td>personel</td>\n",
       "      <td>20.00</td>\n",
       "      <td>0</td>\n",
       "      <td>Feb-96</td>\n",
       "      <td>1</td>\n",
       "      <td>10</td>\n",
       "      <td>0</td>\n",
       "      <td>5598</td>\n",
       "      <td>21</td>\n",
       "      <td>37</td>\n",
       "      <td>f</td>\n",
       "      <td>0.0</td>\n",
       "      <td>0.0</td>\n",
       "      <td>12231.890000</td>\n",
       "      <td>12231.89</td>\n",
       "      <td>10000.00</td>\n",
       "      <td>2214.92</td>\n",
       "      <td>16.97</td>\n",
       "      <td>0.00</td>\n",
       "      <td>0.00</td>\n",
       "      <td>Jan-15</td>\n",
       "      <td>357.48</td>\n",
       "      <td>0.0</td>\n",
       "      <td>1</td>\n",
       "      <td>INDIVIDUAL</td>\n",
       "      <td>0</td>\n",
       "      <td>0.0</td>\n",
       "      <td>0</td>\n",
       "      <td>0.0</td>\n",
       "    </tr>\n",
       "    <tr>\n",
       "      <th>5</th>\n",
       "      <td>5000</td>\n",
       "      <td>5000</td>\n",
       "      <td>5000.0</td>\n",
       "      <td>36</td>\n",
       "      <td>7.90</td>\n",
       "      <td>156.46</td>\n",
       "      <td>A</td>\n",
       "      <td>A4</td>\n",
       "      <td>3</td>\n",
       "      <td>RENT</td>\n",
       "      <td>36000.0</td>\n",
       "      <td>Source Verified</td>\n",
       "      <td>Dec-11</td>\n",
       "      <td>Fully Paid</td>\n",
       "      <td>n</td>\n",
       "      <td>wedding</td>\n",
       "      <td>My wedding loan I promise to pay back</td>\n",
       "      <td>11.20</td>\n",
       "      <td>0</td>\n",
       "      <td>Nov-04</td>\n",
       "      <td>3</td>\n",
       "      <td>9</td>\n",
       "      <td>0</td>\n",
       "      <td>7963</td>\n",
       "      <td>28.30</td>\n",
       "      <td>12</td>\n",
       "      <td>f</td>\n",
       "      <td>0.0</td>\n",
       "      <td>0.0</td>\n",
       "      <td>5632.210000</td>\n",
       "      <td>5632.21</td>\n",
       "      <td>5000.00</td>\n",
       "      <td>632.21</td>\n",
       "      <td>0.00</td>\n",
       "      <td>0.00</td>\n",
       "      <td>0.00</td>\n",
       "      <td>Jan-15</td>\n",
       "      <td>161.03</td>\n",
       "      <td>0.0</td>\n",
       "      <td>1</td>\n",
       "      <td>INDIVIDUAL</td>\n",
       "      <td>0</td>\n",
       "      <td>0.0</td>\n",
       "      <td>0</td>\n",
       "      <td>0.0</td>\n",
       "    </tr>\n",
       "  </tbody>\n",
       "</table>\n",
       "</div>"
      ],
      "text/plain": [
       "   loan_amnt  funded_amnt  funded_amnt_inv term  int_rate  installment grade  \\\n",
       "0       5000         5000           4975.0   36     10.65       162.87     B   \n",
       "1       2500         2500           2500.0   60     15.27        59.83     C   \n",
       "2       2400         2400           2400.0   36     15.96        84.33     C   \n",
       "3      10000        10000          10000.0   36     13.49       339.31     C   \n",
       "5       5000         5000           5000.0   36      7.90       156.46     A   \n",
       "\n",
       "  sub_grade  emp_length home_ownership  annual_inc verification_status  \\\n",
       "0        B2          10           RENT     24000.0            Verified   \n",
       "1        C4           1           RENT     30000.0     Source Verified   \n",
       "2        C5          10           RENT     12252.0        Not Verified   \n",
       "3        C1          10           RENT     49200.0     Source Verified   \n",
       "5        A4           3           RENT     36000.0     Source Verified   \n",
       "\n",
       "  issue_d  loan_status pymnt_plan         purpose  \\\n",
       "0  Dec-11   Fully Paid          n     credit_card   \n",
       "1  Dec-11  Charged Off          n             car   \n",
       "2  Dec-11   Fully Paid          n  small_business   \n",
       "3  Dec-11   Fully Paid          n           other   \n",
       "5  Dec-11   Fully Paid          n         wedding   \n",
       "\n",
       "                                   title    dti  delinq_2yrs earliest_cr_line  \\\n",
       "0                               Computer  27.65            0           Jan-85   \n",
       "1                                   bike   1.00            0           Apr-99   \n",
       "2                   real estate business   8.72            0           Nov-01   \n",
       "3                               personel  20.00            0           Feb-96   \n",
       "5  My wedding loan I promise to pay back  11.20            0           Nov-04   \n",
       "\n",
       "   inq_last_6mths  open_acc  pub_rec  revol_bal revol_util  total_acc  \\\n",
       "0               1         3        0      13648      83.70          9   \n",
       "1               5         3        0       1687       9.40          4   \n",
       "2               2         2        0       2956      98.50         10   \n",
       "3               1        10        0       5598         21         37   \n",
       "5               3         9        0       7963      28.30         12   \n",
       "\n",
       "  initial_list_status  out_prncp  out_prncp_inv   total_pymnt  \\\n",
       "0                   f        0.0            0.0   5863.155187   \n",
       "1                   f        0.0            0.0   1008.710000   \n",
       "2                   f        0.0            0.0   3005.666844   \n",
       "3                   f        0.0            0.0  12231.890000   \n",
       "5                   f        0.0            0.0   5632.210000   \n",
       "\n",
       "   total_pymnt_inv  total_rec_prncp  total_rec_int  total_rec_late_fee  \\\n",
       "0          5833.84          5000.00         863.16                0.00   \n",
       "1          1008.71           456.46         435.17                0.00   \n",
       "2          3005.67          2400.00         605.67                0.00   \n",
       "3         12231.89         10000.00        2214.92               16.97   \n",
       "5          5632.21          5000.00         632.21                0.00   \n",
       "\n",
       "   recoveries  collection_recovery_fee last_pymnt_d  last_pymnt_amnt  \\\n",
       "0        0.00                     0.00       Jan-15           171.62   \n",
       "1      117.08                     1.11       Apr-13           119.66   \n",
       "2        0.00                     0.00       Jun-14           649.91   \n",
       "3        0.00                     0.00       Jan-15           357.48   \n",
       "5        0.00                     0.00       Jan-15           161.03   \n",
       "\n",
       "   collections_12_mths_ex_med  policy_code application_type  acc_now_delinq  \\\n",
       "0                         0.0            1       INDIVIDUAL               0   \n",
       "1                         0.0            1       INDIVIDUAL               0   \n",
       "2                         0.0            1       INDIVIDUAL               0   \n",
       "3                         0.0            1       INDIVIDUAL               0   \n",
       "5                         0.0            1       INDIVIDUAL               0   \n",
       "\n",
       "   chargeoff_within_12_mths  delinq_amnt pub_rec_bankruptcies  \n",
       "0                       0.0            0                  0.0  \n",
       "1                       0.0            0                  0.0  \n",
       "2                       0.0            0                  0.0  \n",
       "3                       0.0            0                  0.0  \n",
       "5                       0.0            0                  0.0  "
      ]
     },
     "execution_count": 17,
     "metadata": {},
     "output_type": "execute_result"
    }
   ],
   "source": [
    "loanDfwoId.head()"
   ]
  },
  {
   "cell_type": "code",
   "execution_count": 18,
   "id": "4dcbdb4b",
   "metadata": {},
   "outputs": [
    {
     "data": {
      "text/plain": [
       "0        Dec-11\n",
       "1        Dec-11\n",
       "2        Dec-11\n",
       "3        Dec-11\n",
       "5        Dec-11\n",
       "          ...  \n",
       "39712    Jul-07\n",
       "39713    Jul-07\n",
       "39714    Jul-07\n",
       "39715    Jul-07\n",
       "39716    Jun-07\n",
       "Name: issue_d, Length: 38191, dtype: object"
      ]
     },
     "execution_count": 18,
     "metadata": {},
     "output_type": "execute_result"
    }
   ],
   "source": [
    "loanDfwoId['issue_d']"
   ]
  },
  {
   "cell_type": "code",
   "execution_count": 19,
   "id": "2548a0c9",
   "metadata": {},
   "outputs": [],
   "source": [
    "#### derive columns from existing columns \n",
    "# create month and year columns separately\n",
    "loanDfwoId['issue_d'] = pd.to_datetime(loanDfwoId.issue_d, format='%b-%y')\n",
    "loanDfwoId['month'] = loanDfwoId.issue_d.dt.strftime('%b')\n",
    "loanDfwoId['year']=loanDfwoId['issue_d'].dt.year\n",
    "\n",
    "# categorise loan amounts into buckets .\n",
    "loanDfwoId['loan_amnt_cats'] = pd.cut(loanDfwoId['loan_amnt'], [0, 5000, 10000,15000, 20000, 25000, 30000,35000], labels=['0-5000', '5000-10000', '10000-15000', '15000-20000','20000-25000','25000-30000', '30000 +'])\n",
    "\n",
    "# categorise annual incomes into buckets \n",
    "loanDfwoId['annual_inc_cats'] = pd.cut(loan['annual_inc'], [0, 20000, 40000, 60000, 80000,1000000], labels=['0-20000', '20000-40000', '40000-60000', '60000-80000', '80000 +'])\n",
    "\n",
    "# categorise intrest rates into buckets \n",
    "loanDfwoId['int_rate_cats'] = pd.cut(loanDfwoId['int_rate'], [0, 10, 12.5, 15, 20], labels=['0-10', '10-12.5', '12.5-15', '15 +'])\n",
    "\n",
    "# categorise dti into buckets .\n",
    "loanDfwoId['dti_cats'] = pd.cut(loanDfwoId['dti'], [0, 5, 10, 15, 20, 25], labels=['0-5', '05-10', '10-15', '15-20', '25+'])"
   ]
  },
  {
   "cell_type": "markdown",
   "id": "f96ae499",
   "metadata": {},
   "source": [
    "### Start  analysis  on important variable loan status in total loans issued\n",
    "\n"
   ]
  },
  {
   "cell_type": "code",
   "execution_count": 20,
   "id": "6022651b",
   "metadata": {},
   "outputs": [
    {
     "data": {
      "text/plain": [
       "Fully Paid     85.378754\n",
       "Charged Off    14.621246\n",
       "Name: loan_status, dtype: float64"
      ]
     },
     "execution_count": 20,
     "metadata": {},
     "output_type": "execute_result"
    }
   ],
   "source": [
    "(loanDfwoId.loan_status.value_counts()*100)/len(loanDfwoId)"
   ]
  },
  {
   "cell_type": "code",
   "execution_count": 21,
   "id": "1a89024a",
   "metadata": {},
   "outputs": [
    {
     "data": {
      "text/plain": [
       "debt_consolidation    46.914194\n",
       "credit_card           13.058050\n",
       "other                 10.031159\n",
       "home_improvement       7.323715\n",
       "major_purchase         5.574612\n",
       "small_business         4.511534\n",
       "car                    3.904061\n",
       "wedding                2.401089\n",
       "medical                1.764814\n",
       "moving                 1.492498\n",
       "vacation               0.981907\n",
       "house                  0.934775\n",
       "educational            0.845749\n",
       "renewable_energy       0.261842\n",
       "Name: purpose, dtype: float64"
      ]
     },
     "execution_count": 21,
     "metadata": {},
     "output_type": "execute_result"
    }
   ],
   "source": [
    "loanDfwoId.purpose.value_counts(normalize=True)*100\n"
   ]
  },
  {
   "cell_type": "code",
   "execution_count": 22,
   "id": "672173f9",
   "metadata": {},
   "outputs": [
    {
     "data": {
      "image/png": "[encoded data removed]",
      "text/plain": [
       "<Figure size 432x288 with 1 Axes>"
      ]
     },
     "metadata": {
      "needs_background": "light"
     },
     "output_type": "display_data"
    }
   ],
   "source": [
    "loanDfwoId.purpose.value_counts(normalize=True).plot.barh()\n",
    "plt.show()"
   ]
  },
  {
   "cell_type": "markdown",
   "id": "10fe4519",
   "metadata": {},
   "source": [
    "### Numerical variable Univariate analysis:"
   ]
  },
  {
   "cell_type": "markdown",
   "id": "428edf54",
   "metadata": {},
   "source": [
    "What is the variation of loan amout,funded amount,total payment"
   ]
  },
  {
   "cell_type": "markdown",
   "id": "2a92ee09",
   "metadata": {},
   "source": [
    "#### loan_amnt analysis :"
   ]
  },
  {
   "cell_type": "code",
   "execution_count": 23,
   "id": "14737394",
   "metadata": {},
   "outputs": [
    {
     "data": {
      "text/html": [
       "<div>\n",
       "<style scoped>\n",
       "    .dataframe tbody tr th:only-of-type {\n",
       "        vertical-align: middle;\n",
       "    }\n",
       "\n",
       "    .dataframe tbody tr th {\n",
       "        vertical-align: top;\n",
       "    }\n",
       "\n",
       "    .dataframe thead th {\n",
       "        text-align: right;\n",
       "    }\n",
       "</style>\n",
       "<table border=\"1\" class=\"dataframe\">\n",
       "  <thead>\n",
       "    <tr style=\"text-align: right;\">\n",
       "      <th></th>\n",
       "      <th>loan_amnt</th>\n",
       "    </tr>\n",
       "  </thead>\n",
       "  <tbody>\n",
       "    <tr>\n",
       "      <th>count</th>\n",
       "      <td>38191.000000</td>\n",
       "    </tr>\n",
       "    <tr>\n",
       "      <th>mean</th>\n",
       "      <td>10962.265979</td>\n",
       "    </tr>\n",
       "    <tr>\n",
       "      <th>std</th>\n",
       "      <td>7266.157660</td>\n",
       "    </tr>\n",
       "    <tr>\n",
       "      <th>min</th>\n",
       "      <td>500.000000</td>\n",
       "    </tr>\n",
       "    <tr>\n",
       "      <th>5%</th>\n",
       "      <td>2400.000000</td>\n",
       "    </tr>\n",
       "    <tr>\n",
       "      <th>10%</th>\n",
       "      <td>3000.000000</td>\n",
       "    </tr>\n",
       "    <tr>\n",
       "      <th>25%</th>\n",
       "      <td>5200.000000</td>\n",
       "    </tr>\n",
       "    <tr>\n",
       "      <th>50%</th>\n",
       "      <td>9600.000000</td>\n",
       "    </tr>\n",
       "    <tr>\n",
       "      <th>75%</th>\n",
       "      <td>15000.000000</td>\n",
       "    </tr>\n",
       "    <tr>\n",
       "      <th>90%</th>\n",
       "      <td>21000.000000</td>\n",
       "    </tr>\n",
       "    <tr>\n",
       "      <th>95%</th>\n",
       "      <td>25000.000000</td>\n",
       "    </tr>\n",
       "    <tr>\n",
       "      <th>99%</th>\n",
       "      <td>35000.000000</td>\n",
       "    </tr>\n",
       "    <tr>\n",
       "      <th>max</th>\n",
       "      <td>35000.000000</td>\n",
       "    </tr>\n",
       "  </tbody>\n",
       "</table>\n",
       "</div>"
      ],
      "text/plain": [
       "          loan_amnt\n",
       "count  38191.000000\n",
       "mean   10962.265979\n",
       "std     7266.157660\n",
       "min      500.000000\n",
       "5%      2400.000000\n",
       "10%     3000.000000\n",
       "25%     5200.000000\n",
       "50%     9600.000000\n",
       "75%    15000.000000\n",
       "90%    21000.000000\n",
       "95%    25000.000000\n",
       "99%    35000.000000\n",
       "max    35000.000000"
      ]
     },
     "execution_count": 23,
     "metadata": {},
     "output_type": "execute_result"
    }
   ],
   "source": [
    "# Basic statistics with .describe() - Quantitative Variables\n",
    "loanDfwoId[['loan_amnt']].describe(percentiles=[0.05,0.1,0.25,0.5,0.75,0.9,0.95,0.99])"
   ]
  },
  {
   "cell_type": "code",
   "execution_count": 24,
   "id": "7c63a5be",
   "metadata": {},
   "outputs": [
    {
     "name": "stderr",
     "output_type": "stream",
     "text": [
      "C:\\Users\\bhavit\\anaconda\\lib\\site-packages\\seaborn\\_decorators.py:36: FutureWarning: Pass the following variable as a keyword arg: x. From version 0.12, the only valid positional argument will be `data`, and passing other arguments without an explicit keyword will result in an error or misinterpretation.\n",
      "  warnings.warn(\n",
      "C:\\Users\\bhavit\\anaconda\\lib\\site-packages\\seaborn\\distributions.py:2557: FutureWarning: `distplot` is a deprecated function and will be removed in a future version. Please adapt your code to use either `displot` (a figure-level function with similar flexibility) or `histplot` (an axes-level function for histograms).\n",
      "  warnings.warn(msg, FutureWarning)\n"
     ]
    },
    {
     "data": {
      "image/png": "[encoded data removed]",
      "text/plain": [
       "<Figure size 1008x288 with 2 Axes>"
      ]
     },
     "metadata": {
      "needs_background": "light"
     },
     "output_type": "display_data"
    }
   ],
   "source": [
    "#Configuring figure size to populate grpahs\n",
    "plt.figure(figsize=(14,4))\n",
    "\n",
    "#First plot is box plot to see range of loan amount and identify outliars\n",
    "plt.subplot(1,2,1)\n",
    "sns.boxplot(loanDfwoId.loan_amnt)\n",
    "\n",
    "\n",
    "#Second  plot is distribution plot to see distribution of variable : loan amount\n",
    "plt.subplot(1,2,2)\n",
    "sns.distplot(loanDfwoId.loan_amnt)\n",
    "\n",
    "plt.suptitle('Distribution - Loan Amount')\n",
    "plt.show()"
   ]
  },
  {
   "cell_type": "markdown",
   "id": "2ec81244",
   "metadata": {},
   "source": [
    "**Observations**:<br>\n",
    "\n",
    "From the above plots, we can see that loan amount is varying between 5000 and 15000 for almost 50 % people and median is around 9600.\n"
   ]
  },
  {
   "cell_type": "markdown",
   "id": "492412d6",
   "metadata": {},
   "source": [
    "#### funded_amnt analysis :"
   ]
  },
  {
   "cell_type": "code",
   "execution_count": 25,
   "id": "9b0fd070",
   "metadata": {},
   "outputs": [
    {
     "data": {
      "text/html": [
       "<div>\n",
       "<style scoped>\n",
       "    .dataframe tbody tr th:only-of-type {\n",
       "        vertical-align: middle;\n",
       "    }\n",
       "\n",
       "    .dataframe tbody tr th {\n",
       "        vertical-align: top;\n",
       "    }\n",
       "\n",
       "    .dataframe thead th {\n",
       "        text-align: right;\n",
       "    }\n",
       "</style>\n",
       "<table border=\"1\" class=\"dataframe\">\n",
       "  <thead>\n",
       "    <tr style=\"text-align: right;\">\n",
       "      <th></th>\n",
       "      <th>funded_amnt</th>\n",
       "    </tr>\n",
       "  </thead>\n",
       "  <tbody>\n",
       "    <tr>\n",
       "      <th>count</th>\n",
       "      <td>38191.000000</td>\n",
       "    </tr>\n",
       "    <tr>\n",
       "      <th>mean</th>\n",
       "      <td>10703.329973</td>\n",
       "    </tr>\n",
       "    <tr>\n",
       "      <th>std</th>\n",
       "      <td>7011.076206</td>\n",
       "    </tr>\n",
       "    <tr>\n",
       "      <th>min</th>\n",
       "      <td>500.000000</td>\n",
       "    </tr>\n",
       "    <tr>\n",
       "      <th>10%</th>\n",
       "      <td>3000.000000</td>\n",
       "    </tr>\n",
       "    <tr>\n",
       "      <th>25%</th>\n",
       "      <td>5100.000000</td>\n",
       "    </tr>\n",
       "    <tr>\n",
       "      <th>50%</th>\n",
       "      <td>9500.000000</td>\n",
       "    </tr>\n",
       "    <tr>\n",
       "      <th>75%</th>\n",
       "      <td>15000.000000</td>\n",
       "    </tr>\n",
       "    <tr>\n",
       "      <th>90%</th>\n",
       "      <td>20000.000000</td>\n",
       "    </tr>\n",
       "    <tr>\n",
       "      <th>95%</th>\n",
       "      <td>25000.000000</td>\n",
       "    </tr>\n",
       "    <tr>\n",
       "      <th>99%</th>\n",
       "      <td>35000.000000</td>\n",
       "    </tr>\n",
       "    <tr>\n",
       "      <th>max</th>\n",
       "      <td>35000.000000</td>\n",
       "    </tr>\n",
       "  </tbody>\n",
       "</table>\n",
       "</div>"
      ],
      "text/plain": [
       "        funded_amnt\n",
       "count  38191.000000\n",
       "mean   10703.329973\n",
       "std     7011.076206\n",
       "min      500.000000\n",
       "10%     3000.000000\n",
       "25%     5100.000000\n",
       "50%     9500.000000\n",
       "75%    15000.000000\n",
       "90%    20000.000000\n",
       "95%    25000.000000\n",
       "99%    35000.000000\n",
       "max    35000.000000"
      ]
     },
     "execution_count": 25,
     "metadata": {},
     "output_type": "execute_result"
    }
   ],
   "source": [
    "loanDfwoId[['funded_amnt']].describe(percentiles=[0.1,0.25,0.5,0.75,0.9,0.95,0.99])"
   ]
  },
  {
   "cell_type": "code",
   "execution_count": 26,
   "id": "c9c79be4",
   "metadata": {},
   "outputs": [
    {
     "name": "stderr",
     "output_type": "stream",
     "text": [
      "C:\\Users\\bhavit\\anaconda\\lib\\site-packages\\seaborn\\_decorators.py:36: FutureWarning: Pass the following variable as a keyword arg: x. From version 0.12, the only valid positional argument will be `data`, and passing other arguments without an explicit keyword will result in an error or misinterpretation.\n",
      "  warnings.warn(\n",
      "C:\\Users\\bhavit\\anaconda\\lib\\site-packages\\seaborn\\distributions.py:2557: FutureWarning: `distplot` is a deprecated function and will be removed in a future version. Please adapt your code to use either `displot` (a figure-level function with similar flexibility) or `histplot` (an axes-level function for histograms).\n",
      "  warnings.warn(msg, FutureWarning)\n"
     ]
    },
    {
     "data": {
      "image/png": "[encoded data removed]",
      "text/plain": [
       "<Figure size 1008x288 with 2 Axes>"
      ]
     },
     "metadata": {
      "needs_background": "light"
     },
     "output_type": "display_data"
    }
   ],
   "source": [
    "#Configuring figure size to populate grpahs\n",
    "plt.figure(figsize=(14,4))\n",
    "\n",
    "#First plot is box plot to see range of loan amount and identify outliars\n",
    "plt.subplot(1,2,1)\n",
    "sns.boxplot(loanDfwoId.funded_amnt)\n",
    "\n",
    "\n",
    "#Second  plot is distribution plot to see distribution of variable : Funded amount\n",
    "plt.subplot(1,2,2)\n",
    "sns.distplot(loanDfwoId.funded_amnt)\n",
    "\n",
    "plt.suptitle('Distribution - Funded Amount')\n",
    "plt.show()\n"
   ]
  },
  {
   "cell_type": "markdown",
   "id": "50fcea39",
   "metadata": {},
   "source": [
    "**Observations**:<br>\n",
    "Funded amount data has same distribution as of loan Amount, so we can say that approved loan is almost same as Applied loan amount."
   ]
  },
  {
   "cell_type": "markdown",
   "id": "11182017",
   "metadata": {},
   "source": [
    "#### total_pymnt analysis :"
   ]
  },
  {
   "cell_type": "code",
   "execution_count": 27,
   "id": "eb006fc2",
   "metadata": {},
   "outputs": [
    {
     "data": {
      "text/plain": [
       "count    38191.000000\n",
       "mean     11766.742378\n",
       "std       8696.584695\n",
       "min          0.000000\n",
       "10%       2904.035099\n",
       "25%       5491.732286\n",
       "50%       9614.180000\n",
       "75%      15964.295140\n",
       "90%      23882.193720\n",
       "95%      29352.551790\n",
       "99%      40602.222996\n",
       "max      58563.679930\n",
       "Name: total_pymnt, dtype: float64"
      ]
     },
     "execution_count": 27,
     "metadata": {},
     "output_type": "execute_result"
    }
   ],
   "source": [
    "loanDfwoId.total_pymnt.describe(percentiles=[0.1,0.25,0.5,0.75,0.9,0.95,0.99])"
   ]
  },
  {
   "cell_type": "code",
   "execution_count": 28,
   "id": "588b7cbd",
   "metadata": {},
   "outputs": [
    {
     "name": "stderr",
     "output_type": "stream",
     "text": [
      "C:\\Users\\bhavit\\anaconda\\lib\\site-packages\\seaborn\\_decorators.py:36: FutureWarning: Pass the following variable as a keyword arg: x. From version 0.12, the only valid positional argument will be `data`, and passing other arguments without an explicit keyword will result in an error or misinterpretation.\n",
      "  warnings.warn(\n"
     ]
    },
    {
     "data": {
      "text/plain": [
       "<AxesSubplot:xlabel='total_pymnt'>"
      ]
     },
     "execution_count": 28,
     "metadata": {},
     "output_type": "execute_result"
    },
    {
     "data": {
      "image/png": "[encoded data removed]",
      "text/plain": [
       "<Figure size 432x288 with 1 Axes>"
      ]
     },
     "metadata": {
      "needs_background": "light"
     },
     "output_type": "display_data"
    }
   ],
   "source": [
    "sns.boxplot(loan.total_pymnt)"
   ]
  },
  {
   "cell_type": "markdown",
   "id": "3b366739",
   "metadata": {},
   "source": [
    "**Observations**:<br>\n",
    "Payment amount data shows variation between 6000 and 16000 for 50% people, so we can say that loan having good return  ."
   ]
  },
  {
   "cell_type": "markdown",
   "id": "daf8bc57",
   "metadata": {},
   "source": [
    "#### funded_amnt_inv analysis:\n",
    "The total amount committed by investors for that loan at that point in time."
   ]
  },
  {
   "cell_type": "code",
   "execution_count": 29,
   "id": "5a562dfa",
   "metadata": {},
   "outputs": [
    {
     "data": {
      "text/html": [
       "<div>\n",
       "<style scoped>\n",
       "    .dataframe tbody tr th:only-of-type {\n",
       "        vertical-align: middle;\n",
       "    }\n",
       "\n",
       "    .dataframe tbody tr th {\n",
       "        vertical-align: top;\n",
       "    }\n",
       "\n",
       "    .dataframe thead th {\n",
       "        text-align: right;\n",
       "    }\n",
       "</style>\n",
       "<table border=\"1\" class=\"dataframe\">\n",
       "  <thead>\n",
       "    <tr style=\"text-align: right;\">\n",
       "      <th></th>\n",
       "      <th>funded_amnt_inv</th>\n",
       "    </tr>\n",
       "  </thead>\n",
       "  <tbody>\n",
       "    <tr>\n",
       "      <th>count</th>\n",
       "      <td>38191.000000</td>\n",
       "    </tr>\n",
       "    <tr>\n",
       "      <th>mean</th>\n",
       "      <td>10146.556380</td>\n",
       "    </tr>\n",
       "    <tr>\n",
       "      <th>std</th>\n",
       "      <td>6943.535384</td>\n",
       "    </tr>\n",
       "    <tr>\n",
       "      <th>min</th>\n",
       "      <td>0.000000</td>\n",
       "    </tr>\n",
       "    <tr>\n",
       "      <th>5%</th>\n",
       "      <td>1800.000000</td>\n",
       "    </tr>\n",
       "    <tr>\n",
       "      <th>10%</th>\n",
       "      <td>2800.000000</td>\n",
       "    </tr>\n",
       "    <tr>\n",
       "      <th>25%</th>\n",
       "      <td>5000.000000</td>\n",
       "    </tr>\n",
       "    <tr>\n",
       "      <th>50%</th>\n",
       "      <td>8575.000000</td>\n",
       "    </tr>\n",
       "    <tr>\n",
       "      <th>75%</th>\n",
       "      <td>14000.000000</td>\n",
       "    </tr>\n",
       "    <tr>\n",
       "      <th>90%</th>\n",
       "      <td>19975.000000</td>\n",
       "    </tr>\n",
       "    <tr>\n",
       "      <th>95%</th>\n",
       "      <td>24351.381040</td>\n",
       "    </tr>\n",
       "    <tr>\n",
       "      <th>99%</th>\n",
       "      <td>34200.192185</td>\n",
       "    </tr>\n",
       "    <tr>\n",
       "      <th>max</th>\n",
       "      <td>35000.000000</td>\n",
       "    </tr>\n",
       "  </tbody>\n",
       "</table>\n",
       "</div>"
      ],
      "text/plain": [
       "       funded_amnt_inv\n",
       "count     38191.000000\n",
       "mean      10146.556380\n",
       "std        6943.535384\n",
       "min           0.000000\n",
       "5%         1800.000000\n",
       "10%        2800.000000\n",
       "25%        5000.000000\n",
       "50%        8575.000000\n",
       "75%       14000.000000\n",
       "90%       19975.000000\n",
       "95%       24351.381040\n",
       "99%       34200.192185\n",
       "max       35000.000000"
      ]
     },
     "execution_count": 29,
     "metadata": {},
     "output_type": "execute_result"
    }
   ],
   "source": [
    "# Basic statistics with .describe() -funded_amnt_inv\n",
    "loanDfwoId[['funded_amnt_inv']].describe(percentiles=[0.05,0.1,0.25,0.5,0.75,0.9,0.95,0.99])"
   ]
  },
  {
   "cell_type": "code",
   "execution_count": 30,
   "id": "e33600bb",
   "metadata": {},
   "outputs": [
    {
     "name": "stderr",
     "output_type": "stream",
     "text": [
      "C:\\Users\\bhavit\\anaconda\\lib\\site-packages\\seaborn\\_decorators.py:36: FutureWarning: Pass the following variable as a keyword arg: x. From version 0.12, the only valid positional argument will be `data`, and passing other arguments without an explicit keyword will result in an error or misinterpretation.\n",
      "  warnings.warn(\n",
      "C:\\Users\\bhavit\\anaconda\\lib\\site-packages\\seaborn\\distributions.py:2557: FutureWarning: `distplot` is a deprecated function and will be removed in a future version. Please adapt your code to use either `displot` (a figure-level function with similar flexibility) or `histplot` (an axes-level function for histograms).\n",
      "  warnings.warn(msg, FutureWarning)\n"
     ]
    },
    {
     "data": {
      "image/png": "[encoded data removed]",
      "text/plain": [
       "<Figure size 1008x288 with 2 Axes>"
      ]
     },
     "metadata": {
      "needs_background": "light"
     },
     "output_type": "display_data"
    }
   ],
   "source": [
    "#Configuring figure size to populate grpahs\n",
    "plt.figure(figsize=(14,4))\n",
    "\n",
    "#First plot is box plot to see range of Funded amount investment and identify outliars\n",
    "plt.subplot(1,2,1)\n",
    "sns.boxplot(loanDfwoId.funded_amnt_inv)\n",
    "\n",
    "\n",
    "#Second  plot is distribution plot to see distribution of variable : Funded amount investment\n",
    "plt.subplot(1,2,2)\n",
    "sns.distplot(loanDfwoId.funded_amnt_inv)\n",
    "\n",
    "plt.suptitle('Distribution - Funded Amount investment')\n",
    "plt.show()"
   ]
  },
  {
   "cell_type": "markdown",
   "id": "763cc6a1",
   "metadata": {},
   "source": [
    "**Observations:**  \n",
    "Funded amount investment data behaves similar to loan Amount, Which tells us that Lending club investors commit total amount same as loan amount i.e. they pass almost all Applied loan amount."
   ]
  },
  {
   "cell_type": "markdown",
   "id": "5c83229e",
   "metadata": {},
   "source": [
    "#### Interest Rate analysis:\n",
    "Interest Rate on the loan distribution amalysis "
   ]
  },
  {
   "cell_type": "code",
   "execution_count": 31,
   "id": "8dadfdd0",
   "metadata": {},
   "outputs": [
    {
     "data": {
      "text/html": [
       "<div>\n",
       "<style scoped>\n",
       "    .dataframe tbody tr th:only-of-type {\n",
       "        vertical-align: middle;\n",
       "    }\n",
       "\n",
       "    .dataframe tbody tr th {\n",
       "        vertical-align: top;\n",
       "    }\n",
       "\n",
       "    .dataframe thead th {\n",
       "        text-align: right;\n",
       "    }\n",
       "</style>\n",
       "<table border=\"1\" class=\"dataframe\">\n",
       "  <thead>\n",
       "    <tr style=\"text-align: right;\">\n",
       "      <th></th>\n",
       "      <th>int_rate</th>\n",
       "    </tr>\n",
       "  </thead>\n",
       "  <tbody>\n",
       "    <tr>\n",
       "      <th>count</th>\n",
       "      <td>38191.000000</td>\n",
       "    </tr>\n",
       "    <tr>\n",
       "      <th>mean</th>\n",
       "      <td>11.917876</td>\n",
       "    </tr>\n",
       "    <tr>\n",
       "      <th>std</th>\n",
       "      <td>3.684108</td>\n",
       "    </tr>\n",
       "    <tr>\n",
       "      <th>min</th>\n",
       "      <td>5.420000</td>\n",
       "    </tr>\n",
       "    <tr>\n",
       "      <th>5%</th>\n",
       "      <td>6.170000</td>\n",
       "    </tr>\n",
       "    <tr>\n",
       "      <th>10%</th>\n",
       "      <td>7.120000</td>\n",
       "    </tr>\n",
       "    <tr>\n",
       "      <th>25%</th>\n",
       "      <td>8.940000</td>\n",
       "    </tr>\n",
       "    <tr>\n",
       "      <th>50%</th>\n",
       "      <td>11.710000</td>\n",
       "    </tr>\n",
       "    <tr>\n",
       "      <th>75%</th>\n",
       "      <td>14.350000</td>\n",
       "    </tr>\n",
       "    <tr>\n",
       "      <th>90%</th>\n",
       "      <td>16.770000</td>\n",
       "    </tr>\n",
       "    <tr>\n",
       "      <th>95%</th>\n",
       "      <td>18.300000</td>\n",
       "    </tr>\n",
       "    <tr>\n",
       "      <th>99%</th>\n",
       "      <td>20.890000</td>\n",
       "    </tr>\n",
       "    <tr>\n",
       "      <th>max</th>\n",
       "      <td>24.400000</td>\n",
       "    </tr>\n",
       "  </tbody>\n",
       "</table>\n",
       "</div>"
      ],
      "text/plain": [
       "           int_rate\n",
       "count  38191.000000\n",
       "mean      11.917876\n",
       "std        3.684108\n",
       "min        5.420000\n",
       "5%         6.170000\n",
       "10%        7.120000\n",
       "25%        8.940000\n",
       "50%       11.710000\n",
       "75%       14.350000\n",
       "90%       16.770000\n",
       "95%       18.300000\n",
       "99%       20.890000\n",
       "max       24.400000"
      ]
     },
     "execution_count": 31,
     "metadata": {},
     "output_type": "execute_result"
    }
   ],
   "source": [
    "# Basic statistics with .describe() - Quantitative Variables\n",
    "loanDfwoId[['int_rate']].describe(percentiles=[0.05,0.1,0.25,0.5,0.75,0.9,0.95,0.99])"
   ]
  },
  {
   "cell_type": "code",
   "execution_count": 32,
   "id": "a6338a2c",
   "metadata": {},
   "outputs": [
    {
     "name": "stderr",
     "output_type": "stream",
     "text": [
      "C:\\Users\\bhavit\\anaconda\\lib\\site-packages\\seaborn\\_decorators.py:36: FutureWarning: Pass the following variable as a keyword arg: x. From version 0.12, the only valid positional argument will be `data`, and passing other arguments without an explicit keyword will result in an error or misinterpretation.\n",
      "  warnings.warn(\n",
      "C:\\Users\\bhavit\\anaconda\\lib\\site-packages\\seaborn\\distributions.py:2557: FutureWarning: `distplot` is a deprecated function and will be removed in a future version. Please adapt your code to use either `displot` (a figure-level function with similar flexibility) or `histplot` (an axes-level function for histograms).\n",
      "  warnings.warn(msg, FutureWarning)\n"
     ]
    },
    {
     "data": {
      "image/png": "[encoded data removed]",
      "text/plain": [
       "<Figure size 1008x288 with 2 Axes>"
      ]
     },
     "metadata": {
      "needs_background": "light"
     },
     "output_type": "display_data"
    }
   ],
   "source": [
    "#Configuring figure size to populate grpahs\n",
    "plt.figure(figsize=(14,4))\n",
    "\n",
    "#First plot is box plot to see range of interest rates and identify outliars\n",
    "plt.subplot(1,2,1)\n",
    "sns.boxplot(loanDfwoId.int_rate)\n",
    "\n",
    "\n",
    "#Second  plot is distribution plot to see distribution of variable : interest rate\n",
    "plt.subplot(1,2,2)\n",
    "sns.distplot(loanDfwoId.int_rate)\n",
    "\n",
    "plt.suptitle('Distribution - Interest Rate')\n",
    "plt.show()"
   ]
  },
  {
   "cell_type": "markdown",
   "id": "6ad74b6d",
   "metadata": {},
   "source": [
    "**Observations**:<br>\n",
    "From the above 2 plots of interest rates we can conclude that most of the interest rates lies are in the range of **9% to 14.5%**. There are some exceptions/outliars  i.e., **22.5+** %"
   ]
  },
  {
   "cell_type": "markdown",
   "id": "3d0d7c35",
   "metadata": {},
   "source": [
    "#### Installment Analysis :\n",
    "The monthly payment owed by the borrower."
   ]
  },
  {
   "cell_type": "code",
   "execution_count": 33,
   "id": "cfa7dd92",
   "metadata": {},
   "outputs": [
    {
     "data": {
      "text/html": [
       "<div>\n",
       "<style scoped>\n",
       "    .dataframe tbody tr th:only-of-type {\n",
       "        vertical-align: middle;\n",
       "    }\n",
       "\n",
       "    .dataframe tbody tr th {\n",
       "        vertical-align: top;\n",
       "    }\n",
       "\n",
       "    .dataframe thead th {\n",
       "        text-align: right;\n",
       "    }\n",
       "</style>\n",
       "<table border=\"1\" class=\"dataframe\">\n",
       "  <thead>\n",
       "    <tr style=\"text-align: right;\">\n",
       "      <th></th>\n",
       "      <th>installment</th>\n",
       "    </tr>\n",
       "  </thead>\n",
       "  <tbody>\n",
       "    <tr>\n",
       "      <th>count</th>\n",
       "      <td>38191.000000</td>\n",
       "    </tr>\n",
       "    <tr>\n",
       "      <th>mean</th>\n",
       "      <td>319.938941</td>\n",
       "    </tr>\n",
       "    <tr>\n",
       "      <th>std</th>\n",
       "      <td>205.948407</td>\n",
       "    </tr>\n",
       "    <tr>\n",
       "      <th>min</th>\n",
       "      <td>15.690000</td>\n",
       "    </tr>\n",
       "    <tr>\n",
       "      <th>5%</th>\n",
       "      <td>70.240000</td>\n",
       "    </tr>\n",
       "    <tr>\n",
       "      <th>10%</th>\n",
       "      <td>98.920000</td>\n",
       "    </tr>\n",
       "    <tr>\n",
       "      <th>25%</th>\n",
       "      <td>165.380000</td>\n",
       "    </tr>\n",
       "    <tr>\n",
       "      <th>50%</th>\n",
       "      <td>276.300000</td>\n",
       "    </tr>\n",
       "    <tr>\n",
       "      <th>75%</th>\n",
       "      <td>421.800000</td>\n",
       "    </tr>\n",
       "    <tr>\n",
       "      <th>90%</th>\n",
       "      <td>613.460000</td>\n",
       "    </tr>\n",
       "    <tr>\n",
       "      <th>95%</th>\n",
       "      <td>744.890000</td>\n",
       "    </tr>\n",
       "    <tr>\n",
       "      <th>99%</th>\n",
       "      <td>920.876000</td>\n",
       "    </tr>\n",
       "    <tr>\n",
       "      <th>max</th>\n",
       "      <td>1305.190000</td>\n",
       "    </tr>\n",
       "  </tbody>\n",
       "</table>\n",
       "</div>"
      ],
      "text/plain": [
       "        installment\n",
       "count  38191.000000\n",
       "mean     319.938941\n",
       "std      205.948407\n",
       "min       15.690000\n",
       "5%        70.240000\n",
       "10%       98.920000\n",
       "25%      165.380000\n",
       "50%      276.300000\n",
       "75%      421.800000\n",
       "90%      613.460000\n",
       "95%      744.890000\n",
       "99%      920.876000\n",
       "max     1305.190000"
      ]
     },
     "execution_count": 33,
     "metadata": {},
     "output_type": "execute_result"
    }
   ],
   "source": [
    "loanDfwoId[['installment']].describe(percentiles=[0.05,0.1,0.25,0.5,0.75,0.9,0.95,0.99])"
   ]
  },
  {
   "cell_type": "code",
   "execution_count": 34,
   "id": "5958851b",
   "metadata": {},
   "outputs": [
    {
     "name": "stderr",
     "output_type": "stream",
     "text": [
      "C:\\Users\\bhavit\\anaconda\\lib\\site-packages\\seaborn\\_decorators.py:36: FutureWarning: Pass the following variable as a keyword arg: x. From version 0.12, the only valid positional argument will be `data`, and passing other arguments without an explicit keyword will result in an error or misinterpretation.\n",
      "  warnings.warn(\n",
      "C:\\Users\\bhavit\\anaconda\\lib\\site-packages\\seaborn\\distributions.py:2557: FutureWarning: `distplot` is a deprecated function and will be removed in a future version. Please adapt your code to use either `displot` (a figure-level function with similar flexibility) or `histplot` (an axes-level function for histograms).\n",
      "  warnings.warn(msg, FutureWarning)\n"
     ]
    },
    {
     "data": {
      "image/png": "[encoded data removed]",
      "text/plain": [
       "<Figure size 1008x288 with 2 Axes>"
      ]
     },
     "metadata": {
      "needs_background": "light"
     },
     "output_type": "display_data"
    }
   ],
   "source": [
    "#Configuring figure size to populate grpahs\n",
    "plt.figure(figsize=(14,4))\n",
    "\n",
    "#First plot is box plot to see range of installments and identify outliars\n",
    "plt.subplot(1,2,1)\n",
    "sns.boxplot(loanDfwoId.installment)\n",
    "\n",
    "\n",
    "#Second  plot is distribution plot to see distribution of variable : installment\n",
    "plt.subplot(1,2,2)\n",
    "sns.distplot(loanDfwoId.installment)\n",
    "\n",
    "plt.suptitle('Distribution - Installment')\n",
    "plt.show()"
   ]
  },
  {
   "cell_type": "markdown",
   "id": "2ae80515",
   "metadata": {},
   "source": [
    "\n",
    "**Observations**:<br>\n",
    "As we can see most of the installments is between 160 and 420. Median is around 270 which is the true representative of installment value."
   ]
  },
  {
   "cell_type": "markdown",
   "id": "6b6dc060",
   "metadata": {},
   "source": [
    "#### Annual income analysis : \n",
    "The self-reported annual income provided by the borrower during registration."
   ]
  },
  {
   "cell_type": "code",
   "execution_count": 35,
   "id": "cf45e17e",
   "metadata": {},
   "outputs": [
    {
     "data": {
      "text/html": [
       "<div>\n",
       "<style scoped>\n",
       "    .dataframe tbody tr th:only-of-type {\n",
       "        vertical-align: middle;\n",
       "    }\n",
       "\n",
       "    .dataframe tbody tr th {\n",
       "        vertical-align: top;\n",
       "    }\n",
       "\n",
       "    .dataframe thead th {\n",
       "        text-align: right;\n",
       "    }\n",
       "</style>\n",
       "<table border=\"1\" class=\"dataframe\">\n",
       "  <thead>\n",
       "    <tr style=\"text-align: right;\">\n",
       "      <th></th>\n",
       "      <th>annual_inc</th>\n",
       "    </tr>\n",
       "  </thead>\n",
       "  <tbody>\n",
       "    <tr>\n",
       "      <th>count</th>\n",
       "      <td>38191.000</td>\n",
       "    </tr>\n",
       "    <tr>\n",
       "      <th>mean</th>\n",
       "      <td>65313.610</td>\n",
       "    </tr>\n",
       "    <tr>\n",
       "      <th>std</th>\n",
       "      <td>35150.773</td>\n",
       "    </tr>\n",
       "    <tr>\n",
       "      <th>min</th>\n",
       "      <td>4000.000</td>\n",
       "    </tr>\n",
       "    <tr>\n",
       "      <th>5%</th>\n",
       "      <td>24000.000</td>\n",
       "    </tr>\n",
       "    <tr>\n",
       "      <th>10%</th>\n",
       "      <td>30000.000</td>\n",
       "    </tr>\n",
       "    <tr>\n",
       "      <th>25%</th>\n",
       "      <td>40000.000</td>\n",
       "    </tr>\n",
       "    <tr>\n",
       "      <th>50%</th>\n",
       "      <td>58000.000</td>\n",
       "    </tr>\n",
       "    <tr>\n",
       "      <th>75%</th>\n",
       "      <td>80232.000</td>\n",
       "    </tr>\n",
       "    <tr>\n",
       "      <th>90%</th>\n",
       "      <td>111000.000</td>\n",
       "    </tr>\n",
       "    <tr>\n",
       "      <th>95%</th>\n",
       "      <td>135000.000</td>\n",
       "    </tr>\n",
       "    <tr>\n",
       "      <th>99%</th>\n",
       "      <td>189000.000</td>\n",
       "    </tr>\n",
       "    <tr>\n",
       "      <th>max</th>\n",
       "      <td>234000.000</td>\n",
       "    </tr>\n",
       "  </tbody>\n",
       "</table>\n",
       "</div>"
      ],
      "text/plain": [
       "       annual_inc\n",
       "count   38191.000\n",
       "mean    65313.610\n",
       "std     35150.773\n",
       "min      4000.000\n",
       "5%      24000.000\n",
       "10%     30000.000\n",
       "25%     40000.000\n",
       "50%     58000.000\n",
       "75%     80232.000\n",
       "90%    111000.000\n",
       "95%    135000.000\n",
       "99%    189000.000\n",
       "max    234000.000"
      ]
     },
     "execution_count": 35,
     "metadata": {},
     "output_type": "execute_result"
    }
   ],
   "source": [
    "pd.set_option('display.float_format', lambda x: '%.3f' % x)\n",
    "loanDfwoId[['annual_inc']].describe(percentiles=[0.05,0.1,0.25,0.5,0.75,0.9,0.95,0.99])"
   ]
  },
  {
   "cell_type": "code",
   "execution_count": 36,
   "id": "a06a5d6f",
   "metadata": {},
   "outputs": [
    {
     "name": "stderr",
     "output_type": "stream",
     "text": [
      "C:\\Users\\bhavit\\anaconda\\lib\\site-packages\\seaborn\\_decorators.py:36: FutureWarning: Pass the following variable as a keyword arg: x. From version 0.12, the only valid positional argument will be `data`, and passing other arguments without an explicit keyword will result in an error or misinterpretation.\n",
      "  warnings.warn(\n",
      "C:\\Users\\bhavit\\anaconda\\lib\\site-packages\\seaborn\\distributions.py:2557: FutureWarning: `distplot` is a deprecated function and will be removed in a future version. Please adapt your code to use either `displot` (a figure-level function with similar flexibility) or `histplot` (an axes-level function for histograms).\n",
      "  warnings.warn(msg, FutureWarning)\n"
     ]
    },
    {
     "data": {
      "image/png": "[encoded data removed]",
      "text/plain": [
       "<Figure size 1008x288 with 2 Axes>"
      ]
     },
     "metadata": {
      "needs_background": "light"
     },
     "output_type": "display_data"
    }
   ],
   "source": [
    "\n",
    "#Configuring figure size to populate grpahs\n",
    "plt.figure(figsize=(14,4))\n",
    "\n",
    "#First plot is box plot to see range of installments and identify outliars\n",
    "plt.subplot(1,2,1)\n",
    "plt.ticklabel_format(style='plain', axis='x')\n",
    "sns.boxplot(loanDfwoId.annual_inc)\n",
    "\n",
    "\n",
    "#Second  plot is distribution plot to see distribution of variable : installment\n",
    "plt.subplot(1,2,2)\n",
    "plt.ticklabel_format(style='plain', axis='x')\n",
    "sns.distplot(loanDfwoId.annual_inc)\n",
    "\n",
    "plt.suptitle('Distribution - Annual Income')\n",
    "plt.show()"
   ]
  },
  {
   "cell_type": "markdown",
   "id": "454bc865",
   "metadata": {},
   "source": [
    "**Observations**:<br>\n",
    "Data observation : As we can see median is around 58000 and average is 68000. So there are sone annual income values which is impacting overall average.\n",
    "Business observation : Most of the people having annual income between 40k and 80K."
   ]
  },
  {
   "cell_type": "markdown",
   "id": "8bdc0248",
   "metadata": {},
   "source": [
    "#### dti anlysis : \n"
   ]
  },
  {
   "cell_type": "code",
   "execution_count": 37,
   "id": "09d5c246",
   "metadata": {},
   "outputs": [
    {
     "data": {
      "text/html": [
       "<div>\n",
       "<style scoped>\n",
       "    .dataframe tbody tr th:only-of-type {\n",
       "        vertical-align: middle;\n",
       "    }\n",
       "\n",
       "    .dataframe tbody tr th {\n",
       "        vertical-align: top;\n",
       "    }\n",
       "\n",
       "    .dataframe thead th {\n",
       "        text-align: right;\n",
       "    }\n",
       "</style>\n",
       "<table border=\"1\" class=\"dataframe\">\n",
       "  <thead>\n",
       "    <tr style=\"text-align: right;\">\n",
       "      <th></th>\n",
       "      <th>dti</th>\n",
       "    </tr>\n",
       "  </thead>\n",
       "  <tbody>\n",
       "    <tr>\n",
       "      <th>count</th>\n",
       "      <td>38191.000</td>\n",
       "    </tr>\n",
       "    <tr>\n",
       "      <th>mean</th>\n",
       "      <td>13.333</td>\n",
       "    </tr>\n",
       "    <tr>\n",
       "      <th>std</th>\n",
       "      <td>6.658</td>\n",
       "    </tr>\n",
       "    <tr>\n",
       "      <th>min</th>\n",
       "      <td>0.000</td>\n",
       "    </tr>\n",
       "    <tr>\n",
       "      <th>5%</th>\n",
       "      <td>2.160</td>\n",
       "    </tr>\n",
       "    <tr>\n",
       "      <th>10%</th>\n",
       "      <td>4.130</td>\n",
       "    </tr>\n",
       "    <tr>\n",
       "      <th>25%</th>\n",
       "      <td>8.210</td>\n",
       "    </tr>\n",
       "    <tr>\n",
       "      <th>50%</th>\n",
       "      <td>13.430</td>\n",
       "    </tr>\n",
       "    <tr>\n",
       "      <th>75%</th>\n",
       "      <td>18.600</td>\n",
       "    </tr>\n",
       "    <tr>\n",
       "      <th>90%</th>\n",
       "      <td>22.310</td>\n",
       "    </tr>\n",
       "    <tr>\n",
       "      <th>95%</th>\n",
       "      <td>23.815</td>\n",
       "    </tr>\n",
       "    <tr>\n",
       "      <th>99%</th>\n",
       "      <td>26.541</td>\n",
       "    </tr>\n",
       "    <tr>\n",
       "      <th>max</th>\n",
       "      <td>29.990</td>\n",
       "    </tr>\n",
       "  </tbody>\n",
       "</table>\n",
       "</div>"
      ],
      "text/plain": [
       "            dti\n",
       "count 38191.000\n",
       "mean     13.333\n",
       "std       6.658\n",
       "min       0.000\n",
       "5%        2.160\n",
       "10%       4.130\n",
       "25%       8.210\n",
       "50%      13.430\n",
       "75%      18.600\n",
       "90%      22.310\n",
       "95%      23.815\n",
       "99%      26.541\n",
       "max      29.990"
      ]
     },
     "execution_count": 37,
     "metadata": {},
     "output_type": "execute_result"
    }
   ],
   "source": [
    "loanDfwoId[['dti']].describe(percentiles=[0.05,0.1,0.25,0.5,0.75,0.9,0.95,0.99])"
   ]
  },
  {
   "cell_type": "code",
   "execution_count": 38,
   "id": "15fc63be",
   "metadata": {},
   "outputs": [
    {
     "name": "stderr",
     "output_type": "stream",
     "text": [
      "C:\\Users\\bhavit\\anaconda\\lib\\site-packages\\seaborn\\_decorators.py:36: FutureWarning: Pass the following variable as a keyword arg: x. From version 0.12, the only valid positional argument will be `data`, and passing other arguments without an explicit keyword will result in an error or misinterpretation.\n",
      "  warnings.warn(\n",
      "C:\\Users\\bhavit\\anaconda\\lib\\site-packages\\seaborn\\distributions.py:2557: FutureWarning: `distplot` is a deprecated function and will be removed in a future version. Please adapt your code to use either `displot` (a figure-level function with similar flexibility) or `histplot` (an axes-level function for histograms).\n",
      "  warnings.warn(msg, FutureWarning)\n"
     ]
    },
    {
     "data": {
      "image/png": "[encoded data removed]",
      "text/plain": [
       "<Figure size 1008x288 with 2 Axes>"
      ]
     },
     "metadata": {
      "needs_background": "light"
     },
     "output_type": "display_data"
    }
   ],
   "source": [
    "\n",
    "#Configuring figure size to populate grpahs\n",
    "plt.figure(figsize=(14,4))\n",
    "\n",
    "#First plot is box plot to see range of installments and identify outliars\n",
    "plt.subplot(1,2,1)\n",
    "plt.ticklabel_format(style='plain', axis='x')\n",
    "sns.boxplot(loanDfwoId.dti)\n",
    "\n",
    "\n",
    "#Second  plot is distribution plot to see distribution of variable : installment\n",
    "plt.subplot(1,2,2)\n",
    "plt.ticklabel_format(style='plain', axis='x')\n",
    "sns.distplot(loanDfwoId.dti)\n",
    "\n",
    "plt.suptitle('Distribution - dti')\n",
    "plt.show()"
   ]
  },
  {
   "cell_type": "markdown",
   "id": "a6f2a98f",
   "metadata": {},
   "source": [
    "**Observations**:<br>\n",
    "As you can see dti is between 2 and 30 . So its a healthy sign that loan is disbursed to good saving people so that loan defualters can be less."
   ]
  },
  {
   "cell_type": "markdown",
   "id": "29f23149",
   "metadata": {},
   "source": [
    "#### grade analysis:"
   ]
  },
  {
   "cell_type": "code",
   "execution_count": 39,
   "id": "c2bd09fa",
   "metadata": {},
   "outputs": [
    {
     "data": {
      "image/png": "[encoded data removed]",
      "text/plain": [
       "<Figure size 432x288 with 1 Axes>"
      ]
     },
     "metadata": {
      "needs_background": "light"
     },
     "output_type": "display_data"
    }
   ],
   "source": [
    "#Percentage of each values\n",
    "prob_df = loanDfwoId['grade'].value_counts(normalize=True).reset_index()\n",
    "\n",
    "sns.barplot(x='index', y=\"grade\", data=prob_df)\n",
    "plt.xlabel(\"grade\")\n",
    "plt.ylabel('Proportion')\n",
    "plt.title('grade'+' Distribution')\n",
    "plt.show()"
   ]
  },
  {
   "cell_type": "markdown",
   "id": "4f6e39d3",
   "metadata": {},
   "source": [
    "**Observations**: \n",
    "As you can see most of the borrower having B and A grades."
   ]
  },
  {
   "cell_type": "markdown",
   "id": "95b77782",
   "metadata": {},
   "source": [
    "#### Employment length analysis : \n",
    "Employment length seems to be most important length so we will further anlyse it see distribution of it"
   ]
  },
  {
   "cell_type": "code",
   "execution_count": 40,
   "id": "dbe1ebc3",
   "metadata": {},
   "outputs": [
    {
     "data": {
      "text/html": [
       "<div>\n",
       "<style scoped>\n",
       "    .dataframe tbody tr th:only-of-type {\n",
       "        vertical-align: middle;\n",
       "    }\n",
       "\n",
       "    .dataframe tbody tr th {\n",
       "        vertical-align: top;\n",
       "    }\n",
       "\n",
       "    .dataframe thead th {\n",
       "        text-align: right;\n",
       "    }\n",
       "</style>\n",
       "<table border=\"1\" class=\"dataframe\">\n",
       "  <thead>\n",
       "    <tr style=\"text-align: right;\">\n",
       "      <th></th>\n",
       "      <th>emp_length</th>\n",
       "    </tr>\n",
       "  </thead>\n",
       "  <tbody>\n",
       "    <tr>\n",
       "      <th>0</th>\n",
       "      <td>10</td>\n",
       "    </tr>\n",
       "  </tbody>\n",
       "</table>\n",
       "</div>"
      ],
      "text/plain": [
       "   emp_length\n",
       "0          10"
      ]
     },
     "execution_count": 40,
     "metadata": {},
     "output_type": "execute_result"
    }
   ],
   "source": [
    "loanDfwoId[['emp_length']].head(1)"
   ]
  },
  {
   "cell_type": "code",
   "execution_count": 41,
   "id": "24904102",
   "metadata": {},
   "outputs": [
    {
     "data": {
      "text/plain": [
       "emp_length    int64\n",
       "dtype: object"
      ]
     },
     "execution_count": 41,
     "metadata": {},
     "output_type": "execute_result"
    }
   ],
   "source": [
    "loanDfwoId[['emp_length']].dtypes"
   ]
  },
  {
   "cell_type": "code",
   "execution_count": 42,
   "id": "57bf2bce",
   "metadata": {},
   "outputs": [],
   "source": [
    "loanDfwoId['emp_length']=loanDfwoId['emp_length'].astype('float')"
   ]
  },
  {
   "cell_type": "code",
   "execution_count": 43,
   "id": "15e7ae26",
   "metadata": {},
   "outputs": [
    {
     "data": {
      "text/html": [
       "<div>\n",
       "<style scoped>\n",
       "    .dataframe tbody tr th:only-of-type {\n",
       "        vertical-align: middle;\n",
       "    }\n",
       "\n",
       "    .dataframe tbody tr th {\n",
       "        vertical-align: top;\n",
       "    }\n",
       "\n",
       "    .dataframe thead th {\n",
       "        text-align: right;\n",
       "    }\n",
       "</style>\n",
       "<table border=\"1\" class=\"dataframe\">\n",
       "  <thead>\n",
       "    <tr style=\"text-align: right;\">\n",
       "      <th></th>\n",
       "      <th>emp_length</th>\n",
       "    </tr>\n",
       "  </thead>\n",
       "  <tbody>\n",
       "    <tr>\n",
       "      <th>count</th>\n",
       "      <td>38191.000</td>\n",
       "    </tr>\n",
       "    <tr>\n",
       "      <th>mean</th>\n",
       "      <td>4.916</td>\n",
       "    </tr>\n",
       "    <tr>\n",
       "      <th>std</th>\n",
       "      <td>3.451</td>\n",
       "    </tr>\n",
       "    <tr>\n",
       "      <th>min</th>\n",
       "      <td>0.000</td>\n",
       "    </tr>\n",
       "    <tr>\n",
       "      <th>5%</th>\n",
       "      <td>1.000</td>\n",
       "    </tr>\n",
       "    <tr>\n",
       "      <th>10%</th>\n",
       "      <td>1.000</td>\n",
       "    </tr>\n",
       "    <tr>\n",
       "      <th>25%</th>\n",
       "      <td>2.000</td>\n",
       "    </tr>\n",
       "    <tr>\n",
       "      <th>50%</th>\n",
       "      <td>4.000</td>\n",
       "    </tr>\n",
       "    <tr>\n",
       "      <th>75%</th>\n",
       "      <td>9.000</td>\n",
       "    </tr>\n",
       "    <tr>\n",
       "      <th>90%</th>\n",
       "      <td>10.000</td>\n",
       "    </tr>\n",
       "    <tr>\n",
       "      <th>95%</th>\n",
       "      <td>10.000</td>\n",
       "    </tr>\n",
       "    <tr>\n",
       "      <th>99%</th>\n",
       "      <td>10.000</td>\n",
       "    </tr>\n",
       "    <tr>\n",
       "      <th>max</th>\n",
       "      <td>10.000</td>\n",
       "    </tr>\n",
       "  </tbody>\n",
       "</table>\n",
       "</div>"
      ],
      "text/plain": [
       "       emp_length\n",
       "count   38191.000\n",
       "mean        4.916\n",
       "std         3.451\n",
       "min         0.000\n",
       "5%          1.000\n",
       "10%         1.000\n",
       "25%         2.000\n",
       "50%         4.000\n",
       "75%         9.000\n",
       "90%        10.000\n",
       "95%        10.000\n",
       "99%        10.000\n",
       "max        10.000"
      ]
     },
     "execution_count": 43,
     "metadata": {},
     "output_type": "execute_result"
    }
   ],
   "source": [
    "loanDfwoId[['emp_length']].describe(percentiles=[0.05,0.1,0.25,0.5,0.75,0.9,0.95,0.99])"
   ]
  },
  {
   "cell_type": "code",
   "execution_count": 44,
   "id": "a6ed2422",
   "metadata": {},
   "outputs": [
    {
     "data": {
      "image/png": "[encoded data removed]",
      "text/plain": [
       "<Figure size 432x288 with 1 Axes>"
      ]
     },
     "metadata": {
      "needs_background": "light"
     },
     "output_type": "display_data"
    }
   ],
   "source": [
    "disttributionDf = loanDfwoId['emp_length'].value_counts(normalize=True).reset_index()\n",
    "\n",
    "sns.barplot(x='index', y='emp_length', data=disttributionDf)\n",
    "plt.xlabel('emp_length')\n",
    "plt.ylabel('% distribution')\n",
    "plt.title('emp_length Distribution')\n",
    "plt.show()"
   ]
  },
  {
   "cell_type": "code",
   "execution_count": 45,
   "id": "4ad7637b",
   "metadata": {},
   "outputs": [
    {
     "data": {
      "text/html": [
       "<div>\n",
       "<style scoped>\n",
       "    .dataframe tbody tr th:only-of-type {\n",
       "        vertical-align: middle;\n",
       "    }\n",
       "\n",
       "    .dataframe tbody tr th {\n",
       "        vertical-align: top;\n",
       "    }\n",
       "\n",
       "    .dataframe thead th {\n",
       "        text-align: right;\n",
       "    }\n",
       "</style>\n",
       "<table border=\"1\" class=\"dataframe\">\n",
       "  <thead>\n",
       "    <tr style=\"text-align: right;\">\n",
       "      <th></th>\n",
       "      <th>index</th>\n",
       "      <th>emp_length</th>\n",
       "    </tr>\n",
       "  </thead>\n",
       "  <tbody>\n",
       "    <tr>\n",
       "      <th>0</th>\n",
       "      <td>10.000</td>\n",
       "      <td>0.219</td>\n",
       "    </tr>\n",
       "    <tr>\n",
       "      <th>1</th>\n",
       "      <td>1.000</td>\n",
       "      <td>0.200</td>\n",
       "    </tr>\n",
       "    <tr>\n",
       "      <th>2</th>\n",
       "      <td>2.000</td>\n",
       "      <td>0.111</td>\n",
       "    </tr>\n",
       "    <tr>\n",
       "      <th>3</th>\n",
       "      <td>3.000</td>\n",
       "      <td>0.104</td>\n",
       "    </tr>\n",
       "    <tr>\n",
       "      <th>4</th>\n",
       "      <td>4.000</td>\n",
       "      <td>0.087</td>\n",
       "    </tr>\n",
       "  </tbody>\n",
       "</table>\n",
       "</div>"
      ],
      "text/plain": [
       "   index  emp_length\n",
       "0 10.000       0.219\n",
       "1  1.000       0.200\n",
       "2  2.000       0.111\n",
       "3  3.000       0.104\n",
       "4  4.000       0.087"
      ]
     },
     "execution_count": 45,
     "metadata": {},
     "output_type": "execute_result"
    }
   ],
   "source": [
    "disttributionDf.head()"
   ]
  },
  {
   "cell_type": "markdown",
   "id": "7703cc28",
   "metadata": {},
   "source": [
    "**Observations**:\n",
    "As you can see around 22% borowers having 10+ years of experience and around 20 % having  <=1 years of experience. \n",
    "So loan distribution is not specifically for higher employment length."
   ]
  },
  {
   "cell_type": "markdown",
   "id": "e06afc95",
   "metadata": {},
   "source": [
    "#### Home Ownership Analysis:"
   ]
  },
  {
   "cell_type": "code",
   "execution_count": 46,
   "id": "8035e485",
   "metadata": {},
   "outputs": [
    {
     "data": {
      "image/png": "[encoded data removed]",
      "text/plain": [
       "<Figure size 432x288 with 1 Axes>"
      ]
     },
     "metadata": {
      "needs_background": "light"
     },
     "output_type": "display_data"
    }
   ],
   "source": [
    "#Percentage of each values\n",
    "distributionDf = loanDfwoId['home_ownership'].value_counts(normalize=True).reset_index()\n",
    "#Plotting percentage distribution vs home ownership\n",
    "sns.barplot(x='index', y='home_ownership', data=distributionDf)\n",
    "plt.xlabel('home_ownership')\n",
    "plt.ylabel('% distribution')\n",
    "plt.title('home_ownership Distribution')\n",
    "plt.show()"
   ]
  },
  {
   "cell_type": "markdown",
   "id": "25b40571",
   "metadata": {},
   "source": [
    "**Observations**:\n",
    "As you can see most of the borrowers either living in rented house or houses which are used as securities in loans. Only 10 % applicant with OWN house . i.e. people with own house requires less loan due to financial stability"
   ]
  },
  {
   "cell_type": "markdown",
   "id": "c711f7c8",
   "metadata": {},
   "source": [
    "#### Verification Status analysis"
   ]
  },
  {
   "cell_type": "code",
   "execution_count": 47,
   "id": "ae5a8067",
   "metadata": {},
   "outputs": [
    {
     "data": {
      "image/png": "[encoded data removed]",
      "text/plain": [
       "<Figure size 432x288 with 1 Axes>"
      ]
     },
     "metadata": {
      "needs_background": "light"
     },
     "output_type": "display_data"
    }
   ],
   "source": [
    "\n",
    "#Percentage of each values\n",
    "distributionDf = loanDfwoId['verification_status'].value_counts(normalize=True).reset_index()\n",
    "\n",
    "sns.barplot(x='index', y='verification_status', data=distributionDf)\n",
    "plt.xlabel('verification_status')\n",
    "plt.ylabel('% distribution')\n",
    "plt.title('verification_status Distribution')\n",
    "plt.show()"
   ]
  },
  {
   "cell_type": "markdown",
   "id": "74c276d8",
   "metadata": {},
   "source": [
    "**Observations**:\n",
    "40 % of the loans distributed without verification of applicant income.It can be the reason of higher NPA in future."
   ]
  },
  {
   "cell_type": "markdown",
   "id": "9b02a188",
   "metadata": {},
   "source": [
    "## Segmented Univariate Analysis"
   ]
  },
  {
   "cell_type": "markdown",
   "id": "286beadb",
   "metadata": {},
   "source": [
    "#### Loan Amount Analysis:"
   ]
  },
  {
   "cell_type": "code",
   "execution_count": 48,
   "id": "f9870a78",
   "metadata": {},
   "outputs": [
    {
     "data": {
      "text/plain": [
       "<AxesSubplot:title={'center':'Grade vs Loan Amount'}, xlabel='grade', ylabel='loan_amnt'>"
      ]
     },
     "execution_count": 48,
     "metadata": {},
     "output_type": "execute_result"
    },
    {
     "data": {
      "image/png": "[encoded data removed]",
      "text/plain": [
       "<Figure size 1584x360 with 2 Axes>"
      ]
     },
     "metadata": {
      "needs_background": "light"
     },
     "output_type": "display_data"
    }
   ],
   "source": [
    "plt.figure(figsize=(22,5))\n",
    "plt.subplot(121)\n",
    "sns.barplot(x='term', y=loanDfwoId.loan_amnt, data=loanDfwoId)\n",
    "plt.title('Terms vs Loan Amount')\n",
    "plt.subplot(122)\n",
    "plt.title('Grade vs Loan Amount')\n",
    "#Finding grades with sorted alphabetical order\n",
    "grade_ord = loanDfwoId.grade.unique()\n",
    "grade_ord.sort()\n",
    "sns.barplot(x='grade', y=loanDfwoId.loan_amnt, order = grade_ord, data=loanDfwoId)"
   ]
  },
  {
   "cell_type": "markdown",
   "id": "2542dc2b",
   "metadata": {},
   "source": [
    "**Observations**:As you can see Higher amount loans have high term. Grade 'G' and 'F' have taken max loan amount. As Grades are decreasing the loan amount is increasing."
   ]
  },
  {
   "cell_type": "code",
   "execution_count": 49,
   "id": "5852a19f",
   "metadata": {},
   "outputs": [
    {
     "data": {
      "text/plain": [
       "<AxesSubplot:title={'center':'home_ownership vs Loan Amount'}, xlabel='home_ownership', ylabel='loan_amnt'>"
      ]
     },
     "execution_count": 49,
     "metadata": {},
     "output_type": "execute_result"
    },
    {
     "data": {
      "image/png": "[encoded data removed]",
      "text/plain": [
       "<Figure size 1584x360 with 2 Axes>"
      ]
     },
     "metadata": {
      "needs_background": "light"
     },
     "output_type": "display_data"
    }
   ],
   "source": [
    "plt.figure(figsize=(22,5))\n",
    "plt.subplot(121)\n",
    "sns.barplot(x='verification_status', y=loanDfwoId.loan_amnt, data=loanDfwoId)\n",
    "plt.title('verification_status vs Loan Amount')\n",
    "plt.subplot(122)\n",
    "plt.title('home_ownership vs Loan Amount')\n",
    "#Finding grades with sorted alphabetical order\n",
    "grade_ord.sort()\n",
    "sns.barplot(x='home_ownership', y=loanDfwoId.loan_amnt, data=loanDfwoId)"
   ]
  },
  {
   "cell_type": "markdown",
   "id": "a6785220",
   "metadata": {},
   "source": [
    "**Observations**:As you can see verified applicants have higher loans. Also Mortgage category having higher loan amount."
   ]
  },
  {
   "cell_type": "code",
   "execution_count": 50,
   "id": "4da87b11",
   "metadata": {},
   "outputs": [
    {
     "data": {
      "text/plain": [
       "Text(0.5, 1.0, 'loan_status vs Loan Amount')"
      ]
     },
     "execution_count": 50,
     "metadata": {},
     "output_type": "execute_result"
    },
    {
     "data": {
      "image/png": "[encoded data removed]",
      "text/plain": [
       "<Figure size 432x288 with 1 Axes>"
      ]
     },
     "metadata": {
      "needs_background": "light"
     },
     "output_type": "display_data"
    }
   ],
   "source": [
    "sns.barplot(x='loan_status', y=loanDfwoId.loan_amnt, data=loanDfwoId)\n",
    "plt.title('loan_status vs Loan Amount')"
   ]
  },
  {
   "cell_type": "markdown",
   "id": "d99607d2",
   "metadata": {},
   "source": [
    "**Observations**:As you can see defualters have higher loan amount compared to Fully paid."
   ]
  },
  {
   "cell_type": "code",
   "execution_count": 51,
   "id": "f162611a",
   "metadata": {},
   "outputs": [
    {
     "data": {
      "text/plain": [
       "Text(0.5, 1.0, 'purpose vs Loan Amount')"
      ]
     },
     "execution_count": 51,
     "metadata": {},
     "output_type": "execute_result"
    },
    {
     "data": {
      "image/png": "[encoded data removed]",
      "text/plain": [
       "<Figure size 1440x360 with 1 Axes>"
      ]
     },
     "metadata": {
      "needs_background": "light"
     },
     "output_type": "display_data"
    }
   ],
   "source": [
    "plt.figure(figsize=(20,5))\n",
    "sns.barplot(x='purpose', y=loanDfwoId.loan_amnt, data=loanDfwoId)\n",
    "plt.xticks(rotation=90)\n",
    "plt.title('purpose vs Loan Amount')"
   ]
  },
  {
   "cell_type": "markdown",
   "id": "50e12006",
   "metadata": {},
   "source": [
    "**Observations**:As you can see small_business and house purchase have higher loan amount."
   ]
  },
  {
   "cell_type": "markdown",
   "id": "8f6ba361",
   "metadata": {},
   "source": [
    "### int_rate analysis:"
   ]
  },
  {
   "cell_type": "code",
   "execution_count": 52,
   "id": "1ae1f642",
   "metadata": {},
   "outputs": [
    {
     "data": {
      "text/plain": [
       "<AxesSubplot:title={'center':'Grade vs Interest rates'}, xlabel='grade', ylabel='int_rate'>"
      ]
     },
     "execution_count": 52,
     "metadata": {},
     "output_type": "execute_result"
    },
    {
     "data": {
      "image/png": "[encoded data removed]",
      "text/plain": [
       "<Figure size 1584x360 with 2 Axes>"
      ]
     },
     "metadata": {
      "needs_background": "light"
     },
     "output_type": "display_data"
    }
   ],
   "source": [
    "plt.figure(figsize=(22,5))\n",
    "plt.subplot(121)\n",
    "sns.barplot(x='term', y=loanDfwoId.int_rate, data=loanDfwoId)\n",
    "plt.title('Terms vs Interest rates')\n",
    "plt.subplot(122)\n",
    "plt.title('Grade vs Interest rates')\n",
    "#Finding grades with sorted alphabetical order\n",
    "grade_ord = loanDfwoId.grade.unique()\n",
    "grade_ord.sort()\n",
    "sns.barplot(x='grade', y=loanDfwoId.int_rate, order = grade_ord, data=loanDfwoId)"
   ]
  },
  {
   "cell_type": "markdown",
   "id": "ad2a3874",
   "metadata": {},
   "source": [
    "**Observations**:\n",
    "* Higher term having high interest rates. Lower grades having higher interest rates."
   ]
  },
  {
   "cell_type": "code",
   "execution_count": 53,
   "id": "d2360b1e",
   "metadata": {},
   "outputs": [
    {
     "data": {
      "text/plain": [
       "<AxesSubplot:title={'center':'home_ownership vs Interest rates'}, xlabel='home_ownership', ylabel='int_rate'>"
      ]
     },
     "execution_count": 53,
     "metadata": {},
     "output_type": "execute_result"
    },
    {
     "data": {
      "image/png": "[encoded data removed]",
      "text/plain": [
       "<Figure size 1584x360 with 2 Axes>"
      ]
     },
     "metadata": {
      "needs_background": "light"
     },
     "output_type": "display_data"
    }
   ],
   "source": [
    "plt.figure(figsize=(22,5))\n",
    "plt.subplot(121)\n",
    "sns.boxplot(x='verification_status', y=loanDfwoId.int_rate, data=loanDfwoId)\n",
    "plt.title('verification_status vs Interest rates')\n",
    "plt.subplot(122)\n",
    "plt.title('home_ownership vs Interest rates')\n",
    "#Finding grades with sorted alphabetical order\n",
    "grade_ord.sort()\n",
    "sns.boxplot(x='home_ownership', y=loanDfwoId.int_rate, data=loanDfwoId)"
   ]
  },
  {
   "cell_type": "markdown",
   "id": "ba4e170e",
   "metadata": {},
   "source": [
    "**Observations**:\n",
    "* There is a small variation in interest rates for different categories of verification status.  \n",
    "* For Mortgage category of home ownership we do have lower interest rates."
   ]
  },
  {
   "cell_type": "code",
   "execution_count": 54,
   "id": "ad34560f",
   "metadata": {},
   "outputs": [
    {
     "data": {
      "text/plain": [
       "Text(0.5, 1.0, 'loan_status vs Interest Rate')"
      ]
     },
     "execution_count": 54,
     "metadata": {},
     "output_type": "execute_result"
    },
    {
     "data": {
      "image/png": "[encoded data removed]",
      "text/plain": [
       "<Figure size 1584x360 with 2 Axes>"
      ]
     },
     "metadata": {
      "needs_background": "light"
     },
     "output_type": "display_data"
    }
   ],
   "source": [
    "plt.figure(figsize=(22,5))\n",
    "plt.subplot(121)\n",
    "sns.barplot(x='loan_status', y=loanDfwoId.int_rate, data=loanDfwoId)\n",
    "plt.title('loan_status vs Interest Rate')\n",
    "plt.subplot(122)\n",
    "sns.boxplot(x='loan_status', y=loanDfwoId.int_rate, data=loanDfwoId)\n",
    "plt.title('loan_status vs Interest Rate')"
   ]
  },
  {
   "cell_type": "markdown",
   "id": "77ae66fb",
   "metadata": {},
   "source": [
    "**Observations**:\n",
    "* Most defualters had high interest rates."
   ]
  },
  {
   "cell_type": "code",
   "execution_count": 55,
   "id": "2c00379a",
   "metadata": {},
   "outputs": [
    {
     "data": {
      "text/plain": [
       "Text(0.5, 1.0, 'purpose vs Interest Rate')"
      ]
     },
     "execution_count": 55,
     "metadata": {},
     "output_type": "execute_result"
    },
    {
     "data": {
      "image/png": "[encoded data removed]",
      "text/plain": [
       "<Figure size 1440x360 with 1 Axes>"
      ]
     },
     "metadata": {
      "needs_background": "light"
     },
     "output_type": "display_data"
    }
   ],
   "source": [
    "plt.figure(figsize=(20,5))\n",
    "sns.boxplot(x='purpose', y=loanDfwoId.int_rate, data=loanDfwoId)\n",
    "plt.xticks(rotation=90)\n",
    "plt.title('purpose vs Interest Rate')"
   ]
  },
  {
   "cell_type": "markdown",
   "id": "64271c80",
   "metadata": {},
   "source": [
    "**Observations**:\n",
    "* small business purpose has highest interest rates, where as vehicle loan segment has lowest interest rates."
   ]
  },
  {
   "cell_type": "markdown",
   "id": "a50a160d",
   "metadata": {},
   "source": [
    "### annual_inc analysis"
   ]
  },
  {
   "cell_type": "code",
   "execution_count": 56,
   "id": "5c59b4a5",
   "metadata": {},
   "outputs": [
    {
     "data": {
      "text/plain": [
       "<AxesSubplot:title={'center':'Grade vs Annual income'}, xlabel='grade', ylabel='annual_inc'>"
      ]
     },
     "execution_count": 56,
     "metadata": {},
     "output_type": "execute_result"
    },
    {
     "data": {
      "image/png": "[encoded data removed]",
      "text/plain": [
       "<Figure size 1584x360 with 2 Axes>"
      ]
     },
     "metadata": {
      "needs_background": "light"
     },
     "output_type": "display_data"
    }
   ],
   "source": [
    "plt.figure(figsize=(22,5))\n",
    "plt.subplot(121)\n",
    "sns.barplot(x='term', y=loanDfwoId.annual_inc, data=loanDfwoId)\n",
    "plt.title('Terms vs Annual income')\n",
    "plt.subplot(122)\n",
    "plt.title('Grade vs Annual income')\n",
    "#Finding grades with sorted alphabetical order\n",
    "grade_ord = loanDfwoId.grade.unique()\n",
    "grade_ord.sort()\n",
    "sns.barplot(x='grade', y=loanDfwoId.annual_inc, order = grade_ord, data=loanDfwoId)"
   ]
  },
  {
   "cell_type": "markdown",
   "id": "af04ee5e",
   "metadata": {},
   "source": [
    "**Observations**:\n",
    "* strange behaviour in above graph as you can see lower grades has higher annual income"
   ]
  },
  {
   "cell_type": "code",
   "execution_count": 57,
   "id": "2504c08b",
   "metadata": {},
   "outputs": [
    {
     "data": {
      "image/png": "[encoded data removed]",
      "text/plain": [
       "<Figure size 432x288 with 1 Axes>"
      ]
     },
     "metadata": {
      "needs_background": "light"
     },
     "output_type": "display_data"
    }
   ],
   "source": [
    "sns.boxplot(x='loan_status', y=loanDfwoId.annual_inc, data=loanDfwoId)\n",
    "plt.title('loan_status vs annual income')\n",
    "plt.yscale('log')"
   ]
  },
  {
   "cell_type": "markdown",
   "id": "35da6811",
   "metadata": {},
   "source": [
    "**Observations:**    \n",
    "* Charged off category having slightly lower annual income but its not very significant"
   ]
  },
  {
   "cell_type": "markdown",
   "id": "1a34cbab",
   "metadata": {},
   "source": [
    "### DTI analysis:\n",
    "Debt to Income Ratio. Its the most important feature variable as per above analysis. we will se its behaviour compared to other variables"
   ]
  },
  {
   "cell_type": "code",
   "execution_count": 58,
   "id": "68069a21",
   "metadata": {},
   "outputs": [
    {
     "data": {
      "text/plain": [
       "<AxesSubplot:title={'center':'Grade vs dti'}, xlabel='grade', ylabel='dti'>"
      ]
     },
     "execution_count": 58,
     "metadata": {},
     "output_type": "execute_result"
    },
    {
     "data": {
      "image/png": "[encoded data removed]",
      "text/plain": [
       "<Figure size 1584x360 with 2 Axes>"
      ]
     },
     "metadata": {
      "needs_background": "light"
     },
     "output_type": "display_data"
    }
   ],
   "source": [
    "plt.figure(figsize=(22,5))\n",
    "plt.subplot(121)\n",
    "sns.boxplot(x='term', y=loanDfwoId.dti, data=loanDfwoId)\n",
    "plt.title('Terms vs dti')\n",
    "plt.subplot(122)\n",
    "plt.title('Grade vs dti')\n",
    "ordergrade = loanDfwoId.grade.unique()\n",
    "ordergrade.sort()\n",
    "sns.boxplot(x='grade', y=loanDfwoId.dti, order = ordergrade, data=loanDfwoId)"
   ]
  },
  {
   "cell_type": "markdown",
   "id": "0e6675be",
   "metadata": {},
   "source": [
    "**Observations:**    \n",
    "* debt to income ratio is lower for lower loan duration or we say with lower dti applicants mostly take lower duration loans.\n",
    "* As dti increasing grading is decreasing (from A to G) so higher dti means lower grading from above data snapshot"
   ]
  },
  {
   "cell_type": "code",
   "execution_count": 59,
   "id": "e15c0c20",
   "metadata": {},
   "outputs": [
    {
     "data": {
      "text/plain": [
       "Text(0.5, 1.0, 'loan_status vs dti')"
      ]
     },
     "execution_count": 59,
     "metadata": {},
     "output_type": "execute_result"
    },
    {
     "data": {
      "image/png": "[encoded data removed]",
      "text/plain": [
       "<Figure size 432x288 with 1 Axes>"
      ]
     },
     "metadata": {
      "needs_background": "light"
     },
     "output_type": "display_data"
    }
   ],
   "source": [
    "sns.boxplot(x='loan_status', y=loanDfwoId.dti, data=loanDfwoId)\n",
    "plt.title('loan_status vs dti')"
   ]
  },
  {
   "cell_type": "markdown",
   "id": "d68f16cd",
   "metadata": {},
   "source": [
    "**Observations:**    \n",
    "* Higher dti is converting applicant to defulter category.i.e. Borrowers with high DTI has more probability to default"
   ]
  },
  {
   "cell_type": "code",
   "execution_count": 60,
   "id": "6042b254",
   "metadata": {},
   "outputs": [
    {
     "data": {
      "text/plain": [
       "Text(0.5, 1.0, 'purpose vs dti')"
      ]
     },
     "execution_count": 60,
     "metadata": {},
     "output_type": "execute_result"
    },
    {
     "data": {
      "image/png": "[encoded data removed]",
      "text/plain": [
       "<Figure size 1440x360 with 1 Axes>"
      ]
     },
     "metadata": {
      "needs_background": "light"
     },
     "output_type": "display_data"
    }
   ],
   "source": [
    "plt.figure(figsize=(20,5))\n",
    "sns.boxplot(x='purpose', y=loanDfwoId.dti, data=loanDfwoId)\n",
    "plt.xticks(rotation=90)\n",
    "plt.title('purpose vs dti')"
   ]
  },
  {
   "cell_type": "markdown",
   "id": "60bf538d",
   "metadata": {},
   "source": [
    "**Observations**:  \n",
    "* credit card and debt consolidation purpose has more DTI than other purposes."
   ]
  },
  {
   "cell_type": "markdown",
   "id": "4afba2bf",
   "metadata": {},
   "source": [
    "### pub_rec_bankruptcies\n",
    "Number of public record bankruptcies"
   ]
  },
  {
   "cell_type": "code",
   "execution_count": 61,
   "id": "bb3995ad",
   "metadata": {},
   "outputs": [
    {
     "name": "stderr",
     "output_type": "stream",
     "text": [
      "C:\\Users\\bhavit\\anaconda\\lib\\site-packages\\seaborn\\_decorators.py:36: FutureWarning: Pass the following variable as a keyword arg: x. From version 0.12, the only valid positional argument will be `data`, and passing other arguments without an explicit keyword will result in an error or misinterpretation.\n",
      "  warnings.warn(\n",
      "C:\\Users\\bhavit\\anaconda\\lib\\site-packages\\seaborn\\_decorators.py:36: FutureWarning: Pass the following variable as a keyword arg: x. From version 0.12, the only valid positional argument will be `data`, and passing other arguments without an explicit keyword will result in an error or misinterpretation.\n",
      "  warnings.warn(\n"
     ]
    },
    {
     "data": {
      "text/plain": [
       "<AxesSubplot:title={'center':'Grade vs Public record bankruptcies'}, xlabel='pub_rec_bankruptcies', ylabel='count'>"
      ]
     },
     "execution_count": 61,
     "metadata": {},
     "output_type": "execute_result"
    },
    {
     "data": {
      "image/png": "[encoded data removed]",
      "text/plain": [
       "<Figure size 1440x360 with 2 Axes>"
      ]
     },
     "metadata": {
      "needs_background": "light"
     },
     "output_type": "display_data"
    }
   ],
   "source": [
    "plt.figure(figsize=(20,5))\n",
    "plt.subplot(121)\n",
    "sns.countplot(loanDfwoId.pub_rec_bankruptcies, hue='term', data=loanDfwoId)\n",
    "plt.title('Terms vs Public record bankruptcies')\n",
    "plt.subplot(122)\n",
    "plt.title('Grade vs Public record bankruptcies')\n",
    "grade_ord = loanDfwoId.grade.unique()\n",
    "grade_ord.sort()\n",
    "sns.countplot(loanDfwoId.pub_rec_bankruptcies, hue='grade', data=loanDfwoId)"
   ]
  },
  {
   "cell_type": "markdown",
   "id": "32e0243b",
   "metadata": {},
   "source": [
    "## Bivariate Analysis:"
   ]
  },
  {
   "cell_type": "code",
   "execution_count": 62,
   "id": "73f7a188",
   "metadata": {},
   "outputs": [
    {
     "data": {
      "text/plain": [
       "Index(['loan_amnt', 'funded_amnt', 'funded_amnt_inv', 'term', 'int_rate',\n",
       "       'installment', 'grade', 'sub_grade', 'emp_length', 'home_ownership',\n",
       "       'annual_inc', 'verification_status', 'issue_d', 'loan_status',\n",
       "       'pymnt_plan', 'purpose', 'title', 'dti', 'delinq_2yrs',\n",
       "       'earliest_cr_line', 'inq_last_6mths', 'open_acc', 'pub_rec',\n",
       "       'revol_bal', 'revol_util', 'total_acc', 'initial_list_status',\n",
       "       'out_prncp', 'out_prncp_inv', 'total_pymnt', 'total_pymnt_inv',\n",
       "       'total_rec_prncp', 'total_rec_int', 'total_rec_late_fee', 'recoveries',\n",
       "       'collection_recovery_fee', 'last_pymnt_d', 'last_pymnt_amnt',\n",
       "       'collections_12_mths_ex_med', 'policy_code', 'application_type',\n",
       "       'acc_now_delinq', 'chargeoff_within_12_mths', 'delinq_amnt',\n",
       "       'pub_rec_bankruptcies', 'month', 'year', 'loan_amnt_cats',\n",
       "       'annual_inc_cats', 'int_rate_cats', 'dti_cats'],\n",
       "      dtype='object')"
      ]
     },
     "execution_count": 62,
     "metadata": {},
     "output_type": "execute_result"
    }
   ],
   "source": [
    "loanDfwoId.columns"
   ]
  },
  {
   "cell_type": "markdown",
   "id": "bead104d",
   "metadata": {},
   "source": []
  },
  {
   "cell_type": "markdown",
   "id": "ae090077",
   "metadata": {},
   "source": [
    "### Term vs Loan Status"
   ]
  },
  {
   "cell_type": "code",
   "execution_count": 63,
   "id": "64274a6a",
   "metadata": {},
   "outputs": [
    {
     "data": {
      "text/plain": [
       "Text(0.5, 1.0, 'Term vs Loan status')"
      ]
     },
     "execution_count": 63,
     "metadata": {},
     "output_type": "execute_result"
    },
    {
     "data": {
      "image/png": "[encoded data removed]",
      "text/plain": [
       "<Figure size 432x288 with 1 Axes>"
      ]
     },
     "metadata": {
      "needs_background": "light"
     },
     "output_type": "display_data"
    }
   ],
   "source": [
    "#% of distribution of values for each category\n",
    "df = loanDfwoId.groupby(['term', 'loan_status'], as_index=False)['loan_amnt'].count()\n",
    "df['proportion'] = df.groupby('term').transform(lambda x: x/x.sum())\n",
    "sns.barplot(x='term', y='proportion', hue='loan_status', data=df, hue_order = ['Fully Paid', 'Charged Off'])\n",
    "\n",
    "plt.title('Term vs Loan status')"
   ]
  },
  {
   "cell_type": "markdown",
   "id": "5196b1fd",
   "metadata": {},
   "source": [
    "**Observations**:  \n",
    "* % defualter borrowers in 60 months term are more then 36 months. \n",
    "* Fully Paid rate is higher in 36 months tenure."
   ]
  },
  {
   "cell_type": "markdown",
   "id": "005d0259",
   "metadata": {},
   "source": [
    "### Bivariate analysis between annual income category and default %"
   ]
  },
  {
   "cell_type": "code",
   "execution_count": 64,
   "id": "99ca908f",
   "metadata": {},
   "outputs": [
    {
     "data": {
      "text/html": [
       "<div>\n",
       "<style scoped>\n",
       "    .dataframe tbody tr th:only-of-type {\n",
       "        vertical-align: middle;\n",
       "    }\n",
       "\n",
       "    .dataframe tbody tr th {\n",
       "        vertical-align: top;\n",
       "    }\n",
       "\n",
       "    .dataframe thead th {\n",
       "        text-align: right;\n",
       "    }\n",
       "</style>\n",
       "<table border=\"1\" class=\"dataframe\">\n",
       "  <thead>\n",
       "    <tr style=\"text-align: right;\">\n",
       "      <th>loan_status</th>\n",
       "      <th>annual_inc_cats</th>\n",
       "      <th>Charged Off</th>\n",
       "      <th>Fully Paid</th>\n",
       "      <th>Total</th>\n",
       "      <th>defualt_prop</th>\n",
       "    </tr>\n",
       "  </thead>\n",
       "  <tbody>\n",
       "    <tr>\n",
       "      <th>0</th>\n",
       "      <td>0-20000</td>\n",
       "      <td>237</td>\n",
       "      <td>943</td>\n",
       "      <td>1180</td>\n",
       "      <td>0.201</td>\n",
       "    </tr>\n",
       "    <tr>\n",
       "      <th>1</th>\n",
       "      <td>20000-40000</td>\n",
       "      <td>1514</td>\n",
       "      <td>7004</td>\n",
       "      <td>8518</td>\n",
       "      <td>0.178</td>\n",
       "    </tr>\n",
       "    <tr>\n",
       "      <th>2</th>\n",
       "      <td>40000-60000</td>\n",
       "      <td>1729</td>\n",
       "      <td>9534</td>\n",
       "      <td>11263</td>\n",
       "      <td>0.154</td>\n",
       "    </tr>\n",
       "    <tr>\n",
       "      <th>3</th>\n",
       "      <td>60000-80000</td>\n",
       "      <td>1024</td>\n",
       "      <td>6597</td>\n",
       "      <td>7621</td>\n",
       "      <td>0.134</td>\n",
       "    </tr>\n",
       "    <tr>\n",
       "      <th>4</th>\n",
       "      <td>80000 +</td>\n",
       "      <td>1080</td>\n",
       "      <td>8529</td>\n",
       "      <td>9609</td>\n",
       "      <td>0.112</td>\n",
       "    </tr>\n",
       "  </tbody>\n",
       "</table>\n",
       "</div>"
      ],
      "text/plain": [
       "loan_status annual_inc_cats  Charged Off  Fully Paid  Total  defualt_prop\n",
       "0                   0-20000          237         943   1180         0.201\n",
       "1               20000-40000         1514        7004   8518         0.178\n",
       "2               40000-60000         1729        9534  11263         0.154\n",
       "3               60000-80000         1024        6597   7621         0.134\n",
       "4                   80000 +         1080        8529   9609         0.112"
      ]
     },
     "execution_count": 64,
     "metadata": {},
     "output_type": "execute_result"
    }
   ],
   "source": [
    "inc_bucket_vs_loan = loanDfwoId.groupby(['annual_inc_cats', 'loan_status']).loan_status.count().unstack().fillna(0).reset_index()\n",
    "inc_bucket_vs_loan['Total'] = inc_bucket_vs_loan['Charged Off'] + inc_bucket_vs_loan['Fully Paid'] \n",
    "inc_bucket_vs_loan['defualt_prop'] = inc_bucket_vs_loan['Charged Off'] / inc_bucket_vs_loan['Total']\n",
    "inc_bucket_vs_loan.sort_values('defualt_prop', ascending=False)"
   ]
  },
  {
   "cell_type": "code",
   "execution_count": 65,
   "id": "c996c365",
   "metadata": {},
   "outputs": [
    {
     "data": {
      "image/png": "[encoded data removed]",
      "text/plain": [
       "<Figure size 864x576 with 1 Axes>"
      ]
     },
     "metadata": {
      "needs_background": "light"
     },
     "output_type": "display_data"
    }
   ],
   "source": [
    "fig, ax1 = plt.subplots(figsize=(12, 8))\n",
    "ax1.set_title('Annual Income vs Defualt Proportion',fontsize=12,)\n",
    "ax1=sns.barplot(x='annual_inc_cats', y='defualt_prop', data=inc_bucket_vs_loan)\n",
    "ax1.set_ylabel('Chargedoff Proportion',fontsize=10)\n",
    "ax1.set_xlabel('Annual Income',fontsize=10)\n",
    "plt.show()\n"
   ]
  },
  {
   "cell_type": "markdown",
   "id": "d0ef7d60",
   "metadata": {},
   "source": [
    "**Observation**\n",
    "* As you can see higher annual income people have lesser defaults "
   ]
  },
  {
   "cell_type": "markdown",
   "id": "7acc02a8",
   "metadata": {},
   "source": [
    "### Bivariate analysis between purpose category and default proportion"
   ]
  },
  {
   "cell_type": "code",
   "execution_count": 66,
   "id": "64b415bc",
   "metadata": {},
   "outputs": [
    {
     "data": {
      "text/html": [
       "<div>\n",
       "<style scoped>\n",
       "    .dataframe tbody tr th:only-of-type {\n",
       "        vertical-align: middle;\n",
       "    }\n",
       "\n",
       "    .dataframe tbody tr th {\n",
       "        vertical-align: top;\n",
       "    }\n",
       "\n",
       "    .dataframe thead th {\n",
       "        text-align: right;\n",
       "    }\n",
       "</style>\n",
       "<table border=\"1\" class=\"dataframe\">\n",
       "  <thead>\n",
       "    <tr style=\"text-align: right;\">\n",
       "      <th>loan_status</th>\n",
       "      <th>purpose</th>\n",
       "      <th>Charged Off</th>\n",
       "      <th>Fully Paid</th>\n",
       "      <th>Total</th>\n",
       "      <th>defualt_prop</th>\n",
       "    </tr>\n",
       "  </thead>\n",
       "  <tbody>\n",
       "    <tr>\n",
       "      <th>11</th>\n",
       "      <td>small_business</td>\n",
       "      <td>472</td>\n",
       "      <td>1251</td>\n",
       "      <td>1723</td>\n",
       "      <td>0.274</td>\n",
       "    </tr>\n",
       "    <tr>\n",
       "      <th>10</th>\n",
       "      <td>renewable_energy</td>\n",
       "      <td>19</td>\n",
       "      <td>81</td>\n",
       "      <td>100</td>\n",
       "      <td>0.190</td>\n",
       "    </tr>\n",
       "    <tr>\n",
       "      <th>3</th>\n",
       "      <td>educational</td>\n",
       "      <td>55</td>\n",
       "      <td>268</td>\n",
       "      <td>323</td>\n",
       "      <td>0.170</td>\n",
       "    </tr>\n",
       "    <tr>\n",
       "      <th>9</th>\n",
       "      <td>other</td>\n",
       "      <td>629</td>\n",
       "      <td>3202</td>\n",
       "      <td>3831</td>\n",
       "      <td>0.164</td>\n",
       "    </tr>\n",
       "    <tr>\n",
       "      <th>5</th>\n",
       "      <td>house</td>\n",
       "      <td>58</td>\n",
       "      <td>299</td>\n",
       "      <td>357</td>\n",
       "      <td>0.162</td>\n",
       "    </tr>\n",
       "    <tr>\n",
       "      <th>8</th>\n",
       "      <td>moving</td>\n",
       "      <td>91</td>\n",
       "      <td>479</td>\n",
       "      <td>570</td>\n",
       "      <td>0.160</td>\n",
       "    </tr>\n",
       "    <tr>\n",
       "      <th>7</th>\n",
       "      <td>medical</td>\n",
       "      <td>106</td>\n",
       "      <td>568</td>\n",
       "      <td>674</td>\n",
       "      <td>0.157</td>\n",
       "    </tr>\n",
       "    <tr>\n",
       "      <th>2</th>\n",
       "      <td>debt_consolidation</td>\n",
       "      <td>2752</td>\n",
       "      <td>15165</td>\n",
       "      <td>17917</td>\n",
       "      <td>0.154</td>\n",
       "    </tr>\n",
       "    <tr>\n",
       "      <th>12</th>\n",
       "      <td>vacation</td>\n",
       "      <td>53</td>\n",
       "      <td>322</td>\n",
       "      <td>375</td>\n",
       "      <td>0.141</td>\n",
       "    </tr>\n",
       "    <tr>\n",
       "      <th>4</th>\n",
       "      <td>home_improvement</td>\n",
       "      <td>338</td>\n",
       "      <td>2459</td>\n",
       "      <td>2797</td>\n",
       "      <td>0.121</td>\n",
       "    </tr>\n",
       "    <tr>\n",
       "      <th>1</th>\n",
       "      <td>credit_card</td>\n",
       "      <td>537</td>\n",
       "      <td>4450</td>\n",
       "      <td>4987</td>\n",
       "      <td>0.108</td>\n",
       "    </tr>\n",
       "    <tr>\n",
       "      <th>0</th>\n",
       "      <td>car</td>\n",
       "      <td>160</td>\n",
       "      <td>1331</td>\n",
       "      <td>1491</td>\n",
       "      <td>0.107</td>\n",
       "    </tr>\n",
       "    <tr>\n",
       "      <th>6</th>\n",
       "      <td>major_purchase</td>\n",
       "      <td>220</td>\n",
       "      <td>1909</td>\n",
       "      <td>2129</td>\n",
       "      <td>0.103</td>\n",
       "    </tr>\n",
       "    <tr>\n",
       "      <th>13</th>\n",
       "      <td>wedding</td>\n",
       "      <td>94</td>\n",
       "      <td>823</td>\n",
       "      <td>917</td>\n",
       "      <td>0.103</td>\n",
       "    </tr>\n",
       "  </tbody>\n",
       "</table>\n",
       "</div>"
      ],
      "text/plain": [
       "loan_status             purpose  Charged Off  Fully Paid  Total  defualt_prop\n",
       "11               small_business          472        1251   1723         0.274\n",
       "10             renewable_energy           19          81    100         0.190\n",
       "3                   educational           55         268    323         0.170\n",
       "9                         other          629        3202   3831         0.164\n",
       "5                         house           58         299    357         0.162\n",
       "8                        moving           91         479    570         0.160\n",
       "7                       medical          106         568    674         0.157\n",
       "2            debt_consolidation         2752       15165  17917         0.154\n",
       "12                     vacation           53         322    375         0.141\n",
       "4              home_improvement          338        2459   2797         0.121\n",
       "1                   credit_card          537        4450   4987         0.108\n",
       "0                           car          160        1331   1491         0.107\n",
       "6                major_purchase          220        1909   2129         0.103\n",
       "13                      wedding           94         823    917         0.103"
      ]
     },
     "execution_count": 66,
     "metadata": {},
     "output_type": "execute_result"
    }
   ],
   "source": [
    "purpose_vs_loan = loanDfwoId.groupby(['purpose', 'loan_status']).loan_status.count().unstack().fillna(0).reset_index()\n",
    "purpose_vs_loan['Total'] = purpose_vs_loan['Charged Off'] + purpose_vs_loan['Fully Paid'] \n",
    "purpose_vs_loan['defualt_prop'] = purpose_vs_loan['Charged Off'] / purpose_vs_loan['Total']\n",
    "purpose_vs_loan.sort_values('defualt_prop', ascending=False)"
   ]
  },
  {
   "cell_type": "code",
   "execution_count": 71,
   "id": "dcf38590",
   "metadata": {},
   "outputs": [
    {
     "data": {
      "image/png": "[encoded data removed]",
      "text/plain": [
       "<Figure size 432x288 with 1 Axes>"
      ]
     },
     "metadata": {
      "needs_background": "light"
     },
     "output_type": "display_data"
    }
   ],
   "source": [
    "plot=sns.barplot(y='purpose', x='defualt_prop', data=purpose_vs_loan)"
   ]
  },
  {
   "cell_type": "markdown",
   "id": "8bb1e407",
   "metadata": {},
   "source": [
    "**Observation**\n",
    "* small business has higher chances to defult the loan and next is renewable energy  "
   ]
  },
  {
   "cell_type": "markdown",
   "id": "da98a965",
   "metadata": {},
   "source": [
    "### Bivariate analysis between interest rate category and default proportion"
   ]
  },
  {
   "cell_type": "code",
   "execution_count": 68,
   "id": "ce81f93c",
   "metadata": {},
   "outputs": [
    {
     "data": {
      "text/html": [
       "<div>\n",
       "<style scoped>\n",
       "    .dataframe tbody tr th:only-of-type {\n",
       "        vertical-align: middle;\n",
       "    }\n",
       "\n",
       "    .dataframe tbody tr th {\n",
       "        vertical-align: top;\n",
       "    }\n",
       "\n",
       "    .dataframe thead th {\n",
       "        text-align: right;\n",
       "    }\n",
       "</style>\n",
       "<table border=\"1\" class=\"dataframe\">\n",
       "  <thead>\n",
       "    <tr style=\"text-align: right;\">\n",
       "      <th></th>\n",
       "      <th>loan_amnt</th>\n",
       "      <th>funded_amnt</th>\n",
       "      <th>funded_amnt_inv</th>\n",
       "      <th>term</th>\n",
       "      <th>int_rate</th>\n",
       "      <th>installment</th>\n",
       "      <th>grade</th>\n",
       "      <th>sub_grade</th>\n",
       "      <th>emp_length</th>\n",
       "      <th>home_ownership</th>\n",
       "      <th>annual_inc</th>\n",
       "      <th>verification_status</th>\n",
       "      <th>issue_d</th>\n",
       "      <th>loan_status</th>\n",
       "      <th>pymnt_plan</th>\n",
       "      <th>purpose</th>\n",
       "      <th>title</th>\n",
       "      <th>dti</th>\n",
       "      <th>delinq_2yrs</th>\n",
       "      <th>earliest_cr_line</th>\n",
       "      <th>inq_last_6mths</th>\n",
       "      <th>open_acc</th>\n",
       "      <th>pub_rec</th>\n",
       "      <th>revol_bal</th>\n",
       "      <th>revol_util</th>\n",
       "      <th>total_acc</th>\n",
       "      <th>initial_list_status</th>\n",
       "      <th>out_prncp</th>\n",
       "      <th>out_prncp_inv</th>\n",
       "      <th>total_pymnt</th>\n",
       "      <th>total_pymnt_inv</th>\n",
       "      <th>total_rec_prncp</th>\n",
       "      <th>total_rec_int</th>\n",
       "      <th>total_rec_late_fee</th>\n",
       "      <th>recoveries</th>\n",
       "      <th>collection_recovery_fee</th>\n",
       "      <th>last_pymnt_d</th>\n",
       "      <th>last_pymnt_amnt</th>\n",
       "      <th>collections_12_mths_ex_med</th>\n",
       "      <th>policy_code</th>\n",
       "      <th>application_type</th>\n",
       "      <th>acc_now_delinq</th>\n",
       "      <th>chargeoff_within_12_mths</th>\n",
       "      <th>delinq_amnt</th>\n",
       "      <th>pub_rec_bankruptcies</th>\n",
       "      <th>month</th>\n",
       "      <th>year</th>\n",
       "      <th>loan_amnt_cats</th>\n",
       "      <th>annual_inc_cats</th>\n",
       "      <th>int_rate_cats</th>\n",
       "      <th>dti_cats</th>\n",
       "    </tr>\n",
       "  </thead>\n",
       "  <tbody>\n",
       "    <tr>\n",
       "      <th>0</th>\n",
       "      <td>5000</td>\n",
       "      <td>5000</td>\n",
       "      <td>4975.000</td>\n",
       "      <td>36</td>\n",
       "      <td>10.650</td>\n",
       "      <td>162.870</td>\n",
       "      <td>B</td>\n",
       "      <td>B2</td>\n",
       "      <td>10.000</td>\n",
       "      <td>RENT</td>\n",
       "      <td>24000.000</td>\n",
       "      <td>Verified</td>\n",
       "      <td>2011-12-01</td>\n",
       "      <td>Fully Paid</td>\n",
       "      <td>n</td>\n",
       "      <td>credit_card</td>\n",
       "      <td>Computer</td>\n",
       "      <td>27.650</td>\n",
       "      <td>0</td>\n",
       "      <td>Jan-85</td>\n",
       "      <td>1</td>\n",
       "      <td>3</td>\n",
       "      <td>0</td>\n",
       "      <td>13648</td>\n",
       "      <td>83.70</td>\n",
       "      <td>9</td>\n",
       "      <td>f</td>\n",
       "      <td>0.000</td>\n",
       "      <td>0.000</td>\n",
       "      <td>5863.155</td>\n",
       "      <td>5833.840</td>\n",
       "      <td>5000.000</td>\n",
       "      <td>863.160</td>\n",
       "      <td>0.000</td>\n",
       "      <td>0.000</td>\n",
       "      <td>0.000</td>\n",
       "      <td>Jan-15</td>\n",
       "      <td>171.620</td>\n",
       "      <td>0.000</td>\n",
       "      <td>1</td>\n",
       "      <td>INDIVIDUAL</td>\n",
       "      <td>0</td>\n",
       "      <td>0.000</td>\n",
       "      <td>0</td>\n",
       "      <td>0.000</td>\n",
       "      <td>Dec</td>\n",
       "      <td>2011</td>\n",
       "      <td>0-5000</td>\n",
       "      <td>20000-40000</td>\n",
       "      <td>10-12.5</td>\n",
       "      <td>NaN</td>\n",
       "    </tr>\n",
       "    <tr>\n",
       "      <th>1</th>\n",
       "      <td>2500</td>\n",
       "      <td>2500</td>\n",
       "      <td>2500.000</td>\n",
       "      <td>60</td>\n",
       "      <td>15.270</td>\n",
       "      <td>59.830</td>\n",
       "      <td>C</td>\n",
       "      <td>C4</td>\n",
       "      <td>1.000</td>\n",
       "      <td>RENT</td>\n",
       "      <td>30000.000</td>\n",
       "      <td>Source Verified</td>\n",
       "      <td>2011-12-01</td>\n",
       "      <td>Charged Off</td>\n",
       "      <td>n</td>\n",
       "      <td>car</td>\n",
       "      <td>bike</td>\n",
       "      <td>1.000</td>\n",
       "      <td>0</td>\n",
       "      <td>Apr-99</td>\n",
       "      <td>5</td>\n",
       "      <td>3</td>\n",
       "      <td>0</td>\n",
       "      <td>1687</td>\n",
       "      <td>9.40</td>\n",
       "      <td>4</td>\n",
       "      <td>f</td>\n",
       "      <td>0.000</td>\n",
       "      <td>0.000</td>\n",
       "      <td>1008.710</td>\n",
       "      <td>1008.710</td>\n",
       "      <td>456.460</td>\n",
       "      <td>435.170</td>\n",
       "      <td>0.000</td>\n",
       "      <td>117.080</td>\n",
       "      <td>1.110</td>\n",
       "      <td>Apr-13</td>\n",
       "      <td>119.660</td>\n",
       "      <td>0.000</td>\n",
       "      <td>1</td>\n",
       "      <td>INDIVIDUAL</td>\n",
       "      <td>0</td>\n",
       "      <td>0.000</td>\n",
       "      <td>0</td>\n",
       "      <td>0.000</td>\n",
       "      <td>Dec</td>\n",
       "      <td>2011</td>\n",
       "      <td>0-5000</td>\n",
       "      <td>20000-40000</td>\n",
       "      <td>15 +</td>\n",
       "      <td>0-5</td>\n",
       "    </tr>\n",
       "  </tbody>\n",
       "</table>\n",
       "</div>"
      ],
      "text/plain": [
       "   loan_amnt  funded_amnt  funded_amnt_inv term  int_rate  installment grade  \\\n",
       "0       5000         5000         4975.000   36    10.650      162.870     B   \n",
       "1       2500         2500         2500.000   60    15.270       59.830     C   \n",
       "\n",
       "  sub_grade  emp_length home_ownership  annual_inc verification_status  \\\n",
       "0        B2      10.000           RENT   24000.000            Verified   \n",
       "1        C4       1.000           RENT   30000.000     Source Verified   \n",
       "\n",
       "     issue_d  loan_status pymnt_plan      purpose     title    dti  \\\n",
       "0 2011-12-01   Fully Paid          n  credit_card  Computer 27.650   \n",
       "1 2011-12-01  Charged Off          n          car      bike  1.000   \n",
       "\n",
       "   delinq_2yrs earliest_cr_line  inq_last_6mths  open_acc  pub_rec  revol_bal  \\\n",
       "0            0           Jan-85               1         3        0      13648   \n",
       "1            0           Apr-99               5         3        0       1687   \n",
       "\n",
       "  revol_util  total_acc initial_list_status  out_prncp  out_prncp_inv  \\\n",
       "0      83.70          9                   f      0.000          0.000   \n",
       "1       9.40          4                   f      0.000          0.000   \n",
       "\n",
       "   total_pymnt  total_pymnt_inv  total_rec_prncp  total_rec_int  \\\n",
       "0     5863.155         5833.840         5000.000        863.160   \n",
       "1     1008.710         1008.710          456.460        435.170   \n",
       "\n",
       "   total_rec_late_fee  recoveries  collection_recovery_fee last_pymnt_d  \\\n",
       "0               0.000       0.000                    0.000       Jan-15   \n",
       "1               0.000     117.080                    1.110       Apr-13   \n",
       "\n",
       "   last_pymnt_amnt  collections_12_mths_ex_med  policy_code application_type  \\\n",
       "0          171.620                       0.000            1       INDIVIDUAL   \n",
       "1          119.660                       0.000            1       INDIVIDUAL   \n",
       "\n",
       "   acc_now_delinq  chargeoff_within_12_mths  delinq_amnt pub_rec_bankruptcies  \\\n",
       "0               0                     0.000            0                0.000   \n",
       "1               0                     0.000            0                0.000   \n",
       "\n",
       "  month  year loan_amnt_cats annual_inc_cats int_rate_cats dti_cats  \n",
       "0   Dec  2011         0-5000     20000-40000       10-12.5      NaN  \n",
       "1   Dec  2011         0-5000     20000-40000          15 +      0-5  "
      ]
     },
     "execution_count": 68,
     "metadata": {},
     "output_type": "execute_result"
    }
   ],
   "source": [
    "loanDfwoId.head(2)"
   ]
  },
  {
   "cell_type": "code",
   "execution_count": 69,
   "id": "9cf42fbb",
   "metadata": {},
   "outputs": [
    {
     "data": {
      "text/html": [
       "<div>\n",
       "<style scoped>\n",
       "    .dataframe tbody tr th:only-of-type {\n",
       "        vertical-align: middle;\n",
       "    }\n",
       "\n",
       "    .dataframe tbody tr th {\n",
       "        vertical-align: top;\n",
       "    }\n",
       "\n",
       "    .dataframe thead th {\n",
       "        text-align: right;\n",
       "    }\n",
       "</style>\n",
       "<table border=\"1\" class=\"dataframe\">\n",
       "  <thead>\n",
       "    <tr style=\"text-align: right;\">\n",
       "      <th>loan_status</th>\n",
       "      <th>int_rate_cats</th>\n",
       "      <th>Charged Off</th>\n",
       "      <th>Fully Paid</th>\n",
       "      <th>Total</th>\n",
       "      <th>defualt_prop</th>\n",
       "    </tr>\n",
       "  </thead>\n",
       "  <tbody>\n",
       "    <tr>\n",
       "      <th>3</th>\n",
       "      <td>15 +</td>\n",
       "      <td>1775</td>\n",
       "      <td>5349</td>\n",
       "      <td>7124</td>\n",
       "      <td>0.249</td>\n",
       "    </tr>\n",
       "    <tr>\n",
       "      <th>2</th>\n",
       "      <td>12.5-15</td>\n",
       "      <td>1470</td>\n",
       "      <td>7321</td>\n",
       "      <td>8791</td>\n",
       "      <td>0.167</td>\n",
       "    </tr>\n",
       "    <tr>\n",
       "      <th>1</th>\n",
       "      <td>10-12.5</td>\n",
       "      <td>1224</td>\n",
       "      <td>8083</td>\n",
       "      <td>9307</td>\n",
       "      <td>0.132</td>\n",
       "    </tr>\n",
       "    <tr>\n",
       "      <th>0</th>\n",
       "      <td>0-10</td>\n",
       "      <td>825</td>\n",
       "      <td>11402</td>\n",
       "      <td>12227</td>\n",
       "      <td>0.067</td>\n",
       "    </tr>\n",
       "  </tbody>\n",
       "</table>\n",
       "</div>"
      ],
      "text/plain": [
       "loan_status int_rate_cats  Charged Off  Fully Paid  Total  defualt_prop\n",
       "3                    15 +         1775        5349   7124         0.249\n",
       "2                 12.5-15         1470        7321   8791         0.167\n",
       "1                 10-12.5         1224        8083   9307         0.132\n",
       "0                    0-10          825       11402  12227         0.067"
      ]
     },
     "execution_count": 69,
     "metadata": {},
     "output_type": "execute_result"
    }
   ],
   "source": [
    "intrt_vs_loan = loanDfwoId.groupby(['int_rate_cats', 'loan_status']).loan_status.count().unstack().fillna(0).reset_index()\n",
    "intrt_vs_loan['Total'] = intrt_vs_loan['Charged Off'] + intrt_vs_loan['Fully Paid'] \n",
    "intrt_vs_loan['defualt_prop'] = intrt_vs_loan['Charged Off'] / intrt_vs_loan['Total']\n",
    "intrt_vs_loan.sort_values('defualt_prop', ascending=False)"
   ]
  },
  {
   "cell_type": "code",
   "execution_count": 73,
   "id": "1d3abfaf",
   "metadata": {},
   "outputs": [
    {
     "data": {
      "image/png": "[encoded data removed]",
      "text/plain": [
       "<Figure size 864x576 with 1 Axes>"
      ]
     },
     "metadata": {
      "needs_background": "light"
     },
     "output_type": "display_data"
    }
   ],
   "source": [
    "fig, ax1 = plt.subplots(figsize=(12, 8))\n",
    "ax1.set_title('interest rates vs Defualt Proportion',fontsize=12,)\n",
    "ax1=sns.barplot(x='int_rate_cats', y='defualt_prop', data=intrt_vs_loan)\n",
    "ax1.set_ylabel('Defualt Proportion',fontsize=10)\n",
    "ax1.set_xlabel('Interest Rates',fontsize=10)\n",
    "plt.show()\n"
   ]
  },
  {
   "cell_type": "markdown",
   "id": "542fa620",
   "metadata": {},
   "source": [
    "**Observation**\n",
    "* Higher Interest rates has higher chances to defult the loan"
   ]
  },
  {
   "cell_type": "markdown",
   "id": "afe9bcad",
   "metadata": {},
   "source": [
    "### Bivariate analysis between employment length category and default proportion"
   ]
  },
  {
   "cell_type": "code",
   "execution_count": 74,
   "id": "099e9345",
   "metadata": {},
   "outputs": [
    {
     "data": {
      "text/html": [
       "<div>\n",
       "<style scoped>\n",
       "    .dataframe tbody tr th:only-of-type {\n",
       "        vertical-align: middle;\n",
       "    }\n",
       "\n",
       "    .dataframe tbody tr th {\n",
       "        vertical-align: top;\n",
       "    }\n",
       "\n",
       "    .dataframe thead th {\n",
       "        text-align: right;\n",
       "    }\n",
       "</style>\n",
       "<table border=\"1\" class=\"dataframe\">\n",
       "  <thead>\n",
       "    <tr style=\"text-align: right;\">\n",
       "      <th>loan_status</th>\n",
       "      <th>emp_length</th>\n",
       "      <th>Charged Off</th>\n",
       "      <th>Fully Paid</th>\n",
       "      <th>Total</th>\n",
       "      <th>defualt_prop</th>\n",
       "    </tr>\n",
       "  </thead>\n",
       "  <tbody>\n",
       "    <tr>\n",
       "      <th>0</th>\n",
       "      <td>0.000</td>\n",
       "      <td>227</td>\n",
       "      <td>801</td>\n",
       "      <td>1028</td>\n",
       "      <td>0.221</td>\n",
       "    </tr>\n",
       "    <tr>\n",
       "      <th>10</th>\n",
       "      <td>10.000</td>\n",
       "      <td>1316</td>\n",
       "      <td>7038</td>\n",
       "      <td>8354</td>\n",
       "      <td>0.158</td>\n",
       "    </tr>\n",
       "    <tr>\n",
       "      <th>7</th>\n",
       "      <td>7.000</td>\n",
       "      <td>262</td>\n",
       "      <td>1435</td>\n",
       "      <td>1697</td>\n",
       "      <td>0.154</td>\n",
       "    </tr>\n",
       "    <tr>\n",
       "      <th>5</th>\n",
       "      <td>5.000</td>\n",
       "      <td>456</td>\n",
       "      <td>2712</td>\n",
       "      <td>3168</td>\n",
       "      <td>0.144</td>\n",
       "    </tr>\n",
       "    <tr>\n",
       "      <th>8</th>\n",
       "      <td>8.000</td>\n",
       "      <td>203</td>\n",
       "      <td>1216</td>\n",
       "      <td>1419</td>\n",
       "      <td>0.143</td>\n",
       "    </tr>\n",
       "    <tr>\n",
       "      <th>1</th>\n",
       "      <td>1.000</td>\n",
       "      <td>1090</td>\n",
       "      <td>6532</td>\n",
       "      <td>7622</td>\n",
       "      <td>0.143</td>\n",
       "    </tr>\n",
       "    <tr>\n",
       "      <th>6</th>\n",
       "      <td>6.000</td>\n",
       "      <td>305</td>\n",
       "      <td>1846</td>\n",
       "      <td>2151</td>\n",
       "      <td>0.142</td>\n",
       "    </tr>\n",
       "    <tr>\n",
       "      <th>3</th>\n",
       "      <td>3.000</td>\n",
       "      <td>551</td>\n",
       "      <td>3426</td>\n",
       "      <td>3977</td>\n",
       "      <td>0.139</td>\n",
       "    </tr>\n",
       "    <tr>\n",
       "      <th>4</th>\n",
       "      <td>4.000</td>\n",
       "      <td>456</td>\n",
       "      <td>2859</td>\n",
       "      <td>3315</td>\n",
       "      <td>0.138</td>\n",
       "    </tr>\n",
       "    <tr>\n",
       "      <th>2</th>\n",
       "      <td>2.000</td>\n",
       "      <td>561</td>\n",
       "      <td>3684</td>\n",
       "      <td>4245</td>\n",
       "      <td>0.132</td>\n",
       "    </tr>\n",
       "    <tr>\n",
       "      <th>9</th>\n",
       "      <td>9.000</td>\n",
       "      <td>157</td>\n",
       "      <td>1058</td>\n",
       "      <td>1215</td>\n",
       "      <td>0.129</td>\n",
       "    </tr>\n",
       "  </tbody>\n",
       "</table>\n",
       "</div>"
      ],
      "text/plain": [
       "loan_status  emp_length  Charged Off  Fully Paid  Total  defualt_prop\n",
       "0                 0.000          227         801   1028         0.221\n",
       "10               10.000         1316        7038   8354         0.158\n",
       "7                 7.000          262        1435   1697         0.154\n",
       "5                 5.000          456        2712   3168         0.144\n",
       "8                 8.000          203        1216   1419         0.143\n",
       "1                 1.000         1090        6532   7622         0.143\n",
       "6                 6.000          305        1846   2151         0.142\n",
       "3                 3.000          551        3426   3977         0.139\n",
       "4                 4.000          456        2859   3315         0.138\n",
       "2                 2.000          561        3684   4245         0.132\n",
       "9                 9.000          157        1058   1215         0.129"
      ]
     },
     "execution_count": 74,
     "metadata": {},
     "output_type": "execute_result"
    }
   ],
   "source": [
    "emplength_vs_loan = loanDfwoId.groupby(['emp_length', 'loan_status']).loan_status.count().unstack().fillna(0).reset_index()\n",
    "emplength_vs_loan['Total'] = emplength_vs_loan['Charged Off'] + emplength_vs_loan['Fully Paid'] \n",
    "emplength_vs_loan['defualt_prop'] = emplength_vs_loan['Charged Off'] / emplength_vs_loan['Total']\n",
    "emplength_vs_loan.sort_values('defualt_prop', ascending=False)"
   ]
  },
  {
   "cell_type": "code",
   "execution_count": 75,
   "id": "d3180cbf",
   "metadata": {},
   "outputs": [
    {
     "data": {
      "image/png": "[encoded data removed]",
      "text/plain": [
       "<Figure size 864x576 with 1 Axes>"
      ]
     },
     "metadata": {
      "needs_background": "light"
     },
     "output_type": "display_data"
    }
   ],
   "source": [
    "fig, ax1 = plt.subplots(figsize=(12, 8))\n",
    "ax1.set_title('Employment length vs Defualt Proportion',fontsize=12,)\n",
    "ax1=sns.barplot(x='emp_length', y='defualt_prop', data=emplength_vs_loan)\n",
    "ax1.set_ylabel('Defualt Proportion',fontsize=10)\n",
    "ax1.set_xlabel('Employment length',fontsize=10)\n",
    "plt.show()"
   ]
  },
  {
   "cell_type": "markdown",
   "id": "9fb41244",
   "metadata": {},
   "source": [
    "**Observation**\n",
    "* Minimum and maximum employment length has maximum defualt proportion"
   ]
  },
  {
   "cell_type": "markdown",
   "id": "c0ef7e4f",
   "metadata": {},
   "source": [
    "### Bivariate analysis between dti category and default proportion"
   ]
  },
  {
   "cell_type": "code",
   "execution_count": 76,
   "id": "38459aba",
   "metadata": {},
   "outputs": [
    {
     "data": {
      "text/html": [
       "<div>\n",
       "<style scoped>\n",
       "    .dataframe tbody tr th:only-of-type {\n",
       "        vertical-align: middle;\n",
       "    }\n",
       "\n",
       "    .dataframe tbody tr th {\n",
       "        vertical-align: top;\n",
       "    }\n",
       "\n",
       "    .dataframe thead th {\n",
       "        text-align: right;\n",
       "    }\n",
       "</style>\n",
       "<table border=\"1\" class=\"dataframe\">\n",
       "  <thead>\n",
       "    <tr style=\"text-align: right;\">\n",
       "      <th>loan_status</th>\n",
       "      <th>dti_cats</th>\n",
       "      <th>Charged Off</th>\n",
       "      <th>Fully Paid</th>\n",
       "      <th>Total</th>\n",
       "      <th>defualt_prop</th>\n",
       "    </tr>\n",
       "  </thead>\n",
       "  <tbody>\n",
       "    <tr>\n",
       "      <th>4</th>\n",
       "      <td>25+</td>\n",
       "      <td>1116</td>\n",
       "      <td>5455</td>\n",
       "      <td>6571</td>\n",
       "      <td>0.170</td>\n",
       "    </tr>\n",
       "    <tr>\n",
       "      <th>3</th>\n",
       "      <td>15-20</td>\n",
       "      <td>1385</td>\n",
       "      <td>7399</td>\n",
       "      <td>8784</td>\n",
       "      <td>0.158</td>\n",
       "    </tr>\n",
       "    <tr>\n",
       "      <th>2</th>\n",
       "      <td>10-15</td>\n",
       "      <td>1392</td>\n",
       "      <td>8164</td>\n",
       "      <td>9556</td>\n",
       "      <td>0.146</td>\n",
       "    </tr>\n",
       "    <tr>\n",
       "      <th>1</th>\n",
       "      <td>05-10</td>\n",
       "      <td>996</td>\n",
       "      <td>6749</td>\n",
       "      <td>7745</td>\n",
       "      <td>0.129</td>\n",
       "    </tr>\n",
       "    <tr>\n",
       "      <th>0</th>\n",
       "      <td>0-5</td>\n",
       "      <td>580</td>\n",
       "      <td>4157</td>\n",
       "      <td>4737</td>\n",
       "      <td>0.122</td>\n",
       "    </tr>\n",
       "  </tbody>\n",
       "</table>\n",
       "</div>"
      ],
      "text/plain": [
       "loan_status dti_cats  Charged Off  Fully Paid  Total  defualt_prop\n",
       "4                25+         1116        5455   6571         0.170\n",
       "3              15-20         1385        7399   8784         0.158\n",
       "2              10-15         1392        8164   9556         0.146\n",
       "1              05-10          996        6749   7745         0.129\n",
       "0                0-5          580        4157   4737         0.122"
      ]
     },
     "execution_count": 76,
     "metadata": {},
     "output_type": "execute_result"
    }
   ],
   "source": [
    "dti_vs_loan = loanDfwoId.groupby(['dti_cats', 'loan_status']).loan_status.count().unstack().fillna(0).reset_index()\n",
    "dti_vs_loan['Total'] = dti_vs_loan['Charged Off'] + dti_vs_loan['Fully Paid'] \n",
    "dti_vs_loan['defualt_prop'] = dti_vs_loan['Charged Off'] / dti_vs_loan['Total']\n",
    "dti_vs_loan.sort_values('defualt_prop', ascending=False)"
   ]
  },
  {
   "cell_type": "code",
   "execution_count": 77,
   "id": "a1c47384",
   "metadata": {},
   "outputs": [
    {
     "data": {
      "image/png": "[encoded data removed]",
      "text/plain": [
       "<Figure size 864x576 with 1 Axes>"
      ]
     },
     "metadata": {
      "needs_background": "light"
     },
     "output_type": "display_data"
    }
   ],
   "source": [
    "fig, ax1 = plt.subplots(figsize=(12, 8))\n",
    "ax1.set_title('Debt to Income vs Defualt Proportion',fontsize=12,)\n",
    "ax1=sns.barplot(x='dti_cats', y='defualt_prop', data=dti_vs_loan)\n",
    "ax1.set_ylabel('Defualt Proportion',fontsize=10)\n",
    "ax1.set_xlabel('Debt to Income ratio',fontsize=10)\n",
    "plt.show()"
   ]
  },
  {
   "cell_type": "markdown",
   "id": "0898e546",
   "metadata": {},
   "source": [
    "**Observation**\n",
    "* Higher DTI (Debt to Income) has higher chances to defualt"
   ]
  },
  {
   "cell_type": "markdown",
   "id": "e76fb454",
   "metadata": {},
   "source": [
    "### Bivariate analysis between verification category and default proportion"
   ]
  },
  {
   "cell_type": "code",
   "execution_count": 78,
   "id": "4d5b585a",
   "metadata": {},
   "outputs": [
    {
     "data": {
      "text/plain": [
       "Index(['loan_amnt', 'funded_amnt', 'funded_amnt_inv', 'term', 'int_rate',\n",
       "       'installment', 'grade', 'sub_grade', 'emp_length', 'home_ownership',\n",
       "       'annual_inc', 'verification_status', 'issue_d', 'loan_status',\n",
       "       'pymnt_plan', 'purpose', 'title', 'dti', 'delinq_2yrs',\n",
       "       'earliest_cr_line', 'inq_last_6mths', 'open_acc', 'pub_rec',\n",
       "       'revol_bal', 'revol_util', 'total_acc', 'initial_list_status',\n",
       "       'out_prncp', 'out_prncp_inv', 'total_pymnt', 'total_pymnt_inv',\n",
       "       'total_rec_prncp', 'total_rec_int', 'total_rec_late_fee', 'recoveries',\n",
       "       'collection_recovery_fee', 'last_pymnt_d', 'last_pymnt_amnt',\n",
       "       'collections_12_mths_ex_med', 'policy_code', 'application_type',\n",
       "       'acc_now_delinq', 'chargeoff_within_12_mths', 'delinq_amnt',\n",
       "       'pub_rec_bankruptcies', 'month', 'year', 'loan_amnt_cats',\n",
       "       'annual_inc_cats', 'int_rate_cats', 'dti_cats'],\n",
       "      dtype='object')"
      ]
     },
     "execution_count": 78,
     "metadata": {},
     "output_type": "execute_result"
    }
   ],
   "source": [
    "loanDfwoId.columns"
   ]
  },
  {
   "cell_type": "code",
   "execution_count": 79,
   "id": "d3171c90",
   "metadata": {},
   "outputs": [
    {
     "data": {
      "text/html": [
       "<div>\n",
       "<style scoped>\n",
       "    .dataframe tbody tr th:only-of-type {\n",
       "        vertical-align: middle;\n",
       "    }\n",
       "\n",
       "    .dataframe tbody tr th {\n",
       "        vertical-align: top;\n",
       "    }\n",
       "\n",
       "    .dataframe thead th {\n",
       "        text-align: right;\n",
       "    }\n",
       "</style>\n",
       "<table border=\"1\" class=\"dataframe\">\n",
       "  <thead>\n",
       "    <tr style=\"text-align: right;\">\n",
       "      <th>loan_status</th>\n",
       "      <th>verification_status</th>\n",
       "      <th>Charged Off</th>\n",
       "      <th>Fully Paid</th>\n",
       "      <th>Total</th>\n",
       "      <th>defualt_prop</th>\n",
       "    </tr>\n",
       "  </thead>\n",
       "  <tbody>\n",
       "    <tr>\n",
       "      <th>2</th>\n",
       "      <td>Verified</td>\n",
       "      <td>2032</td>\n",
       "      <td>9999</td>\n",
       "      <td>12031</td>\n",
       "      <td>0.169</td>\n",
       "    </tr>\n",
       "    <tr>\n",
       "      <th>1</th>\n",
       "      <td>Source Verified</td>\n",
       "      <td>1422</td>\n",
       "      <td>8134</td>\n",
       "      <td>9556</td>\n",
       "      <td>0.149</td>\n",
       "    </tr>\n",
       "    <tr>\n",
       "      <th>0</th>\n",
       "      <td>Not Verified</td>\n",
       "      <td>2130</td>\n",
       "      <td>14474</td>\n",
       "      <td>16604</td>\n",
       "      <td>0.128</td>\n",
       "    </tr>\n",
       "  </tbody>\n",
       "</table>\n",
       "</div>"
      ],
      "text/plain": [
       "loan_status verification_status  Charged Off  Fully Paid  Total  defualt_prop\n",
       "2                      Verified         2032        9999  12031         0.169\n",
       "1               Source Verified         1422        8134   9556         0.149\n",
       "0                  Not Verified         2130       14474  16604         0.128"
      ]
     },
     "execution_count": 79,
     "metadata": {},
     "output_type": "execute_result"
    }
   ],
   "source": [
    "verification_vs_loan = loanDfwoId.groupby(['verification_status', 'loan_status']).loan_status.count().unstack().fillna(0).reset_index()\n",
    "verification_vs_loan['Total'] = verification_vs_loan['Charged Off'] + verification_vs_loan['Fully Paid'] \n",
    "verification_vs_loan['defualt_prop'] = verification_vs_loan['Charged Off'] / verification_vs_loan['Total']\n",
    "verification_vs_loan.sort_values('defualt_prop', ascending=False)\n",
    "\n",
    "\n"
   ]
  },
  {
   "cell_type": "code",
   "execution_count": 80,
   "id": "18c58472",
   "metadata": {},
   "outputs": [
    {
     "data": {
      "image/png": "[encoded data removed]",
      "text/plain": [
       "<Figure size 864x576 with 1 Axes>"
      ]
     },
     "metadata": {
      "needs_background": "light"
     },
     "output_type": "display_data"
    }
   ],
   "source": [
    "fig, ax1 = plt.subplots(figsize=(12, 8))\n",
    "ax1.set_title('Verification status vs Defualt Proportion',fontsize=12,)\n",
    "ax1=sns.barplot(x='verification_status', y='defualt_prop', data=verification_vs_loan)\n",
    "ax1.set_ylabel('Defualt Proportion',fontsize=10)\n",
    "ax1.set_xlabel('Verification status',fontsize=10)\n",
    "plt.show()"
   ]
  },
  {
   "cell_type": "markdown",
   "id": "9aaf111c",
   "metadata": {},
   "source": [
    "**Observation**\n",
    "* Very strange behaviour as verified applicant has higher defualt % . Or it can be like high risk people are generaally verified "
   ]
  },
  {
   "cell_type": "markdown",
   "id": "35768799",
   "metadata": {},
   "source": [
    "### Bivariate analysis between public record bankcorrpt category and default proportion"
   ]
  },
  {
   "cell_type": "code",
   "execution_count": 82,
   "id": "5639e505",
   "metadata": {},
   "outputs": [
    {
     "data": {
      "text/html": [
       "<div>\n",
       "<style scoped>\n",
       "    .dataframe tbody tr th:only-of-type {\n",
       "        vertical-align: middle;\n",
       "    }\n",
       "\n",
       "    .dataframe tbody tr th {\n",
       "        vertical-align: top;\n",
       "    }\n",
       "\n",
       "    .dataframe thead th {\n",
       "        text-align: right;\n",
       "    }\n",
       "</style>\n",
       "<table border=\"1\" class=\"dataframe\">\n",
       "  <thead>\n",
       "    <tr style=\"text-align: right;\">\n",
       "      <th>loan_status</th>\n",
       "      <th>pub_rec_bankruptcies</th>\n",
       "      <th>Charged Off</th>\n",
       "      <th>Fully Paid</th>\n",
       "      <th>Total</th>\n",
       "      <th>defualt_prop</th>\n",
       "    </tr>\n",
       "  </thead>\n",
       "  <tbody>\n",
       "    <tr>\n",
       "      <th>2</th>\n",
       "      <td>2.000</td>\n",
       "      <td>2</td>\n",
       "      <td>3</td>\n",
       "      <td>5</td>\n",
       "      <td>0.400</td>\n",
       "    </tr>\n",
       "    <tr>\n",
       "      <th>1</th>\n",
       "      <td>1.000</td>\n",
       "      <td>365</td>\n",
       "      <td>1268</td>\n",
       "      <td>1633</td>\n",
       "      <td>0.224</td>\n",
       "    </tr>\n",
       "    <tr>\n",
       "      <th>3</th>\n",
       "      <td>unknown</td>\n",
       "      <td>116</td>\n",
       "      <td>572</td>\n",
       "      <td>688</td>\n",
       "      <td>0.169</td>\n",
       "    </tr>\n",
       "    <tr>\n",
       "      <th>0</th>\n",
       "      <td>0.000</td>\n",
       "      <td>5101</td>\n",
       "      <td>30764</td>\n",
       "      <td>35865</td>\n",
       "      <td>0.142</td>\n",
       "    </tr>\n",
       "  </tbody>\n",
       "</table>\n",
       "</div>"
      ],
      "text/plain": [
       "loan_status pub_rec_bankruptcies  Charged Off  Fully Paid  Total  defualt_prop\n",
       "2                          2.000            2           3      5         0.400\n",
       "1                          1.000          365        1268   1633         0.224\n",
       "3                        unknown          116         572    688         0.169\n",
       "0                          0.000         5101       30764  35865         0.142"
      ]
     },
     "execution_count": 82,
     "metadata": {},
     "output_type": "execute_result"
    }
   ],
   "source": [
    "bankcrpt_vs_loan = loanDfwoId.groupby(['pub_rec_bankruptcies', 'loan_status']).loan_status.count().unstack().fillna(0).reset_index()\n",
    "bankcrpt_vs_loan['Total'] = bankcrpt_vs_loan['Charged Off'] + bankcrpt_vs_loan['Fully Paid'] \n",
    "bankcrpt_vs_loan['defualt_prop'] = bankcrpt_vs_loan['Charged Off'] / bankcrpt_vs_loan['Total']\n",
    "bankcrpt_vs_loan.sort_values('defualt_prop', ascending=False)\n"
   ]
  },
  {
   "cell_type": "code",
   "execution_count": 83,
   "id": "f98b3c56",
   "metadata": {},
   "outputs": [
    {
     "data": {
      "image/png": "[encoded data removed]",
      "text/plain": [
       "<Figure size 864x576 with 1 Axes>"
      ]
     },
     "metadata": {
      "needs_background": "light"
     },
     "output_type": "display_data"
    }
   ],
   "source": [
    "fig, ax1 = plt.subplots(figsize=(12, 8))\n",
    "ax1.set_title('pub_rec_bankruptcies vs Defualt Proportion',fontsize=12,)\n",
    "ax1=sns.barplot(x='pub_rec_bankruptcies', y='defualt_prop', data=bankcrpt_vs_loan)\n",
    "ax1.set_ylabel('Defualt Proportion',fontsize=10)\n",
    "ax1.set_xlabel('pub_rec_bankruptcies',fontsize=10)\n",
    "plt.show()"
   ]
  },
  {
   "cell_type": "markdown",
   "id": "a0435ff0",
   "metadata": {},
   "source": [
    "**Observation**\n",
    "* Higher the number of public record bankruptcies , higher the chances of fefault"
   ]
  },
  {
   "cell_type": "markdown",
   "id": "1d6a6dd2",
   "metadata": {},
   "source": [
    "### Bivariate analysis between grade category and default proportion"
   ]
  },
  {
   "cell_type": "code",
   "execution_count": 86,
   "id": "5379f1f3",
   "metadata": {},
   "outputs": [
    {
     "data": {
      "text/html": [
       "<div>\n",
       "<style scoped>\n",
       "    .dataframe tbody tr th:only-of-type {\n",
       "        vertical-align: middle;\n",
       "    }\n",
       "\n",
       "    .dataframe tbody tr th {\n",
       "        vertical-align: top;\n",
       "    }\n",
       "\n",
       "    .dataframe thead th {\n",
       "        text-align: right;\n",
       "    }\n",
       "</style>\n",
       "<table border=\"1\" class=\"dataframe\">\n",
       "  <thead>\n",
       "    <tr style=\"text-align: right;\">\n",
       "      <th>loan_status</th>\n",
       "      <th>grade</th>\n",
       "      <th>Charged Off</th>\n",
       "      <th>Fully Paid</th>\n",
       "      <th>Total</th>\n",
       "      <th>defualt_prop</th>\n",
       "    </tr>\n",
       "  </thead>\n",
       "  <tbody>\n",
       "    <tr>\n",
       "      <th>6</th>\n",
       "      <td>G</td>\n",
       "      <td>99</td>\n",
       "      <td>190</td>\n",
       "      <td>289</td>\n",
       "      <td>0.343</td>\n",
       "    </tr>\n",
       "    <tr>\n",
       "      <th>5</th>\n",
       "      <td>F</td>\n",
       "      <td>312</td>\n",
       "      <td>642</td>\n",
       "      <td>954</td>\n",
       "      <td>0.327</td>\n",
       "    </tr>\n",
       "    <tr>\n",
       "      <th>4</th>\n",
       "      <td>E</td>\n",
       "      <td>704</td>\n",
       "      <td>1906</td>\n",
       "      <td>2610</td>\n",
       "      <td>0.270</td>\n",
       "    </tr>\n",
       "    <tr>\n",
       "      <th>3</th>\n",
       "      <td>D</td>\n",
       "      <td>1112</td>\n",
       "      <td>3915</td>\n",
       "      <td>5027</td>\n",
       "      <td>0.221</td>\n",
       "    </tr>\n",
       "    <tr>\n",
       "      <th>2</th>\n",
       "      <td>C</td>\n",
       "      <td>1342</td>\n",
       "      <td>6411</td>\n",
       "      <td>7753</td>\n",
       "      <td>0.173</td>\n",
       "    </tr>\n",
       "    <tr>\n",
       "      <th>1</th>\n",
       "      <td>B</td>\n",
       "      <td>1414</td>\n",
       "      <td>10167</td>\n",
       "      <td>11581</td>\n",
       "      <td>0.122</td>\n",
       "    </tr>\n",
       "    <tr>\n",
       "      <th>0</th>\n",
       "      <td>A</td>\n",
       "      <td>601</td>\n",
       "      <td>9376</td>\n",
       "      <td>9977</td>\n",
       "      <td>0.060</td>\n",
       "    </tr>\n",
       "  </tbody>\n",
       "</table>\n",
       "</div>"
      ],
      "text/plain": [
       "loan_status grade  Charged Off  Fully Paid  Total  defualt_prop\n",
       "6               G           99         190    289         0.343\n",
       "5               F          312         642    954         0.327\n",
       "4               E          704        1906   2610         0.270\n",
       "3               D         1112        3915   5027         0.221\n",
       "2               C         1342        6411   7753         0.173\n",
       "1               B         1414       10167  11581         0.122\n",
       "0               A          601        9376   9977         0.060"
      ]
     },
     "execution_count": 86,
     "metadata": {},
     "output_type": "execute_result"
    }
   ],
   "source": [
    "grade_vs_loan = loanDfwoId.groupby(['grade', 'loan_status']).loan_status.count().unstack().fillna(0).reset_index()\n",
    "grade_vs_loan['Total'] = grade_vs_loan['Charged Off'] + grade_vs_loan['Fully Paid'] \n",
    "grade_vs_loan['defualt_prop'] = grade_vs_loan['Charged Off'] / grade_vs_loan['Total']\n",
    "grade_vs_loan.sort_values('defualt_prop', ascending=False)\n",
    "\n"
   ]
  },
  {
   "cell_type": "code",
   "execution_count": 87,
   "id": "9cb4b334",
   "metadata": {},
   "outputs": [
    {
     "data": {
      "image/png": "[encoded data removed]",
      "text/plain": [
       "<Figure size 864x576 with 1 Axes>"
      ]
     },
     "metadata": {
      "needs_background": "light"
     },
     "output_type": "display_data"
    }
   ],
   "source": [
    "fig, ax1 = plt.subplots(figsize=(12, 8))\n",
    "ax1.set_title('Grades vs Defualt Proportion',fontsize=12,)\n",
    "ax1=sns.barplot(x='grade', y='defualt_prop', data=grade_vs_loan)\n",
    "ax1.set_ylabel('Defualt Proportion',fontsize=10)\n",
    "ax1.set_xlabel('Grades',fontsize=10)\n",
    "plt.show()"
   ]
  },
  {
   "cell_type": "markdown",
   "id": "3a6a497d",
   "metadata": {},
   "source": [
    "**Observation**\n",
    "* Lower the grade , higher the chances of fefault"
   ]
  },
  {
   "cell_type": "markdown",
   "id": "57749e71",
   "metadata": {},
   "source": [
    "### Overall correlation between important numeric feature columns"
   ]
  },
  {
   "cell_type": "code",
   "execution_count": 89,
   "id": "aca1ee51",
   "metadata": {},
   "outputs": [
    {
     "data": {
      "image/png": "[encoded data removed]",
      "text/plain": [
       "<Figure size 864x576 with 4 Axes>"
      ]
     },
     "metadata": {},
     "output_type": "display_data"
    }
   ],
   "source": [
    "# Heatmap to show closeness among numerical variables.\n",
    "loan_correlation = loanDfwoId[['loan_amnt','funded_amnt','int_rate','funded_amnt_inv','installment','annual_inc','dti','emp_length','total_pymnt']].corr()\n",
    "sns.set(font_scale=1.1)\n",
    "sns.clustermap(loan_correlation,annot=True,figsize=(12, 8))\n",
    "plt.show()\n"
   ]
  },
  {
   "cell_type": "markdown",
   "id": "9746ab2a",
   "metadata": {},
   "source": [
    " **Observation** \n",
    " * Loan amount, investor amount, funding amount are strongly correlated.\n",
    " * emp_length has less correlation with loan amount which is surprsing either it should be less or high\n",
    " * DTI has negative correlation with annual income.\n",
    " * annual income and loan amount are positive correlated i.e. Higher annual income has higher loam amount approved.\n",
    " * emp_lenth and annual income are not strongly correlated which is surprsing\n"
   ]
  },
  {
   "cell_type": "code",
   "execution_count": null,
   "id": "e2ed4819",
   "metadata": {},
   "outputs": [],
   "source": []
  }
 ],
 "metadata": {
  "kernelspec": {
   "display_name": "Python 3",
   "language": "python",
   "name": "python3"
  },
  "language_info": {
   "codemirror_mode": {
    "name": "ipython",
    "version": 3
   },
   "file_extension": ".py",
   "mimetype": "text/x-python",
   "name": "python",
   "nbconvert_exporter": "python",
   "pygments_lexer": "ipython3",
   "version": "3.8.8"
  }
 },
 "nbformat": 4,
 "nbformat_minor": 5
}
